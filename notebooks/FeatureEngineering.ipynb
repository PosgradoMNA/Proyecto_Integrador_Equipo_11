{
 "cells": [
  {
   "cell_type": "markdown",
   "id": "5e347c9c767d8b48",
   "metadata": {},
   "source": [
    "# Ingeniería de Características (Feature Engineering) de Base de Datos de EMOTHAW"
   ]
  },
  {
   "cell_type": "markdown",
   "id": "32e3f191fe888a0a",
   "metadata": {},
   "source": [
    "**Proyecto Integrador TC5035.10**\n",
    "\n",
    "**Profesor Asesor:**\n",
    "- Dra. Ludivina Facundo (ITESM)\n",
    "\n",
    "\n",
    "**Profesores Investigadores/Tutores:**\n",
    "- Dr. Juan Arturo Nolazco (ITESM)\n",
    "- Dr. Marcos Faunez Zaunuy (TecnoCampus Barcelona)\n",
    "\n",
    "**Equipo 11:** \n",
    "- Francisco José Arellano Montes (A01794283)\n",
    "- Armando Bringas Corpus (A01200230)\n",
    "- Moisés Díaz Malagón (A01208580)"
   ]
  },
  {
   "cell_type": "markdown",
   "id": "6ea2e84a7fd20ccc",
   "metadata": {},
   "source": [
    "## Importación de librerías"
   ]
  },
  {
   "cell_type": "code",
   "id": "1abe7977bca6f130",
   "metadata": {
    "ExecuteTime": {
     "end_time": "2025-02-02T01:13:28.416024Z",
     "start_time": "2025-02-02T01:13:28.411512Z"
    }
   },
   "source": [
    "# Bibliotecas básicas\n",
    "import numpy as np\n",
    "import pandas as pd\n",
    "from sklearn.base import BaseEstimator, TransformerMixin\n",
    "from sklearn.compose import ColumnTransformer\n",
    "from sklearn.pipeline import Pipeline\n",
    "import pywt\n",
    "from sklearn.manifold import LocallyLinearEmbedding\n",
    "from sklearn.feature_selection import SelectKBest, mutual_info_classif\n",
    "from sklearn.decomposition import PCA\n",
    "\n",
    "# Bibliotecas para visualización\n",
    "import matplotlib.pyplot as plt\n",
    "import seaborn as sns"
   ],
   "outputs": [],
   "execution_count": 42
  },
  {
   "cell_type": "markdown",
   "id": "f25f772aa69aaa77",
   "metadata": {},
   "source": [
    "## Carga de datos de la fase de EDA"
   ]
  },
  {
   "cell_type": "markdown",
   "id": "b4c23f2d38dbe192",
   "metadata": {},
   "source": [
    "Cargado de los datos preprocesados en la fase de EDA. \n",
    "\n",
    "TODO: mencionar que en el EDA ya se aleatorizaron los datos con la función train_test_split"
   ]
  },
  {
   "cell_type": "code",
   "id": "6bfab6083e765584",
   "metadata": {
    "ExecuteTime": {
     "end_time": "2025-02-02T01:13:28.756449Z",
     "start_time": "2025-02-02T01:13:28.752123Z"
    }
   },
   "source": [
    "def cargar_datos():\n",
    "    \"\"\"\n",
    "    Carga los datos preprocesados del análisis exploratorio\n",
    "    \"\"\"\n",
    "    X_train = pd.read_parquet('../data/raw_binary/X_train.parquet')\n",
    "    y_train = pd.read_parquet('../data/raw_binary/y_train.parquet')\n",
    "    X_val = pd.read_parquet('../data/raw_binary/X_val.parquet')\n",
    "    y_val = pd.read_parquet('../data/raw_binary/y_val.parquet')\n",
    "    X_test = pd.read_parquet('../data/raw_binary/X_test.parquet')\n",
    "    y_test = pd.read_parquet('../data/raw_binary/y_test.parquet')\n",
    "    return X_train, y_train, X_val, y_val, X_test, y_test"
   ],
   "outputs": [],
   "execution_count": 43
  },
  {
   "cell_type": "code",
   "id": "6f40c00b",
   "metadata": {
    "ExecuteTime": {
     "end_time": "2025-02-02T01:13:28.847692Z",
     "start_time": "2025-02-02T01:13:28.773067Z"
    }
   },
   "source": [
    "X_train, y_train, X_val, y_val, X_test, y_test = cargar_datos()\n"
   ],
   "outputs": [],
   "execution_count": 44
  },
  {
   "cell_type": "code",
   "id": "20b5bd14",
   "metadata": {
    "ExecuteTime": {
     "end_time": "2025-02-02T01:13:31.677153Z",
     "start_time": "2025-02-02T01:13:28.848599Z"
    }
   },
   "source": [
    "x_mean = X_train['x'].explode().mean()\n",
    "x_std = X_train['x'].explode().std()\n",
    "y_mean = X_train['y'].explode().mean()\n",
    "y_std = X_train['y'].explode().std()"
   ],
   "outputs": [],
   "execution_count": 45
  },
  {
   "cell_type": "code",
   "id": "81e07196",
   "metadata": {
    "ExecuteTime": {
     "end_time": "2025-02-02T01:13:31.687568Z",
     "start_time": "2025-02-02T01:13:31.678159Z"
    }
   },
   "source": [
    "X_train.head(1)"
   ],
   "outputs": [
    {
     "data": {
      "text/plain": [
       "         homework  pen_status  \\\n",
       "Subject                         \n",
       "126             4           1   \n",
       "\n",
       "                                                         x  \\\n",
       "Subject                                                      \n",
       "126      [38473, 38481, 38490, 38499, 38514, 38531, 385...   \n",
       "\n",
       "                                                         y  \\\n",
       "Subject                                                      \n",
       "126      [15452, 15453, 15454, 15458, 15463, 15469, 154...   \n",
       "\n",
       "                                                   azimuth  \\\n",
       "Subject                                                      \n",
       "126      [3440, 3440, 3440, 3430, 3430, 3430, 3430, 343...   \n",
       "\n",
       "                                                  altitude  \\\n",
       "Subject                                                      \n",
       "126      [540, 540, 540, 540, 540, 540, 540, 540, 540, ...   \n",
       "\n",
       "                                                  pressure  \n",
       "Subject                                                     \n",
       "126      [16, 24, 25, 29, 29, 31, 35, 42, 55, 70, 80, 9...  "
      ],
      "text/html": [
       "<div>\n",
       "<style scoped>\n",
       "    .dataframe tbody tr th:only-of-type {\n",
       "        vertical-align: middle;\n",
       "    }\n",
       "\n",
       "    .dataframe tbody tr th {\n",
       "        vertical-align: top;\n",
       "    }\n",
       "\n",
       "    .dataframe thead th {\n",
       "        text-align: right;\n",
       "    }\n",
       "</style>\n",
       "<table border=\"1\" class=\"dataframe\">\n",
       "  <thead>\n",
       "    <tr style=\"text-align: right;\">\n",
       "      <th></th>\n",
       "      <th>homework</th>\n",
       "      <th>pen_status</th>\n",
       "      <th>x</th>\n",
       "      <th>y</th>\n",
       "      <th>azimuth</th>\n",
       "      <th>altitude</th>\n",
       "      <th>pressure</th>\n",
       "    </tr>\n",
       "    <tr>\n",
       "      <th>Subject</th>\n",
       "      <th></th>\n",
       "      <th></th>\n",
       "      <th></th>\n",
       "      <th></th>\n",
       "      <th></th>\n",
       "      <th></th>\n",
       "      <th></th>\n",
       "    </tr>\n",
       "  </thead>\n",
       "  <tbody>\n",
       "    <tr>\n",
       "      <th>126</th>\n",
       "      <td>4</td>\n",
       "      <td>1</td>\n",
       "      <td>[38473, 38481, 38490, 38499, 38514, 38531, 385...</td>\n",
       "      <td>[15452, 15453, 15454, 15458, 15463, 15469, 154...</td>\n",
       "      <td>[3440, 3440, 3440, 3430, 3430, 3430, 3430, 343...</td>\n",
       "      <td>[540, 540, 540, 540, 540, 540, 540, 540, 540, ...</td>\n",
       "      <td>[16, 24, 25, 29, 29, 31, 35, 42, 55, 70, 80, 9...</td>\n",
       "    </tr>\n",
       "  </tbody>\n",
       "</table>\n",
       "</div>"
      ]
     },
     "execution_count": 46,
     "metadata": {},
     "output_type": "execute_result"
    }
   ],
   "execution_count": 46
  },
  {
   "cell_type": "code",
   "id": "4b51d246",
   "metadata": {
    "ExecuteTime": {
     "end_time": "2025-02-02T01:13:31.693604Z",
     "start_time": "2025-02-02T01:13:31.688574Z"
    }
   },
   "source": [
    "X_train.shape"
   ],
   "outputs": [
    {
     "data": {
      "text/plain": [
       "(476, 7)"
      ]
     },
     "execution_count": 47,
     "metadata": {},
     "output_type": "execute_result"
    }
   ],
   "execution_count": 47
  },
  {
   "cell_type": "code",
   "id": "093a0acf",
   "metadata": {
    "ExecuteTime": {
     "end_time": "2025-02-02T01:13:31.709739Z",
     "start_time": "2025-02-02T01:13:31.694613Z"
    }
   },
   "source": [
    "normalized_x = (X_train['x'] - x_mean) / x_std\n",
    "normalized_y = (X_train['y'] - y_mean) / y_std"
   ],
   "outputs": [],
   "execution_count": 48
  },
  {
   "cell_type": "code",
   "id": "5e77cccf",
   "metadata": {
    "ExecuteTime": {
     "end_time": "2025-02-02T01:13:31.715363Z",
     "start_time": "2025-02-02T01:13:31.710745Z"
    }
   },
   "source": [
    "normalized_train_df = pd.concat([X_train[['homework','pen_status']], normalized_x, normalized_y], axis=1)"
   ],
   "outputs": [],
   "execution_count": 49
  },
  {
   "cell_type": "code",
   "id": "4e0fb024",
   "metadata": {
    "ExecuteTime": {
     "end_time": "2025-02-02T01:13:31.729422Z",
     "start_time": "2025-02-02T01:13:31.716370Z"
    }
   },
   "source": [
    "normalized_train_df.head()"
   ],
   "outputs": [
    {
     "data": {
      "text/plain": [
       "         homework  pen_status  \\\n",
       "Subject                         \n",
       "126             4           1   \n",
       "107             1           1   \n",
       "17              4           1   \n",
       "25              6           0   \n",
       "100             3           1   \n",
       "\n",
       "                                                         x  \\\n",
       "Subject                                                      \n",
       "126      [0.4658252256020692, 0.4664245172768823, 0.467...   \n",
       "107      [1.3548744251872404, 1.3542002220530756, 1.353...   \n",
       "17       [0.12310529906835183, 0.1216819813406708, 0.12...   \n",
       "25       [-0.43461051580455, -0.44487338573572366, -0.4...   \n",
       "100      [0.45870863696366415, 0.4617050953377294, 0.46...   \n",
       "\n",
       "                                                         y  \n",
       "Subject                                                     \n",
       "126      [-0.419896948011008, -0.4197981474091503, -0.4...  \n",
       "107      [1.4572156866842116, 1.4572156866842116, 1.457...  \n",
       "17       [-0.3204047419402629, -0.3213927479588403, -0....  \n",
       "25       [-0.6641320358033436, -0.6390366829314773, -0....  \n",
       "100      [1.7489738639701204, 1.7489738639701204, 1.748...  "
      ],
      "text/html": [
       "<div>\n",
       "<style scoped>\n",
       "    .dataframe tbody tr th:only-of-type {\n",
       "        vertical-align: middle;\n",
       "    }\n",
       "\n",
       "    .dataframe tbody tr th {\n",
       "        vertical-align: top;\n",
       "    }\n",
       "\n",
       "    .dataframe thead th {\n",
       "        text-align: right;\n",
       "    }\n",
       "</style>\n",
       "<table border=\"1\" class=\"dataframe\">\n",
       "  <thead>\n",
       "    <tr style=\"text-align: right;\">\n",
       "      <th></th>\n",
       "      <th>homework</th>\n",
       "      <th>pen_status</th>\n",
       "      <th>x</th>\n",
       "      <th>y</th>\n",
       "    </tr>\n",
       "    <tr>\n",
       "      <th>Subject</th>\n",
       "      <th></th>\n",
       "      <th></th>\n",
       "      <th></th>\n",
       "      <th></th>\n",
       "    </tr>\n",
       "  </thead>\n",
       "  <tbody>\n",
       "    <tr>\n",
       "      <th>126</th>\n",
       "      <td>4</td>\n",
       "      <td>1</td>\n",
       "      <td>[0.4658252256020692, 0.4664245172768823, 0.467...</td>\n",
       "      <td>[-0.419896948011008, -0.4197981474091503, -0.4...</td>\n",
       "    </tr>\n",
       "    <tr>\n",
       "      <th>107</th>\n",
       "      <td>1</td>\n",
       "      <td>1</td>\n",
       "      <td>[1.3548744251872404, 1.3542002220530756, 1.353...</td>\n",
       "      <td>[1.4572156866842116, 1.4572156866842116, 1.457...</td>\n",
       "    </tr>\n",
       "    <tr>\n",
       "      <th>17</th>\n",
       "      <td>4</td>\n",
       "      <td>1</td>\n",
       "      <td>[0.12310529906835183, 0.1216819813406708, 0.12...</td>\n",
       "      <td>[-0.3204047419402629, -0.3213927479588403, -0....</td>\n",
       "    </tr>\n",
       "    <tr>\n",
       "      <th>25</th>\n",
       "      <td>6</td>\n",
       "      <td>0</td>\n",
       "      <td>[-0.43461051580455, -0.44487338573572366, -0.4...</td>\n",
       "      <td>[-0.6641320358033436, -0.6390366829314773, -0....</td>\n",
       "    </tr>\n",
       "    <tr>\n",
       "      <th>100</th>\n",
       "      <td>3</td>\n",
       "      <td>1</td>\n",
       "      <td>[0.45870863696366415, 0.4617050953377294, 0.46...</td>\n",
       "      <td>[1.7489738639701204, 1.7489738639701204, 1.748...</td>\n",
       "    </tr>\n",
       "  </tbody>\n",
       "</table>\n",
       "</div>"
      ]
     },
     "execution_count": 50,
     "metadata": {},
     "output_type": "execute_result"
    }
   ],
   "execution_count": 50
  },
  {
   "cell_type": "markdown",
   "id": "c84d6e7d",
   "metadata": {},
   "source": [
    "# Data Augmentation"
   ]
  },
  {
   "cell_type": "code",
   "id": "e75485e9",
   "metadata": {
    "ExecuteTime": {
     "end_time": "2025-02-02T01:13:31.736460Z",
     "start_time": "2025-02-02T01:13:31.729929Z"
    }
   },
   "source": [
    "normalized_train_df.iloc[1][['x','y']].values[0].shape\n",
    "normalized_train_df.iloc[1][['x','y']].values[1].shape"
   ],
   "outputs": [
    {
     "data": {
      "text/plain": [
       "(755,)"
      ]
     },
     "execution_count": 51,
     "metadata": {},
     "output_type": "execute_result"
    }
   ],
   "execution_count": 51
  },
  {
   "cell_type": "code",
   "id": "6015a5dd",
   "metadata": {
    "ExecuteTime": {
     "end_time": "2025-02-02T01:13:31.742294Z",
     "start_time": "2025-02-02T01:13:31.737473Z"
    }
   },
   "source": [
    "original_x_y_arrays = normalized_train_df.iloc[1][['x','y']].values \n",
    "random_noise_x = np.random.normal(0, 0.01, size=original_x_y_arrays[0].shape)\n",
    "random_noise_y = np.random.normal(0, 0.01, size=original_x_y_arrays[1].shape)\n",
    "new_x_data = original_x_y_arrays[0] + random_noise_x  # Add noise\n",
    "new_y_data = original_x_y_arrays[1] + random_noise_y  # Add noise\n"
   ],
   "outputs": [],
   "execution_count": 52
  },
  {
   "cell_type": "code",
   "id": "ad7a6838",
   "metadata": {
    "ExecuteTime": {
     "end_time": "2025-02-02T01:13:31.820012Z",
     "start_time": "2025-02-02T01:13:31.744308Z"
    }
   },
   "source": [
    "plt.plot(new_x_data)"
   ],
   "outputs": [
    {
     "data": {
      "text/plain": [
       "[<matplotlib.lines.Line2D at 0x18a0d0f49b0>]"
      ]
     },
     "execution_count": 53,
     "metadata": {},
     "output_type": "execute_result"
    },
    {
     "data": {
      "text/plain": [
       "<Figure size 640x480 with 1 Axes>"
      ],
      "image/png": "[encoded data removed]"
     },
     "metadata": {},
     "output_type": "display_data"
    }
   ],
   "execution_count": 53
  },
  {
   "cell_type": "code",
   "id": "1aefa4ac",
   "metadata": {
    "ExecuteTime": {
     "end_time": "2025-02-02T01:13:31.902023Z",
     "start_time": "2025-02-02T01:13:31.821387Z"
    }
   },
   "source": [
    "plt.plot(original_x_y_arrays[0])"
   ],
   "outputs": [
    {
     "data": {
      "text/plain": [
       "[<matplotlib.lines.Line2D at 0x18a0d0baba0>]"
      ]
     },
     "execution_count": 54,
     "metadata": {},
     "output_type": "execute_result"
    },
    {
     "data": {
      "text/plain": [
       "<Figure size 640x480 with 1 Axes>"
      ],
      "image/png": "[encoded data removed]"
     },
     "metadata": {},
     "output_type": "display_data"
    }
   ],
   "execution_count": 54
  },
  {
   "cell_type": "markdown",
   "id": "d600d869",
   "metadata": {},
   "source": [
    "Elije filas al azar y las aumenta con ruido gaussiano"
   ]
  },
  {
   "cell_type": "code",
   "id": "61b23e5c",
   "metadata": {
    "ExecuteTime": {
     "end_time": "2025-02-02T01:13:31.911200Z",
     "start_time": "2025-02-02T01:13:31.904039Z"
    }
   },
   "source": [
    "SCALE = 0.01\n",
    "PROPORTION = 0.2\n",
    "np.random.seed(42)\n",
    "\n",
    "def augment_data(df):\n",
    "    qty_rows_to_augment = int(PROPORTION * df.shape[0])\n",
    "    df_augmented = df.copy()\n",
    "    \n",
    "    for _ in range(qty_rows_to_augment):  # Create new N data\n",
    "        target_row = np.random.randint(0, df.shape[0] - 1)  # Randomly select a row\n",
    "        original_x_y_arrays = df.iloc[target_row][['x','y']].values \n",
    "        \n",
    "        # Generate Gaussian noise with the same shape as the selected row\n",
    "        random_noise_x = np.random.normal(0, SCALE, size=original_x_y_arrays[0].shape)\n",
    "        random_noise_y = np.random.normal(0, SCALE, size=original_x_y_arrays[1].shape)\n",
    "        new_x_data = original_x_y_arrays[0].shape + random_noise_x  # Add noise\n",
    "        new_y_data = original_x_y_arrays[1].shape + random_noise_y  # Add noise\n",
    "        \n",
    "        # Convert to DataFrame and maintain original structure\n",
    "        augmented_row = {\n",
    "            'x': new_x_data,\n",
    "            'y': new_y_data,\n",
    "            'homework': df.iloc[target_row]['homework'],\n",
    "            'pen_status': df.iloc[target_row]['pen_status'],\n",
    "        }\n",
    "        augmented_row = pd.DataFrame([augmented_row])\n",
    "        \n",
    "        # Concatenate the augmented row to the original dataset\n",
    "        df_augmented = pd.concat([df_augmented, augmented_row], ignore_index=True, axis=0)\n",
    "    \n",
    "    return df_augmented\t"
   ],
   "outputs": [],
   "execution_count": 55
  },
  {
   "cell_type": "code",
   "id": "5dd760a0",
   "metadata": {
    "ExecuteTime": {
     "end_time": "2025-02-02T01:13:32.030803Z",
     "start_time": "2025-02-02T01:13:31.913298Z"
    }
   },
   "source": [
    "df_augmented = augment_data(normalized_train_df)"
   ],
   "outputs": [],
   "execution_count": 56
  },
  {
   "cell_type": "code",
   "id": "6ade5f18",
   "metadata": {
    "ExecuteTime": {
     "end_time": "2025-02-02T01:13:32.038498Z",
     "start_time": "2025-02-02T01:13:32.031809Z"
    }
   },
   "source": [
    "normalized_train_df.shape, df_augmented.shape"
   ],
   "outputs": [
    {
     "data": {
      "text/plain": [
       "((476, 4), (571, 4))"
      ]
     },
     "execution_count": 57,
     "metadata": {},
     "output_type": "execute_result"
    }
   ],
   "execution_count": 57
  },
  {
   "cell_type": "markdown",
   "id": "8a45f0e1",
   "metadata": {},
   "source": [
    "TODO: agregar comentario que se aumento 20% del original (476)"
   ]
  },
  {
   "cell_type": "markdown",
   "id": "80bffe723f8c234",
   "metadata": {},
   "source": [
    "## Ingeniería de Características"
   ]
  },
  {
   "cell_type": "markdown",
   "id": "9228887987660f6f",
   "metadata": {},
   "source": [
    "### Extracción de Características Wavelet"
   ]
  },
  {
   "cell_type": "markdown",
   "id": "a86fd0a99b00ebbb",
   "metadata": {},
   "source": [
    "Implementamos la transformación wavelet para capturar características tanto en frecuencia como temporales:"
   ]
  },
  {
   "cell_type": "code",
   "id": "c9e6844e763eadf0",
   "metadata": {
    "ExecuteTime": {
     "end_time": "2025-02-02T01:13:32.050986Z",
     "start_time": "2025-02-02T01:13:32.041066Z"
    }
   },
   "source": [
    "class WaveletTransformer(BaseEstimator, TransformerMixin):\n",
    "    '''\n",
    "    Custom scikit transformer for wavelet transformation of time-series data.\n",
    "    '''\n",
    "\n",
    "    def _extract_wavelet_features(self, data_list, wavelet='db4', level=10):\n",
    "        \"\"\"\n",
    "        Aplicar la Transformada Wavelet a una lista de datos y extraer características.\n",
    "\n",
    "        Parámetros:\n",
    "        data_list = lista de datos a usar.\n",
    "        wavelet = transformacion wavelet a usar (Daubechies 4 wavelet)\n",
    "        level = número de veces que se realiza el proceso de descomposición en una señal o imagen\n",
    "        \"\"\"\n",
    "        coeffs = pywt.wavedec(data_list, wavelet, level=level)\n",
    "        features = []\n",
    "        for coef in coeffs:\n",
    "            features.extend([\n",
    "                np.mean(coef),\n",
    "                np.std(coef),\n",
    "                np.min(coef),\n",
    "                np.max(coef)\n",
    "            ])\n",
    "        return features\n",
    "    \n",
    "    def fit(self, X, y=None):\n",
    "        # stateless transformer\n",
    "        self.column_names = list(X.columns)\n",
    "\n",
    "        return self\n",
    "    \n",
    "    def transform(self, X, y=None):\n",
    "        return X.apply(self._batch_process)\n",
    "    \n",
    "    def _apply_transformation(self, window, column_name):\n",
    "        return self._extract_wavelet_features(window)\n",
    "\n",
    "    def _batch_process(self, column):\n",
    "        return column.map(lambda col_val: self._apply_transformation(col_val, column.name))\n",
    "    \n",
    "    def get_feature_names_out(self, column_names):\n",
    "        return self.column_names"
   ],
   "outputs": [],
   "execution_count": 58
  },
  {
   "cell_type": "code",
   "id": "28343eb6393a13de",
   "metadata": {
    "ExecuteTime": {
     "end_time": "2025-02-02T01:13:32.068085Z",
     "start_time": "2025-02-02T01:13:32.055017Z"
    }
   },
   "source": [
    "wavelet_transformer = WaveletTransformer()\n",
    "\n",
    "numerical_columns = ['x', 'y']\n",
    "\n",
    "col_transformer = ColumnTransformer([\n",
    "    ('wavelet', wavelet_transformer, numerical_columns)\n",
    "], remainder='passthrough')\n",
    "col_transformer"
   ],
   "outputs": [
    {
     "data": {
      "text/plain": [
       "ColumnTransformer(remainder='passthrough',\n",
       "                  transformers=[('wavelet', WaveletTransformer(), ['x', 'y'])])"
      ],
      "text/html": [
       "<style>#sk-container-id-2 {\n",
       "  /* Definition of color scheme common for light and dark mode */\n",
       "  --sklearn-color-text: #000;\n",
       "  --sklearn-color-text-muted: #666;\n",
       "  --sklearn-color-line: gray;\n",
       "  /* Definition of color scheme for unfitted estimators */\n",
       "  --sklearn-color-unfitted-level-0: #fff5e6;\n",
       "  --sklearn-color-unfitted-level-1: #f6e4d2;\n",
       "  --sklearn-color-unfitted-level-2: #ffe0b3;\n",
       "  --sklearn-color-unfitted-level-3: chocolate;\n",
       "  /* Definition of color scheme for fitted estimators */\n",
       "  --sklearn-color-fitted-level-0: #f0f8ff;\n",
       "  --sklearn-color-fitted-level-1: #d4ebff;\n",
       "  --sklearn-color-fitted-level-2: #b3dbfd;\n",
       "  --sklearn-color-fitted-level-3: cornflowerblue;\n",
       "\n",
       "  /* Specific color for light theme */\n",
       "  --sklearn-color-text-on-default-background: var(--sg-text-color, var(--theme-code-foreground, var(--jp-content-font-color1, black)));\n",
       "  --sklearn-color-background: var(--sg-background-color, var(--theme-background, var(--jp-layout-color0, white)));\n",
       "  --sklearn-color-border-box: var(--sg-text-color, var(--theme-code-foreground, var(--jp-content-font-color1, black)));\n",
       "  --sklearn-color-icon: #696969;\n",
       "\n",
       "  @media (prefers-color-scheme: dark) {\n",
       "    /* Redefinition of color scheme for dark theme */\n",
       "    --sklearn-color-text-on-default-background: var(--sg-text-color, var(--theme-code-foreground, var(--jp-content-font-color1, white)));\n",
       "    --sklearn-color-background: var(--sg-background-color, var(--theme-background, var(--jp-layout-color0, #111)));\n",
       "    --sklearn-color-border-box: var(--sg-text-color, var(--theme-code-foreground, var(--jp-content-font-color1, white)));\n",
       "    --sklearn-color-icon: #878787;\n",
       "  }\n",
       "}\n",
       "\n",
       "#sk-container-id-2 {\n",
       "  color: var(--sklearn-color-text);\n",
       "}\n",
       "\n",
       "#sk-container-id-2 pre {\n",
       "  padding: 0;\n",
       "}\n",
       "\n",
       "#sk-container-id-2 input.sk-hidden--visually {\n",
       "  border: 0;\n",
       "  clip: rect(1px 1px 1px 1px);\n",
       "  clip: rect(1px, 1px, 1px, 1px);\n",
       "  height: 1px;\n",
       "  margin: -1px;\n",
       "  overflow: hidden;\n",
       "  padding: 0;\n",
       "  position: absolute;\n",
       "  width: 1px;\n",
       "}\n",
       "\n",
       "#sk-container-id-2 div.sk-dashed-wrapped {\n",
       "  border: 1px dashed var(--sklearn-color-line);\n",
       "  margin: 0 0.4em 0.5em 0.4em;\n",
       "  box-sizing: border-box;\n",
       "  padding-bottom: 0.4em;\n",
       "  background-color: var(--sklearn-color-background);\n",
       "}\n",
       "\n",
       "#sk-container-id-2 div.sk-container {\n",
       "  /* jupyter's `normalize.less` sets `[hidden] { display: none; }`\n",
       "     but bootstrap.min.css set `[hidden] { display: none !important; }`\n",
       "     so we also need the `!important` here to be able to override the\n",
       "     default hidden behavior on the sphinx rendered scikit-learn.org.\n",
       "     See: https://github.com/scikit-learn/scikit-learn/issues/21755 */\n",
       "  display: inline-block !important;\n",
       "  position: relative;\n",
       "}\n",
       "\n",
       "#sk-container-id-2 div.sk-text-repr-fallback {\n",
       "  display: none;\n",
       "}\n",
       "\n",
       "div.sk-parallel-item,\n",
       "div.sk-serial,\n",
       "div.sk-item {\n",
       "  /* draw centered vertical line to link estimators */\n",
       "  background-image: linear-gradient(var(--sklearn-color-text-on-default-background), var(--sklearn-color-text-on-default-background));\n",
       "  background-size: 2px 100%;\n",
       "  background-repeat: no-repeat;\n",
       "  background-position: center center;\n",
       "}\n",
       "\n",
       "/* Parallel-specific style estimator block */\n",
       "\n",
       "#sk-container-id-2 div.sk-parallel-item::after {\n",
       "  content: \"\";\n",
       "  width: 100%;\n",
       "  border-bottom: 2px solid var(--sklearn-color-text-on-default-background);\n",
       "  flex-grow: 1;\n",
       "}\n",
       "\n",
       "#sk-container-id-2 div.sk-parallel {\n",
       "  display: flex;\n",
       "  align-items: stretch;\n",
       "  justify-content: center;\n",
       "  background-color: var(--sklearn-color-background);\n",
       "  position: relative;\n",
       "}\n",
       "\n",
       "#sk-container-id-2 div.sk-parallel-item {\n",
       "  display: flex;\n",
       "  flex-direction: column;\n",
       "}\n",
       "\n",
       "#sk-container-id-2 div.sk-parallel-item:first-child::after {\n",
       "  align-self: flex-end;\n",
       "  width: 50%;\n",
       "}\n",
       "\n",
       "#sk-container-id-2 div.sk-parallel-item:last-child::after {\n",
       "  align-self: flex-start;\n",
       "  width: 50%;\n",
       "}\n",
       "\n",
       "#sk-container-id-2 div.sk-parallel-item:only-child::after {\n",
       "  width: 0;\n",
       "}\n",
       "\n",
       "/* Serial-specific style estimator block */\n",
       "\n",
       "#sk-container-id-2 div.sk-serial {\n",
       "  display: flex;\n",
       "  flex-direction: column;\n",
       "  align-items: center;\n",
       "  background-color: var(--sklearn-color-background);\n",
       "  padding-right: 1em;\n",
       "  padding-left: 1em;\n",
       "}\n",
       "\n",
       "\n",
       "/* Toggleable style: style used for estimator/Pipeline/ColumnTransformer box that is\n",
       "clickable and can be expanded/collapsed.\n",
       "- Pipeline and ColumnTransformer use this feature and define the default style\n",
       "- Estimators will overwrite some part of the style using the `sk-estimator` class\n",
       "*/\n",
       "\n",
       "/* Pipeline and ColumnTransformer style (default) */\n",
       "\n",
       "#sk-container-id-2 div.sk-toggleable {\n",
       "  /* Default theme specific background. It is overwritten whether we have a\n",
       "  specific estimator or a Pipeline/ColumnTransformer */\n",
       "  background-color: var(--sklearn-color-background);\n",
       "}\n",
       "\n",
       "/* Toggleable label */\n",
       "#sk-container-id-2 label.sk-toggleable__label {\n",
       "  cursor: pointer;\n",
       "  display: flex;\n",
       "  width: 100%;\n",
       "  margin-bottom: 0;\n",
       "  padding: 0.5em;\n",
       "  box-sizing: border-box;\n",
       "  text-align: center;\n",
       "  align-items: start;\n",
       "  justify-content: space-between;\n",
       "  gap: 0.5em;\n",
       "}\n",
       "\n",
       "#sk-container-id-2 label.sk-toggleable__label .caption {\n",
       "  font-size: 0.6rem;\n",
       "  font-weight: lighter;\n",
       "  color: var(--sklearn-color-text-muted);\n",
       "}\n",
       "\n",
       "#sk-container-id-2 label.sk-toggleable__label-arrow:before {\n",
       "  /* Arrow on the left of the label */\n",
       "  content: \"▸\";\n",
       "  float: left;\n",
       "  margin-right: 0.25em;\n",
       "  color: var(--sklearn-color-icon);\n",
       "}\n",
       "\n",
       "#sk-container-id-2 label.sk-toggleable__label-arrow:hover:before {\n",
       "  color: var(--sklearn-color-text);\n",
       "}\n",
       "\n",
       "/* Toggleable content - dropdown */\n",
       "\n",
       "#sk-container-id-2 div.sk-toggleable__content {\n",
       "  max-height: 0;\n",
       "  max-width: 0;\n",
       "  overflow: hidden;\n",
       "  text-align: left;\n",
       "  /* unfitted */\n",
       "  background-color: var(--sklearn-color-unfitted-level-0);\n",
       "}\n",
       "\n",
       "#sk-container-id-2 div.sk-toggleable__content.fitted {\n",
       "  /* fitted */\n",
       "  background-color: var(--sklearn-color-fitted-level-0);\n",
       "}\n",
       "\n",
       "#sk-container-id-2 div.sk-toggleable__content pre {\n",
       "  margin: 0.2em;\n",
       "  border-radius: 0.25em;\n",
       "  color: var(--sklearn-color-text);\n",
       "  /* unfitted */\n",
       "  background-color: var(--sklearn-color-unfitted-level-0);\n",
       "}\n",
       "\n",
       "#sk-container-id-2 div.sk-toggleable__content.fitted pre {\n",
       "  /* unfitted */\n",
       "  background-color: var(--sklearn-color-fitted-level-0);\n",
       "}\n",
       "\n",
       "#sk-container-id-2 input.sk-toggleable__control:checked~div.sk-toggleable__content {\n",
       "  /* Expand drop-down */\n",
       "  max-height: 200px;\n",
       "  max-width: 100%;\n",
       "  overflow: auto;\n",
       "}\n",
       "\n",
       "#sk-container-id-2 input.sk-toggleable__control:checked~label.sk-toggleable__label-arrow:before {\n",
       "  content: \"▾\";\n",
       "}\n",
       "\n",
       "/* Pipeline/ColumnTransformer-specific style */\n",
       "\n",
       "#sk-container-id-2 div.sk-label input.sk-toggleable__control:checked~label.sk-toggleable__label {\n",
       "  color: var(--sklearn-color-text);\n",
       "  background-color: var(--sklearn-color-unfitted-level-2);\n",
       "}\n",
       "\n",
       "#sk-container-id-2 div.sk-label.fitted input.sk-toggleable__control:checked~label.sk-toggleable__label {\n",
       "  background-color: var(--sklearn-color-fitted-level-2);\n",
       "}\n",
       "\n",
       "/* Estimator-specific style */\n",
       "\n",
       "/* Colorize estimator box */\n",
       "#sk-container-id-2 div.sk-estimator input.sk-toggleable__control:checked~label.sk-toggleable__label {\n",
       "  /* unfitted */\n",
       "  background-color: var(--sklearn-color-unfitted-level-2);\n",
       "}\n",
       "\n",
       "#sk-container-id-2 div.sk-estimator.fitted input.sk-toggleable__control:checked~label.sk-toggleable__label {\n",
       "  /* fitted */\n",
       "  background-color: var(--sklearn-color-fitted-level-2);\n",
       "}\n",
       "\n",
       "#sk-container-id-2 div.sk-label label.sk-toggleable__label,\n",
       "#sk-container-id-2 div.sk-label label {\n",
       "  /* The background is the default theme color */\n",
       "  color: var(--sklearn-color-text-on-default-background);\n",
       "}\n",
       "\n",
       "/* On hover, darken the color of the background */\n",
       "#sk-container-id-2 div.sk-label:hover label.sk-toggleable__label {\n",
       "  color: var(--sklearn-color-text);\n",
       "  background-color: var(--sklearn-color-unfitted-level-2);\n",
       "}\n",
       "\n",
       "/* Label box, darken color on hover, fitted */\n",
       "#sk-container-id-2 div.sk-label.fitted:hover label.sk-toggleable__label.fitted {\n",
       "  color: var(--sklearn-color-text);\n",
       "  background-color: var(--sklearn-color-fitted-level-2);\n",
       "}\n",
       "\n",
       "/* Estimator label */\n",
       "\n",
       "#sk-container-id-2 div.sk-label label {\n",
       "  font-family: monospace;\n",
       "  font-weight: bold;\n",
       "  display: inline-block;\n",
       "  line-height: 1.2em;\n",
       "}\n",
       "\n",
       "#sk-container-id-2 div.sk-label-container {\n",
       "  text-align: center;\n",
       "}\n",
       "\n",
       "/* Estimator-specific */\n",
       "#sk-container-id-2 div.sk-estimator {\n",
       "  font-family: monospace;\n",
       "  border: 1px dotted var(--sklearn-color-border-box);\n",
       "  border-radius: 0.25em;\n",
       "  box-sizing: border-box;\n",
       "  margin-bottom: 0.5em;\n",
       "  /* unfitted */\n",
       "  background-color: var(--sklearn-color-unfitted-level-0);\n",
       "}\n",
       "\n",
       "#sk-container-id-2 div.sk-estimator.fitted {\n",
       "  /* fitted */\n",
       "  background-color: var(--sklearn-color-fitted-level-0);\n",
       "}\n",
       "\n",
       "/* on hover */\n",
       "#sk-container-id-2 div.sk-estimator:hover {\n",
       "  /* unfitted */\n",
       "  background-color: var(--sklearn-color-unfitted-level-2);\n",
       "}\n",
       "\n",
       "#sk-container-id-2 div.sk-estimator.fitted:hover {\n",
       "  /* fitted */\n",
       "  background-color: var(--sklearn-color-fitted-level-2);\n",
       "}\n",
       "\n",
       "/* Specification for estimator info (e.g. \"i\" and \"?\") */\n",
       "\n",
       "/* Common style for \"i\" and \"?\" */\n",
       "\n",
       ".sk-estimator-doc-link,\n",
       "a:link.sk-estimator-doc-link,\n",
       "a:visited.sk-estimator-doc-link {\n",
       "  float: right;\n",
       "  font-size: smaller;\n",
       "  line-height: 1em;\n",
       "  font-family: monospace;\n",
       "  background-color: var(--sklearn-color-background);\n",
       "  border-radius: 1em;\n",
       "  height: 1em;\n",
       "  width: 1em;\n",
       "  text-decoration: none !important;\n",
       "  margin-left: 0.5em;\n",
       "  text-align: center;\n",
       "  /* unfitted */\n",
       "  border: var(--sklearn-color-unfitted-level-1) 1pt solid;\n",
       "  color: var(--sklearn-color-unfitted-level-1);\n",
       "}\n",
       "\n",
       ".sk-estimator-doc-link.fitted,\n",
       "a:link.sk-estimator-doc-link.fitted,\n",
       "a:visited.sk-estimator-doc-link.fitted {\n",
       "  /* fitted */\n",
       "  border: var(--sklearn-color-fitted-level-1) 1pt solid;\n",
       "  color: var(--sklearn-color-fitted-level-1);\n",
       "}\n",
       "\n",
       "/* On hover */\n",
       "div.sk-estimator:hover .sk-estimator-doc-link:hover,\n",
       ".sk-estimator-doc-link:hover,\n",
       "div.sk-label-container:hover .sk-estimator-doc-link:hover,\n",
       ".sk-estimator-doc-link:hover {\n",
       "  /* unfitted */\n",
       "  background-color: var(--sklearn-color-unfitted-level-3);\n",
       "  color: var(--sklearn-color-background);\n",
       "  text-decoration: none;\n",
       "}\n",
       "\n",
       "div.sk-estimator.fitted:hover .sk-estimator-doc-link.fitted:hover,\n",
       ".sk-estimator-doc-link.fitted:hover,\n",
       "div.sk-label-container:hover .sk-estimator-doc-link.fitted:hover,\n",
       ".sk-estimator-doc-link.fitted:hover {\n",
       "  /* fitted */\n",
       "  background-color: var(--sklearn-color-fitted-level-3);\n",
       "  color: var(--sklearn-color-background);\n",
       "  text-decoration: none;\n",
       "}\n",
       "\n",
       "/* Span, style for the box shown on hovering the info icon */\n",
       ".sk-estimator-doc-link span {\n",
       "  display: none;\n",
       "  z-index: 9999;\n",
       "  position: relative;\n",
       "  font-weight: normal;\n",
       "  right: .2ex;\n",
       "  padding: .5ex;\n",
       "  margin: .5ex;\n",
       "  width: min-content;\n",
       "  min-width: 20ex;\n",
       "  max-width: 50ex;\n",
       "  color: var(--sklearn-color-text);\n",
       "  box-shadow: 2pt 2pt 4pt #999;\n",
       "  /* unfitted */\n",
       "  background: var(--sklearn-color-unfitted-level-0);\n",
       "  border: .5pt solid var(--sklearn-color-unfitted-level-3);\n",
       "}\n",
       "\n",
       ".sk-estimator-doc-link.fitted span {\n",
       "  /* fitted */\n",
       "  background: var(--sklearn-color-fitted-level-0);\n",
       "  border: var(--sklearn-color-fitted-level-3);\n",
       "}\n",
       "\n",
       ".sk-estimator-doc-link:hover span {\n",
       "  display: block;\n",
       "}\n",
       "\n",
       "/* \"?\"-specific style due to the `<a>` HTML tag */\n",
       "\n",
       "#sk-container-id-2 a.estimator_doc_link {\n",
       "  float: right;\n",
       "  font-size: 1rem;\n",
       "  line-height: 1em;\n",
       "  font-family: monospace;\n",
       "  background-color: var(--sklearn-color-background);\n",
       "  border-radius: 1rem;\n",
       "  height: 1rem;\n",
       "  width: 1rem;\n",
       "  text-decoration: none;\n",
       "  /* unfitted */\n",
       "  color: var(--sklearn-color-unfitted-level-1);\n",
       "  border: var(--sklearn-color-unfitted-level-1) 1pt solid;\n",
       "}\n",
       "\n",
       "#sk-container-id-2 a.estimator_doc_link.fitted {\n",
       "  /* fitted */\n",
       "  border: var(--sklearn-color-fitted-level-1) 1pt solid;\n",
       "  color: var(--sklearn-color-fitted-level-1);\n",
       "}\n",
       "\n",
       "/* On hover */\n",
       "#sk-container-id-2 a.estimator_doc_link:hover {\n",
       "  /* unfitted */\n",
       "  background-color: var(--sklearn-color-unfitted-level-3);\n",
       "  color: var(--sklearn-color-background);\n",
       "  text-decoration: none;\n",
       "}\n",
       "\n",
       "#sk-container-id-2 a.estimator_doc_link.fitted:hover {\n",
       "  /* fitted */\n",
       "  background-color: var(--sklearn-color-fitted-level-3);\n",
       "}\n",
       "</style><div id=\"sk-container-id-2\" class=\"sk-top-container\"><div class=\"sk-text-repr-fallback\"><pre>ColumnTransformer(remainder=&#x27;passthrough&#x27;,\n",
       "                  transformers=[(&#x27;wavelet&#x27;, WaveletTransformer(), [&#x27;x&#x27;, &#x27;y&#x27;])])</pre><b>In a Jupyter environment, please rerun this cell to show the HTML representation or trust the notebook. <br />On GitHub, the HTML representation is unable to render, please try loading this page with nbviewer.org.</b></div><div class=\"sk-container\" hidden><div class=\"sk-item sk-dashed-wrapped\"><div class=\"sk-label-container\"><div class=\"sk-label  sk-toggleable\"><input class=\"sk-toggleable__control sk-hidden--visually\" id=\"sk-estimator-id-6\" type=\"checkbox\" ><label for=\"sk-estimator-id-6\" class=\"sk-toggleable__label  sk-toggleable__label-arrow\"><div><div>ColumnTransformer</div></div><div><a class=\"sk-estimator-doc-link \" rel=\"noreferrer\" target=\"_blank\" href=\"https://scikit-learn.org/1.6/modules/generated/sklearn.compose.ColumnTransformer.html\">?<span>Documentation for ColumnTransformer</span></a><span class=\"sk-estimator-doc-link \">i<span>Not fitted</span></span></div></label><div class=\"sk-toggleable__content \"><pre>ColumnTransformer(remainder=&#x27;passthrough&#x27;,\n",
       "                  transformers=[(&#x27;wavelet&#x27;, WaveletTransformer(), [&#x27;x&#x27;, &#x27;y&#x27;])])</pre></div> </div></div><div class=\"sk-parallel\"><div class=\"sk-parallel-item\"><div class=\"sk-item\"><div class=\"sk-label-container\"><div class=\"sk-label  sk-toggleable\"><input class=\"sk-toggleable__control sk-hidden--visually\" id=\"sk-estimator-id-7\" type=\"checkbox\" ><label for=\"sk-estimator-id-7\" class=\"sk-toggleable__label  sk-toggleable__label-arrow\"><div><div>wavelet</div></div></label><div class=\"sk-toggleable__content \"><pre>[&#x27;x&#x27;, &#x27;y&#x27;]</pre></div> </div></div><div class=\"sk-serial\"><div class=\"sk-item\"><div class=\"sk-estimator  sk-toggleable\"><input class=\"sk-toggleable__control sk-hidden--visually\" id=\"sk-estimator-id-8\" type=\"checkbox\" ><label for=\"sk-estimator-id-8\" class=\"sk-toggleable__label  sk-toggleable__label-arrow\"><div><div>WaveletTransformer</div></div></label><div class=\"sk-toggleable__content \"><pre>WaveletTransformer()</pre></div> </div></div></div></div></div><div class=\"sk-parallel-item\"><div class=\"sk-item\"><div class=\"sk-label-container\"><div class=\"sk-label  sk-toggleable\"><input class=\"sk-toggleable__control sk-hidden--visually\" id=\"sk-estimator-id-9\" type=\"checkbox\" ><label for=\"sk-estimator-id-9\" class=\"sk-toggleable__label  sk-toggleable__label-arrow\"><div><div>remainder</div></div></label><div class=\"sk-toggleable__content \"><pre></pre></div> </div></div><div class=\"sk-serial\"><div class=\"sk-item\"><div class=\"sk-estimator  sk-toggleable\"><input class=\"sk-toggleable__control sk-hidden--visually\" id=\"sk-estimator-id-10\" type=\"checkbox\" ><label for=\"sk-estimator-id-10\" class=\"sk-toggleable__label  sk-toggleable__label-arrow\"><div><div>passthrough</div></div></label><div class=\"sk-toggleable__content \"><pre>passthrough</pre></div> </div></div></div></div></div></div></div></div></div>"
      ]
     },
     "execution_count": 59,
     "metadata": {},
     "output_type": "execute_result"
    }
   ],
   "execution_count": 59
  },
  {
   "cell_type": "code",
   "id": "53901f6a6725f733",
   "metadata": {
    "ExecuteTime": {
     "end_time": "2025-02-02T01:13:32.073090Z",
     "start_time": "2025-02-02T01:13:32.070138Z"
    }
   },
   "source": [],
   "outputs": [],
   "execution_count": 59
  },
  {
   "cell_type": "code",
   "id": "13443b5f",
   "metadata": {
    "ExecuteTime": {
     "end_time": "2025-02-02T01:13:32.403181Z",
     "start_time": "2025-02-02T01:13:32.075102Z"
    }
   },
   "source": [
    "wavelet_train_df = col_transformer.fit_transform(df_augmented)\n",
    "column_names = [x.split('__')[-1] for x in col_transformer.get_feature_names_out()] # get column names back again\n",
    "wavelet_train_df = pd.DataFrame(wavelet_train_df, columns=column_names) # transformer generates matrix, convert back to dataframe"
   ],
   "outputs": [
    {
     "name": "stderr",
     "output_type": "stream",
     "text": [
      "C:\\Users\\arman\\AppData\\Local\\pypoetry\\Cache\\virtualenvs\\proyecto-integrador-equipo-11-WxcN3L0e-py3.12\\Lib\\site-packages\\pywt\\_multilevel.py:43: UserWarning: Level value of 10 is too high: all coefficients will experience boundary effects.\n",
      "  warnings.warn(\n"
     ]
    }
   ],
   "execution_count": 60
  },
  {
   "cell_type": "code",
   "id": "3940aba4",
   "metadata": {
    "ExecuteTime": {
     "end_time": "2025-02-02T01:13:32.416544Z",
     "start_time": "2025-02-02T01:13:32.404196Z"
    }
   },
   "source": [
    "wavelet_train_df"
   ],
   "outputs": [
    {
     "data": {
      "text/plain": [
       "                                                     x  \\\n",
       "0    [12.148005488777905, 4.611343995005918, 1.8580...   \n",
       "1    [43.10940807817893, 1.0221309208777931, 41.047...   \n",
       "2    [3.050218115248705, 1.6621247238320849, -0.878...   \n",
       "3    [-15.887530530241712, 2.3744107757497095, -21....   \n",
       "4    [5.7166253176828485, 17.31012802124303, -33.80...   \n",
       "..                                                 ...   \n",
       "566  [54656.11005251284, 0.047783318888902596, 5465...   \n",
       "567  [25600.1061890809, 0.0783055755567984, 25599.9...   \n",
       "568  [47519.830010511396, 0.05926905641596754, 4751...   \n",
       "569  [50144.01728368786, 0.0908948139487935, 50143....   \n",
       "570  [54687.921484036335, 0.037911286271669856, 546...   \n",
       "\n",
       "                                                     y homework pen_status  \n",
       "0    [-13.580025434111302, 1.370950774193394, -16.9...        4          1  \n",
       "1    [42.39905209640803, 8.715453443123613, 21.8172...        1          1  \n",
       "2    [-10.080347079861946, 0.5732943476219098, -10....        4          1  \n",
       "3    [-21.698861454684895, 1.576843366787542, -24.7...        6          0  \n",
       "4    [51.69157672039583, 6.411944447410344, 38.8289...        3          1  \n",
       "..                                                 ...      ...        ...  \n",
       "566  [54656.049069048546, 0.036422233955932054, 546...        6          0  \n",
       "567  [25599.841231014194, 0.12528839003204634, 2559...        3          0  \n",
       "568  [47520.020861697754, 0.06343797238265692, 4751...        7          0  \n",
       "569  [50144.08614492719, 0.08725972279251756, 50143...        3          1  \n",
       "570  [54687.923626010226, 0.04667603131217217, 5468...        2          0  \n",
       "\n",
       "[571 rows x 4 columns]"
      ],
      "text/html": [
       "<div>\n",
       "<style scoped>\n",
       "    .dataframe tbody tr th:only-of-type {\n",
       "        vertical-align: middle;\n",
       "    }\n",
       "\n",
       "    .dataframe tbody tr th {\n",
       "        vertical-align: top;\n",
       "    }\n",
       "\n",
       "    .dataframe thead th {\n",
       "        text-align: right;\n",
       "    }\n",
       "</style>\n",
       "<table border=\"1\" class=\"dataframe\">\n",
       "  <thead>\n",
       "    <tr style=\"text-align: right;\">\n",
       "      <th></th>\n",
       "      <th>x</th>\n",
       "      <th>y</th>\n",
       "      <th>homework</th>\n",
       "      <th>pen_status</th>\n",
       "    </tr>\n",
       "  </thead>\n",
       "  <tbody>\n",
       "    <tr>\n",
       "      <th>0</th>\n",
       "      <td>[12.148005488777905, 4.611343995005918, 1.8580...</td>\n",
       "      <td>[-13.580025434111302, 1.370950774193394, -16.9...</td>\n",
       "      <td>4</td>\n",
       "      <td>1</td>\n",
       "    </tr>\n",
       "    <tr>\n",
       "      <th>1</th>\n",
       "      <td>[43.10940807817893, 1.0221309208777931, 41.047...</td>\n",
       "      <td>[42.39905209640803, 8.715453443123613, 21.8172...</td>\n",
       "      <td>1</td>\n",
       "      <td>1</td>\n",
       "    </tr>\n",
       "    <tr>\n",
       "      <th>2</th>\n",
       "      <td>[3.050218115248705, 1.6621247238320849, -0.878...</td>\n",
       "      <td>[-10.080347079861946, 0.5732943476219098, -10....</td>\n",
       "      <td>4</td>\n",
       "      <td>1</td>\n",
       "    </tr>\n",
       "    <tr>\n",
       "      <th>3</th>\n",
       "      <td>[-15.887530530241712, 2.3744107757497095, -21....</td>\n",
       "      <td>[-21.698861454684895, 1.576843366787542, -24.7...</td>\n",
       "      <td>6</td>\n",
       "      <td>0</td>\n",
       "    </tr>\n",
       "    <tr>\n",
       "      <th>4</th>\n",
       "      <td>[5.7166253176828485, 17.31012802124303, -33.80...</td>\n",
       "      <td>[51.69157672039583, 6.411944447410344, 38.8289...</td>\n",
       "      <td>3</td>\n",
       "      <td>1</td>\n",
       "    </tr>\n",
       "    <tr>\n",
       "      <th>...</th>\n",
       "      <td>...</td>\n",
       "      <td>...</td>\n",
       "      <td>...</td>\n",
       "      <td>...</td>\n",
       "    </tr>\n",
       "    <tr>\n",
       "      <th>566</th>\n",
       "      <td>[54656.11005251284, 0.047783318888902596, 5465...</td>\n",
       "      <td>[54656.049069048546, 0.036422233955932054, 546...</td>\n",
       "      <td>6</td>\n",
       "      <td>0</td>\n",
       "    </tr>\n",
       "    <tr>\n",
       "      <th>567</th>\n",
       "      <td>[25600.1061890809, 0.0783055755567984, 25599.9...</td>\n",
       "      <td>[25599.841231014194, 0.12528839003204634, 2559...</td>\n",
       "      <td>3</td>\n",
       "      <td>0</td>\n",
       "    </tr>\n",
       "    <tr>\n",
       "      <th>568</th>\n",
       "      <td>[47519.830010511396, 0.05926905641596754, 4751...</td>\n",
       "      <td>[47520.020861697754, 0.06343797238265692, 4751...</td>\n",
       "      <td>7</td>\n",
       "      <td>0</td>\n",
       "    </tr>\n",
       "    <tr>\n",
       "      <th>569</th>\n",
       "      <td>[50144.01728368786, 0.0908948139487935, 50143....</td>\n",
       "      <td>[50144.08614492719, 0.08725972279251756, 50143...</td>\n",
       "      <td>3</td>\n",
       "      <td>1</td>\n",
       "    </tr>\n",
       "    <tr>\n",
       "      <th>570</th>\n",
       "      <td>[54687.921484036335, 0.037911286271669856, 546...</td>\n",
       "      <td>[54687.923626010226, 0.04667603131217217, 5468...</td>\n",
       "      <td>2</td>\n",
       "      <td>0</td>\n",
       "    </tr>\n",
       "  </tbody>\n",
       "</table>\n",
       "<p>571 rows × 4 columns</p>\n",
       "</div>"
      ]
     },
     "execution_count": 61,
     "metadata": {},
     "output_type": "execute_result"
    }
   ],
   "execution_count": 61
  },
  {
   "cell_type": "markdown",
   "id": "fdc56852",
   "metadata": {},
   "source": [
    "TODO: comentar que las señales x y y fueron transformadas, cada una en 44 componentes correspondientes a la transformada Wavelet."
   ]
  },
  {
   "cell_type": "code",
   "id": "a93e1911",
   "metadata": {
    "ExecuteTime": {
     "end_time": "2025-02-02T01:13:32.477224Z",
     "start_time": "2025-02-02T01:13:32.417552Z"
    }
   },
   "source": [
    "plt.plot(wavelet_train_df.iloc[10]['x'])"
   ],
   "outputs": [
    {
     "data": {
      "text/plain": [
       "[<matplotlib.lines.Line2D at 0x18a0d03b9e0>]"
      ]
     },
     "execution_count": 62,
     "metadata": {},
     "output_type": "execute_result"
    },
    {
     "data": {
      "text/plain": [
       "<Figure size 640x480 with 1 Axes>"
      ],
      "image/png": "[encoded data removed]"
     },
     "metadata": {},
     "output_type": "display_data"
    }
   ],
   "execution_count": 62
  },
  {
   "cell_type": "markdown",
   "id": "86e7210d",
   "metadata": {},
   "source": [
    "Previo a reducir la dimensionalidad, es necesario expandir los array de datos tanto X como Y. "
   ]
  },
  {
   "cell_type": "code",
   "id": "ab0128e2",
   "metadata": {
    "ExecuteTime": {
     "end_time": "2025-02-02T01:13:32.487753Z",
     "start_time": "2025-02-02T01:13:32.478235Z"
    }
   },
   "source": [
    "# flatten data \n",
    "x_train_data = pd.DataFrame(wavelet_train_df['x'].to_list())\n",
    "y_train_data = pd.DataFrame(wavelet_train_df['y'].to_list())"
   ],
   "outputs": [],
   "execution_count": 63
  },
  {
   "cell_type": "markdown",
   "id": "b292a570",
   "metadata": {},
   "source": [
    "### LLE"
   ]
  },
  {
   "metadata": {
    "ExecuteTime": {
     "end_time": "2025-02-02T01:13:34.396418Z",
     "start_time": "2025-02-02T01:13:32.488263Z"
    }
   },
   "cell_type": "code",
   "source": [
    "def plot_reconstruction_error_neighbors(x_train_data, n_components=35, max_neighbors=20):\n",
    "\n",
    "    errors = []\n",
    "    for neighbors in range(2, max_neighbors + 1):\n",
    "        embedding = LocallyLinearEmbedding(n_components=n_components, n_neighbors=neighbors, eigen_solver='dense')\n",
    "        embedding.fit(x_train_data)\n",
    "        errors.append(embedding.reconstruction_error_)\n",
    "\n",
    "    plt.plot(range(2, max_neighbors + 1), errors)\n",
    "    plt.xlabel('Number of Neighbors')\n",
    "    plt.ylabel('Reconstruction Error')\n",
    "    plt.title('Selecting n_neighbors using Reconstruction Error')\n",
    "    plt.show()\n",
    "\n",
    "# Example usage:\n",
    "plot_reconstruction_error_neighbors(x_train_data, n_components=6, max_neighbors=20)\n"
   ],
   "id": "d1180ccf47ca3e6a",
   "outputs": [
    {
     "data": {
      "text/plain": [
       "<Figure size 640x480 with 1 Axes>"
      ],
      "image/png": "[encoded data removed]"
     },
     "metadata": {},
     "output_type": "display_data"
    }
   ],
   "execution_count": 64
  },
  {
   "metadata": {
    "ExecuteTime": {
     "end_time": "2025-02-02T01:13:34.408805Z",
     "start_time": "2025-02-02T01:13:34.401354Z"
    }
   },
   "cell_type": "code",
   "source": "",
   "id": "115b275e6f778f69",
   "outputs": [],
   "execution_count": 64
  },
  {
   "metadata": {
    "ExecuteTime": {
     "end_time": "2025-02-02T01:13:34.425992Z",
     "start_time": "2025-02-02T01:13:34.413459Z"
    }
   },
   "cell_type": "code",
   "source": [
    "def plot_lle_reconstruction_errors(x_train_data, max_components=35, n_neighbors=4):\n",
    "    \"\"\"\n",
    "    \"\"\"\n",
    "    errors = []\n",
    "    for n in range(1, max_components + 1):\n",
    "        embedding = LocallyLinearEmbedding(n_components=n, n_neighbors=n_neighbors, eigen_solver='dense')\n",
    "        embedding.fit(x_train_data)\n",
    "        errors.append(embedding.reconstruction_error_)\n",
    "\n",
    "    plt.plot(range(1, max_components + 1), errors)\n",
    "    plt.xlabel('Number of Components')\n",
    "    plt.ylabel('Reconstruction Error')\n",
    "    plt.title('Selecting n_components using Reconstruction Error')\n",
    "    plt.show()"
   ],
   "id": "68951d6a21169fcb",
   "outputs": [],
   "execution_count": 65
  },
  {
   "metadata": {
    "ExecuteTime": {
     "end_time": "2025-02-02T01:13:37.536603Z",
     "start_time": "2025-02-02T01:13:34.430524Z"
    }
   },
   "cell_type": "code",
   "source": "plot_lle_reconstruction_errors(x_train_data, max_components=35, n_neighbors=5)\n",
   "id": "95df000e515ebb9e",
   "outputs": [
    {
     "data": {
      "text/plain": [
       "<Figure size 640x480 with 1 Axes>"
      ],
      "image/png": "[encoded data removed]"
     },
     "metadata": {},
     "output_type": "display_data"
    }
   ],
   "execution_count": 66
  },
  {
   "cell_type": "code",
   "id": "34c04975",
   "metadata": {
    "ExecuteTime": {
     "end_time": "2025-02-02T01:13:37.675430Z",
     "start_time": "2025-02-02T01:13:37.537610Z"
    }
   },
   "source": [
    "embedding = LocallyLinearEmbedding(n_components=25, n_neighbors=5)\n",
    "lle_train_data = embedding.fit_transform(x_train_data)\n",
    "lle_train_data.shape"
   ],
   "outputs": [
    {
     "data": {
      "text/plain": [
       "(571, 25)"
      ]
     },
     "execution_count": 67,
     "metadata": {},
     "output_type": "execute_result"
    }
   ],
   "execution_count": 67
  },
  {
   "cell_type": "markdown",
   "id": "adcfdfc6",
   "metadata": {},
   "source": [
    "TODO: justificar el número de componentes seleccionado, agregar teoría sobre LLE, para qué tipo de señales se utiliza? por qué? "
   ]
  },
  {
   "cell_type": "markdown",
   "id": "a6392f72",
   "metadata": {},
   "source": [
    "### PCA"
   ]
  },
  {
   "cell_type": "code",
   "id": "aa9457a1",
   "metadata": {
    "ExecuteTime": {
     "end_time": "2025-02-02T01:13:37.688976Z",
     "start_time": "2025-02-02T01:13:37.676435Z"
    }
   },
   "source": [
    "from sklearn.decomposition import PCA\n",
    "\n",
    "pca = PCA(n_components=6)\n",
    "pca_train_data = pca.fit_transform(x_train_data)\n",
    "pca_train_data.shape\n"
   ],
   "outputs": [
    {
     "data": {
      "text/plain": [
       "(571, 6)"
      ]
     },
     "execution_count": 68,
     "metadata": {},
     "output_type": "execute_result"
    }
   ],
   "execution_count": 68
  },
  {
   "cell_type": "markdown",
   "id": "7375998f",
   "metadata": {},
   "source": [
    "### Normalización"
   ]
  },
  {
   "cell_type": "code",
   "id": "be7f750c",
   "metadata": {
    "ExecuteTime": {
     "end_time": "2025-02-02T01:13:37.693334Z",
     "start_time": "2025-02-02T01:13:37.691309Z"
    }
   },
   "source": [],
   "outputs": [],
   "execution_count": 68
  },
  {
   "cell_type": "markdown",
   "id": "e852de19d1c94e9",
   "metadata": {},
   "source": [
    "## Implementación del Pipeline"
   ]
  },
  {
   "cell_type": "code",
   "id": "62530db01a52a3a2",
   "metadata": {
    "ExecuteTime": {
     "end_time": "2025-02-02T01:13:37.697403Z",
     "start_time": "2025-02-02T01:13:37.694341Z"
    }
   },
   "source": [
    "def crear_pipeline_completo():\n",
    "    columnas_numericas = ['x', 'y', 'azimuth', 'altitude', 'pressure']\n",
    "    pipeline_caracteristicas = Pipeline([\n",
    "        ('escalador', EscaladorRobustoSerieTemporal()),\n",
    "        ('wavelet', ExtractorCaracteristicasWavelet()),\n",
    "        ('estadisticas', CaracteristicasEstadisticasSeriesTiempo())\n",
    "    ])\n",
    "    preprocesador = ColumnTransformer(\n",
    "        transformers=[\n",
    "            ('numericas', pipeline_caracteristicas, columnas_numericas)\n",
    "        ],\n",
    "        remainder='passthrough'\n",
    "    )\n",
    "    return preprocesador"
   ],
   "outputs": [],
   "execution_count": 69
  },
  {
   "cell_type": "code",
   "id": "cbaf7508bbb80607",
   "metadata": {
    "ExecuteTime": {
     "end_time": "2025-02-02T01:13:37.717955Z",
     "start_time": "2025-02-02T01:13:37.698409Z"
    }
   },
   "source": [
    "# Crear y ajustar pipeline\n",
    "pipeline = crear_pipeline_completo()\n",
    "X_train_transformado = pipeline.fit_transform(X_train)\n",
    "X_val_transformado = pipeline.transform(X_val)\n",
    "X_test_transformado = pipeline.transform(X_test)\n",
    "\n",
    "# Convertir a DataFrame para mejor manejo\n",
    "columns = [f'caracteristica_{i}' for i in range(X_train_transformado.shape[1])]\n",
    "X_train_transformado = pd.DataFrame(X_train_transformado, columns=columns)\n",
    "X_val_transformado = pd.DataFrame(X_val_transformado, columns=columns)\n",
    "X_test_transformado = pd.DataFrame(X_test_transformado, columns=columns)\n",
    "\n",
    "# Mostrar dimensiones y primeras filas\n",
    "print(\"Dimensiones después de la transformación:\")\n",
    "print(f\"Train: {X_train_transformado.shape}\")\n",
    "print(f\"Validación: {X_val_transformado.shape}\")\n",
    "print(f\"Test: {X_test_transformado.shape}\")\n",
    "\n",
    "X_train_transformado.head()"
   ],
   "outputs": [
    {
     "ename": "NameError",
     "evalue": "name 'EscaladorRobustoSerieTemporal' is not defined",
     "output_type": "error",
     "traceback": [
      "\u001B[1;31m---------------------------------------------------------------------------\u001B[0m",
      "\u001B[1;31mNameError\u001B[0m                                 Traceback (most recent call last)",
      "Cell \u001B[1;32mIn[70], line 2\u001B[0m\n\u001B[0;32m      1\u001B[0m \u001B[38;5;66;03m# Crear y ajustar pipeline\u001B[39;00m\n\u001B[1;32m----> 2\u001B[0m pipeline \u001B[38;5;241m=\u001B[39m \u001B[43mcrear_pipeline_completo\u001B[49m\u001B[43m(\u001B[49m\u001B[43m)\u001B[49m\n\u001B[0;32m      3\u001B[0m X_train_transformado \u001B[38;5;241m=\u001B[39m pipeline\u001B[38;5;241m.\u001B[39mfit_transform(X_train)\n\u001B[0;32m      4\u001B[0m X_val_transformado \u001B[38;5;241m=\u001B[39m pipeline\u001B[38;5;241m.\u001B[39mtransform(X_val)\n",
      "Cell \u001B[1;32mIn[69], line 4\u001B[0m, in \u001B[0;36mcrear_pipeline_completo\u001B[1;34m()\u001B[0m\n\u001B[0;32m      1\u001B[0m \u001B[38;5;28;01mdef\u001B[39;00m\u001B[38;5;250m \u001B[39m\u001B[38;5;21mcrear_pipeline_completo\u001B[39m():\n\u001B[0;32m      2\u001B[0m     columnas_numericas \u001B[38;5;241m=\u001B[39m [\u001B[38;5;124m'\u001B[39m\u001B[38;5;124mx\u001B[39m\u001B[38;5;124m'\u001B[39m, \u001B[38;5;124m'\u001B[39m\u001B[38;5;124my\u001B[39m\u001B[38;5;124m'\u001B[39m, \u001B[38;5;124m'\u001B[39m\u001B[38;5;124mazimuth\u001B[39m\u001B[38;5;124m'\u001B[39m, \u001B[38;5;124m'\u001B[39m\u001B[38;5;124maltitude\u001B[39m\u001B[38;5;124m'\u001B[39m, \u001B[38;5;124m'\u001B[39m\u001B[38;5;124mpressure\u001B[39m\u001B[38;5;124m'\u001B[39m]\n\u001B[0;32m      3\u001B[0m     pipeline_caracteristicas \u001B[38;5;241m=\u001B[39m Pipeline([\n\u001B[1;32m----> 4\u001B[0m         (\u001B[38;5;124m'\u001B[39m\u001B[38;5;124mescalador\u001B[39m\u001B[38;5;124m'\u001B[39m, \u001B[43mEscaladorRobustoSerieTemporal\u001B[49m()),\n\u001B[0;32m      5\u001B[0m         (\u001B[38;5;124m'\u001B[39m\u001B[38;5;124mwavelet\u001B[39m\u001B[38;5;124m'\u001B[39m, ExtractorCaracteristicasWavelet()),\n\u001B[0;32m      6\u001B[0m         (\u001B[38;5;124m'\u001B[39m\u001B[38;5;124mestadisticas\u001B[39m\u001B[38;5;124m'\u001B[39m, CaracteristicasEstadisticasSeriesTiempo())\n\u001B[0;32m      7\u001B[0m     ])\n\u001B[0;32m      8\u001B[0m     preprocesador \u001B[38;5;241m=\u001B[39m ColumnTransformer(\n\u001B[0;32m      9\u001B[0m         transformers\u001B[38;5;241m=\u001B[39m[\n\u001B[0;32m     10\u001B[0m             (\u001B[38;5;124m'\u001B[39m\u001B[38;5;124mnumericas\u001B[39m\u001B[38;5;124m'\u001B[39m, pipeline_caracteristicas, columnas_numericas)\n\u001B[0;32m     11\u001B[0m         ],\n\u001B[0;32m     12\u001B[0m         remainder\u001B[38;5;241m=\u001B[39m\u001B[38;5;124m'\u001B[39m\u001B[38;5;124mpassthrough\u001B[39m\u001B[38;5;124m'\u001B[39m\n\u001B[0;32m     13\u001B[0m     )\n\u001B[0;32m     14\u001B[0m     \u001B[38;5;28;01mreturn\u001B[39;00m preprocesador\n",
      "\u001B[1;31mNameError\u001B[0m: name 'EscaladorRobustoSerieTemporal' is not defined"
     ]
    }
   ],
   "execution_count": 70
  },
  {
   "cell_type": "markdown",
   "id": "d848637c",
   "metadata": {},
   "source": [
    "# Shuffle y partición de datos"
   ]
  },
  {
   "cell_type": "markdown",
   "id": "d5cc567d3b2b5272",
   "metadata": {},
   "source": [
    "## Visualización y Análisis "
   ]
  },
  {
   "cell_type": "code",
   "id": "cb355c89ea02eade",
   "metadata": {},
   "source": [
    "def visualizar_transformaciones(X_transformado):\n",
    "    \"\"\"\n",
    "    Genera visualizaciones para validar las transformaciones\n",
    "    \"\"\"\n",
    "    # Seleccionamos las primeras 20 características para visualización\n",
    "    X_vis = X_transformado.iloc[:, :20]\n",
    "    \n",
    "    # Creamos la figura con dos subplots\n",
    "    fig, (ax1, ax2) = plt.subplots(1, 2, figsize=(20, 8))\n",
    "    \n",
    "    # 1. Distribución de características usando violinplot\n",
    "    sns.violinplot(data=X_vis, ax=ax1)\n",
    "    ax1.set_title('Distribución de las Primeras 20 Características')\n",
    "    ax1.set_xticklabels(ax1.get_xticklabels(), rotation=45)\n",
    "    \n",
    "    # 2. Matriz de correlación\n",
    "    sns.heatmap(X_vis.corr(), \n",
    "                cmap='coolwarm', \n",
    "                center=0,\n",
    "                ax=ax2)\n",
    "    ax2.set_title('Correlación entre Características')\n",
    "    \n",
    "    plt.tight_layout()\n",
    "    return fig\n",
    "\n",
    "# Visualizar características extraídas para cada tipo de señal\n",
    "def visualizar_caracteristicas_por_tipo(X_transformado):\n",
    "    \"\"\"\n",
    "    Visualiza las características extraídas agrupadas por tipo de señal original\n",
    "    \"\"\"\n",
    "    tipos_señal = ['x', 'y', 'azimuth', 'altitude', 'pressure']\n",
    "    \n",
    "    for tipo in tipos_señal:\n",
    "        # Seleccionar columnas relacionadas con este tipo de señal\n",
    "        cols = [col for col in X_transformado.columns if tipo in col]\n",
    "        if cols:\n",
    "            plt.figure(figsize=(15, 6))\n",
    "            \n",
    "            # Boxplot para las características\n",
    "            sns.boxplot(data=X_transformado[cols])\n",
    "            plt.title(f'Características extraídas de la señal {tipo}')\n",
    "            plt.xticks(rotation=45)\n",
    "            plt.tight_layout()\n",
    "            plt.show()\n",
    "\n",
    "# Función para visualizar la descomposición wavelet\n",
    "def visualizar_wavelet(señal_original, nivel=3, wavelet='db4'):\n",
    "    \"\"\"\n",
    "    Visualiza la descomposición wavelet de una señal\n",
    "    \"\"\"\n",
    "    # Realizar la descomposición wavelet\n",
    "    coefs = pywt.wavedec(señal_original, wavelet, level=nivel)\n",
    "    \n",
    "    # Crear la figura\n",
    "    fig, axes = plt.subplots(nivel + 2, 1, figsize=(15, 3*(nivel+2)))\n",
    "    \n",
    "    # Plotear señal original\n",
    "    axes[0].plot(señal_original)\n",
    "    axes[0].set_title('Señal Original')\n",
    "    \n",
    "    # Plotear coeficientes de aproximación\n",
    "    axes[1].plot(coefs[0])\n",
    "    axes[1].set_title('Coeficientes de Aproximación')\n",
    "    \n",
    "    # Plotear coeficientes de detalle\n",
    "    for i, coef in enumerate(coefs[1:], 2):\n",
    "        axes[i].plot(coef)\n",
    "        axes[i].set_title(f'Coeficientes de Detalle Nivel {i-1}')\n",
    "    \n",
    "    plt.tight_layout()\n",
    "    return fig\n"
   ],
   "outputs": [],
   "execution_count": null
  },
  {
   "cell_type": "code",
   "id": "7ab2a30296c54440",
   "metadata": {},
   "source": [
    "# Ejecutar visualizaciones\n",
    "try:\n",
    "    # Visualización general de características\n",
    "    fig1 = visualizar_transformaciones(X_train_transformado)\n",
    "    plt.show()\n",
    "    \n",
    "    # Visualización por tipo de señal\n",
    "    visualizar_caracteristicas_por_tipo(X_train_transformado)\n",
    "    \n",
    "    # Ejemplo de descomposición wavelet para una señal\n",
    "    señal_ejemplo = X_train['x'].iloc[0]  # Primera señal x\n",
    "    fig3 = visualizar_wavelet(señal_ejemplo)\n",
    "    plt.show()\n",
    "    \n",
    "except Exception as e:\n",
    "    print(f\"Error en la visualización: {str(e)}\")"
   ],
   "outputs": [],
   "execution_count": null
  },
  {
   "cell_type": "markdown",
   "id": "b14f87cc375936cb",
   "metadata": {},
   "source": [
    "## Conclusiones"
   ]
  },
  {
   "cell_type": "code",
   "id": "14f5d43045a078c7",
   "metadata": {
    "ExecuteTime": {
     "end_time": "2025-02-02T01:13:37.720978Z",
     "start_time": "2025-02-02T01:13:37.720978Z"
    }
   },
   "source": [],
   "outputs": [],
   "execution_count": null
  },
  {
   "cell_type": "code",
   "id": "33f7203c94e97804",
   "metadata": {},
   "source": [],
   "outputs": [],
   "execution_count": null
  },
  {
   "cell_type": "code",
   "id": "316b7b5d6ec2ac04",
   "metadata": {
    "ExecuteTime": {
     "end_time": "2025-02-02T01:13:37.722974Z",
     "start_time": "2025-02-02T01:13:37.722974Z"
    }
   },
   "source": [],
   "outputs": [],
   "execution_count": null
  },
  {
   "cell_type": "markdown",
   "id": "18d0edc5b24ec19f",
   "metadata": {},
   "source": [
    "## Referencias"
   ]
  },
  {
   "cell_type": "code",
   "id": "1ab7c19fbf45e7a1",
   "metadata": {},
   "source": [],
   "outputs": [],
   "execution_count": null
  }
 ],
 "metadata": {
  "kernelspec": {
   "display_name": "proyecto-integrador-equipo-11-RpNcPuS5-py3.10",
   "language": "python",
   "name": "python3"
  },
  "language_info": {
   "codemirror_mode": {
    "name": "ipython",
    "version": 3
   },
   "file_extension": ".py",
   "mimetype": "text/x-python",
   "name": "python",
   "nbconvert_exporter": "python",
   "pygments_lexer": "ipython3",
   "version": "3.10.13"
  }
 },
 "nbformat": 4,
 "nbformat_minor": 5
}
