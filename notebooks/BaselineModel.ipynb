{
 "cells": [
  {
   "cell_type": "markdown",
   "metadata": {},
   "source": [
    "# Baseline"
   ]
  },
  {
   "cell_type": "markdown",
   "metadata": {},
   "source": [
    "**Proyecto Integrador TC5035.10**\n",
    "\n",
    "**Profesor Asesor:**\n",
    "- Dra. Ludivina Facundo (ITESM)\n",
    "\n",
    "\n",
    "**Profesores Investigadores/Tutores:**\n",
    "- Dr. Juan Arturo Nolazco (ITESM)\n",
    "- Dr. Marcos Faunez Zaunuy (TecnoCampus Barcelona)\n",
    "\n",
    "**Equipo 11:**\n",
    "- Francisco José Arellano Montes (A01794283)\n",
    "- Armando Bringas Corpus (A01200230)\n",
    "- Moisés Díaz Malagón (A01208580)"
   ]
  },
  {
   "cell_type": "markdown",
   "metadata": {
    "vscode": {
     "languageId": "plaintext"
    }
   },
   "source": [
    "Este avance consiste en construir un modelo de referencia que permita evaluar la viabilidad del problema. Si el baseline tiene un rendimiento similar al azar, podría indicar que el problema es intrínsecamente difícil o que los datos no contienen suficiente información para predecir el objetivo. De lo contrario, el baseline podría como una solución mínima aceptable cuando se trabaja en escenarios donde incluso un modelo simple puede proporcionar valor.\n",
    "\n"
   ]
  },
  {
   "cell_type": "code",
   "metadata": {
    "ExecuteTime": {
     "end_time": "2025-02-08T23:36:48.595171Z",
     "start_time": "2025-02-08T23:36:47.728485Z"
    }
   },
   "source": [
    "import pandas as pd\n",
    "import matplotlib.pyplot as plt\n",
    "import seaborn as sns\n",
    "\n",
    "from imblearn.over_sampling import SMOTE\n",
    "\n",
    "from lightgbm import LGBMClassifier\n",
    "\n",
    "from sklearn.linear_model import LogisticRegression\n",
    "from sklearn.model_selection import GridSearchCV, RandomizedSearchCV\n",
    "from sklearn.svm import SVC\n",
    "from sklearn.metrics import classification_report, roc_auc_score, precision_recall_curve, auc, roc_curve, det_curve\n",
    "\n",
    "from xgboost import XGBClassifier\n"
   ],
   "outputs": [],
   "execution_count": 1
  },
  {
   "metadata": {
    "ExecuteTime": {
     "end_time": "2025-02-08T23:37:04.102991Z",
     "start_time": "2025-02-08T23:37:03.682106Z"
    }
   },
   "cell_type": "code",
   "source": [
    "try:\n",
    "    from sklearnex import patch_sklearn\n",
    "    patch_sklearn()\n",
    "except ImportError:\n",
    "    pass"
   ],
   "outputs": [
    {
     "name": "stderr",
     "output_type": "stream",
     "text": [
      "Intel(R) Extension for Scikit-learn* enabled (https://github.com/intel/scikit-learn-intelex)\n"
     ]
    }
   ],
   "execution_count": 2
  },
  {
   "cell_type": "code",
   "metadata": {
    "ExecuteTime": {
     "end_time": "2025-02-08T23:37:04.107814Z",
     "start_time": "2025-02-08T23:37:04.103997Z"
    }
   },
   "source": [
    "def cargar_datos():\n",
    "    \"\"\"\n",
    "    Carga los datos preprocesados del análisis exploratorio\n",
    "    \"\"\"\n",
    "    X_train = pd.read_parquet('../data/preprocessed/X_train.parquet')\n",
    "    y_train = pd.read_parquet('../data/preprocessed/y_train.parquet')\n",
    "    X_val = pd.read_parquet('../data/preprocessed/X_val.parquet')\n",
    "    y_val = pd.read_parquet('../data/preprocessed/y_val.parquet')\n",
    "    X_test = pd.read_parquet('../data/preprocessed/X_test.parquet')\n",
    "    y_test = pd.read_parquet('../data/preprocessed/y_test.parquet')\n",
    "    return X_train, y_train, X_val, y_val, X_test, y_test"
   ],
   "outputs": [],
   "execution_count": 3
  },
  {
   "cell_type": "code",
   "metadata": {
    "ExecuteTime": {
     "end_time": "2025-02-08T23:37:04.184502Z",
     "start_time": "2025-02-08T23:37:04.108821Z"
    }
   },
   "source": "X_train, y_train, X_val, y_val, X_text, y_test = cargar_datos()",
   "outputs": [],
   "execution_count": 4
  },
  {
   "metadata": {
    "ExecuteTime": {
     "end_time": "2025-02-08T23:37:04.191759Z",
     "start_time": "2025-02-08T23:37:04.185509Z"
    }
   },
   "cell_type": "code",
   "source": "X_train.shape, y_train.shape, X_val.shape, y_val.shape",
   "outputs": [
    {
     "data": {
      "text/plain": [
       "((571, 4), (571, 3), (556, 4), (556, 3))"
      ]
     },
     "execution_count": 5,
     "metadata": {},
     "output_type": "execute_result"
    }
   ],
   "execution_count": 5
  },
  {
   "cell_type": "code",
   "metadata": {
    "ExecuteTime": {
     "end_time": "2025-02-08T23:37:04.470599Z",
     "start_time": "2025-02-08T23:37:04.192769Z"
    }
   },
   "source": [
    "fig, axes = plt.subplots(1, 3, figsize=(15, 5), constrained_layout=True)\n",
    "\n",
    "\n",
    "sns.countplot(data=y_train, x='depression', ax=axes[0])\n",
    "axes[0].set_title('Training Labels')\n",
    "sns.countplot(data=y_val, x='depression', ax=axes[1])\n",
    "axes[1].set_title('Validation Labels')\n",
    "\n",
    "sns.countplot(data=y_test, x='depression', ax=axes[2])\n",
    "axes[2].set_title('Test Labels')\n",
    "\n",
    "\n",
    "plt.show()\n",
    "\n",
    "print(f'Proporción en train set: {y_train[\"depression\"].mean():.2f}')\n",
    "print(f'Proporción en validation set: {y_val[\"depression\"].mean():.2f}')\n",
    "print(f'Proporción en test set: {y_test[\"depression\"].mean():.2f}')"
   ],
   "outputs": [
    {
     "data": {
      "text/plain": [
       "<Figure size 1500x500 with 3 Axes>"
      ],
      "image/png": "[encoded data removed]"
     },
     "metadata": {},
     "output_type": "display_data"
    },
    {
     "name": "stdout",
     "output_type": "stream",
     "text": [
      "Proporción en train set: 0.27\n",
      "Proporción en validation set: 0.27\n",
      "Proporción en test set: 0.27\n"
     ]
    }
   ],
   "execution_count": 6
  },
  {
   "cell_type": "markdown",
   "metadata": {},
   "source": [
    "Primeramente podemos comprobar que se mantiene el balancen de clases en los 3 sets de datos, entrenamiento, validación y prueba para la etiqueta 'depression'.\n"
   ]
  },
  {
   "cell_type": "markdown",
   "metadata": {},
   "source": [
    "TODO: poner el de las otras dos labels\n"
   ]
  },
  {
   "cell_type": "markdown",
   "metadata": {},
   "source": [
    "# Análisis de balance de clases"
   ]
  },
  {
   "cell_type": "code",
   "metadata": {
    "ExecuteTime": {
     "end_time": "2025-02-08T23:37:04.717584Z",
     "start_time": "2025-02-08T23:37:04.471605Z"
    }
   },
   "source": [
    "# Set up the figure with 3 subplots in a single row\n",
    "fig, axes = plt.subplots(1, 3, figsize=(15, 5), constrained_layout=True)\n",
    "sns.countplot(data=y_train, x='depression', ax=axes[0])\n",
    "axes[0].set_title('Depression Class Balance')\n",
    "sns.countplot(data=y_train, x='anxiety', ax=axes[1])\n",
    "axes[1].set_title('Anxiety Class Balance')\n",
    "sns.countplot(data=y_train, x='stress', ax=axes[2])\n",
    "axes[2].set_title('Stress Class Balance')\n",
    "plt.show()\n",
    "\n",
    "# Print proportions\n",
    "print(f'Porcentaje de la clase positiva de Depression: {y_train[\"depression\"].mean():.2f}')\n",
    "print(f'Porcentaje de la clase positiva de Anxiety: {y_train[\"anxiety\"].mean():.2f}')\n",
    "print(f'Porcentaje de la clase positiva de Stress: {y_train[\"stress\"].mean():.2f}')\n"
   ],
   "outputs": [
    {
     "data": {
      "text/plain": [
       "<Figure size 1500x500 with 3 Axes>"
      ],
      "image/png": "[encoded data removed]"
     },
     "metadata": {},
     "output_type": "display_data"
    },
    {
     "name": "stdout",
     "output_type": "stream",
     "text": [
      "Porcentaje de la clase positiva de Depression: 0.27\n",
      "Porcentaje de la clase positiva de Anxiety: 0.43\n",
      "Porcentaje de la clase positiva de Stress: 0.43\n"
     ]
    }
   ],
   "execution_count": 7
  },
  {
   "cell_type": "markdown",
   "metadata": {},
   "source": [
    "Dado que se trabajará como 3 problemas de clasificación binaria independientes, se puede comprobar que no tenemos un problema de datos no balanceados pues para las 3 variables estamos dentro de un 80/20 de proporciones entre la clase negativa y la positiva para cada label."
   ]
  },
  {
   "cell_type": "markdown",
   "metadata": {},
   "source": [
    "Con el balance de clases positivas, se establece el desempeño mínimo a obtener para verificar que el modelo baseline no está sub-entrenado."
   ]
  },
  {
   "cell_type": "code",
   "metadata": {
    "ExecuteTime": {
     "end_time": "2025-02-08T23:37:04.724841Z",
     "start_time": "2025-02-08T23:37:04.718591Z"
    }
   },
   "source": [
    "print(f\"Expected minimum accuracy for depression: {y_train['depression'].mean():.4f}\")\n",
    "print(f\"Expected minimuma ccuracy for anxiety: {y_train['anxiety'].mean():.4f}\")\n",
    "print(f\"Expected minimum accuracy for stress: {y_train['stress'].mean():.4f}\")"
   ],
   "outputs": [
    {
     "name": "stdout",
     "output_type": "stream",
     "text": [
      "Expected minimum accuracy for depression: 0.2680\n",
      "Expected minimuma ccuracy for anxiety: 0.4343\n",
      "Expected minimum accuracy for stress: 0.4343\n"
     ]
    }
   ],
   "execution_count": 8
  },
  {
   "cell_type": "markdown",
   "metadata": {},
   "source": [
    "# Métrica"
   ]
  },
  {
   "cell_type": "markdown",
   "metadata": {},
   "source": [
    "Dado que se trabajará con un 3 problemas independientes de clasificación binaria, se utilizarán las siguientes métricas:\n",
    "TODO: Completar descripción, y justificar el por qué de cada una. E.g. f1 para clases no tan balanceadas. \n",
    "\n",
    "- accuracy:\n",
    "- precision:\n",
    "- recall:\n",
    "- f1:\n",
    "- roc_auc:"
   ]
  },
  {
   "cell_type": "markdown",
   "metadata": {},
   "source": [
    "De acuerdo con el contexto de negocio, que es el diagnóstico psicológico y considerando el factor de la sugestión, será importante reducir la cantidad de Falsos Positivos (error tipo 1) que significa que queremos reducir el número de casos donde le decimos a un paciente que tiene depresión cuando en realidad no lo tiene. Por lo tanto la métrica a optimizar será precision. \n",
    "\n",
    "TODO: definir con los doctores\n"
   ]
  },
  {
   "cell_type": "markdown",
   "metadata": {},
   "source": [
    "De acuerdo con el balanceo de clases, ya que se cuenta con una mínima proporcion que no supera el 80/20 podemos decir que no se esperan afectaciones en el aprendizaje para la clase minoritaria (positiva), sin embargo si es necesario en la siguiente mejora del modelo se utilizarán técnicas de balanceo de clase al menos para el caso de \"depression\"."
   ]
  },
  {
   "cell_type": "markdown",
   "metadata": {},
   "source": [
    "# Algoritmo y entrenamiento\n",
    "\n",
    "¿Qué algoritmo se puede utilizar como baseline para predecir las variables objetivo?\n",
    "\n",
    "[TODO: Se explica por qué el algoritmo seleccionado es apropiado para el tipo de problema que se está abordando. Se considera en el análisis aspectos clave, como el tipo (estructurados o no estructurados) y la cantidad de datos, la presencia de características relevantes, la interpretabilidad (si es importante), entre otros.]\n"
   ]
  },
  {
   "metadata": {},
   "cell_type": "markdown",
   "source": "### Preparación de 'features' para 'depression', 'anxiety' y 'stress'"
  },
  {
   "metadata": {
    "ExecuteTime": {
     "end_time": "2025-02-08T23:37:04.741185Z",
     "start_time": "2025-02-08T23:37:04.726849Z"
    }
   },
   "cell_type": "code",
   "source": [
    "features_x_train = pd.DataFrame(X_train['caracteristica_0'].to_list())\n",
    "features_y_train = pd.DataFrame(X_train['caracteristica_1'].to_list())\n",
    "all_features_train = pd.concat([features_x_train, features_y_train], axis=1)\n",
    "all_features_train.columns = [f\"feature_{i}\" for i in range(all_features_train.shape[1])]\n",
    "\n",
    "features_x_val = pd.DataFrame(X_val['caracteristica_0'].to_list())\n",
    "features_y_val = pd.DataFrame(X_val['caracteristica_1'].to_list())\n",
    "all_features_val = pd.concat([features_x_val, features_y_val], axis=1)\n",
    "all_features_val.columns = [f\"feature_{i}\" for i in range(all_features_val.shape[1])]\n"
   ],
   "outputs": [],
   "execution_count": 9
  },
  {
   "metadata": {
    "ExecuteTime": {
     "end_time": "2025-02-08T23:37:04.758270Z",
     "start_time": "2025-02-08T23:37:04.742192Z"
    }
   },
   "cell_type": "code",
   "source": "all_features_train.head()",
   "outputs": [
    {
     "data": {
      "text/plain": [
       "   feature_0  feature_1  feature_2  feature_3  feature_4  feature_5  \\\n",
       "0  -0.001141   0.001778  -0.000225  -0.018490   0.008358  -0.003956   \n",
       "1  -0.009949   0.007753  -0.002964   0.004642   0.040384   0.009501   \n",
       "2  -0.001141   0.001778  -0.000225  -0.018490   0.008358  -0.003956   \n",
       "3  -0.000798  -0.006673  -0.013066  -0.060550  -0.002632  -0.033502   \n",
       "4  -0.011365   0.058803   0.009939  -0.056347  -0.005695  -0.026979   \n",
       "\n",
       "   feature_6  feature_7  feature_8  feature_9  feature_10  feature_11  \n",
       "0  -0.001141   0.001778  -0.000225  -0.018490    0.008358   -0.003956  \n",
       "1  -0.009949   0.007753  -0.002964   0.004642    0.040384    0.009501  \n",
       "2  -0.001141   0.001778  -0.000225  -0.018490    0.008358   -0.003956  \n",
       "3  -0.000798  -0.006673  -0.013066  -0.060550   -0.002632   -0.033502  \n",
       "4  -0.011365   0.058803   0.009939  -0.056347   -0.005695   -0.026979  "
      ],
      "text/html": [
       "<div>\n",
       "<style scoped>\n",
       "    .dataframe tbody tr th:only-of-type {\n",
       "        vertical-align: middle;\n",
       "    }\n",
       "\n",
       "    .dataframe tbody tr th {\n",
       "        vertical-align: top;\n",
       "    }\n",
       "\n",
       "    .dataframe thead th {\n",
       "        text-align: right;\n",
       "    }\n",
       "</style>\n",
       "<table border=\"1\" class=\"dataframe\">\n",
       "  <thead>\n",
       "    <tr style=\"text-align: right;\">\n",
       "      <th></th>\n",
       "      <th>feature_0</th>\n",
       "      <th>feature_1</th>\n",
       "      <th>feature_2</th>\n",
       "      <th>feature_3</th>\n",
       "      <th>feature_4</th>\n",
       "      <th>feature_5</th>\n",
       "      <th>feature_6</th>\n",
       "      <th>feature_7</th>\n",
       "      <th>feature_8</th>\n",
       "      <th>feature_9</th>\n",
       "      <th>feature_10</th>\n",
       "      <th>feature_11</th>\n",
       "    </tr>\n",
       "  </thead>\n",
       "  <tbody>\n",
       "    <tr>\n",
       "      <th>0</th>\n",
       "      <td>-0.001141</td>\n",
       "      <td>0.001778</td>\n",
       "      <td>-0.000225</td>\n",
       "      <td>-0.018490</td>\n",
       "      <td>0.008358</td>\n",
       "      <td>-0.003956</td>\n",
       "      <td>-0.001141</td>\n",
       "      <td>0.001778</td>\n",
       "      <td>-0.000225</td>\n",
       "      <td>-0.018490</td>\n",
       "      <td>0.008358</td>\n",
       "      <td>-0.003956</td>\n",
       "    </tr>\n",
       "    <tr>\n",
       "      <th>1</th>\n",
       "      <td>-0.009949</td>\n",
       "      <td>0.007753</td>\n",
       "      <td>-0.002964</td>\n",
       "      <td>0.004642</td>\n",
       "      <td>0.040384</td>\n",
       "      <td>0.009501</td>\n",
       "      <td>-0.009949</td>\n",
       "      <td>0.007753</td>\n",
       "      <td>-0.002964</td>\n",
       "      <td>0.004642</td>\n",
       "      <td>0.040384</td>\n",
       "      <td>0.009501</td>\n",
       "    </tr>\n",
       "    <tr>\n",
       "      <th>2</th>\n",
       "      <td>-0.001141</td>\n",
       "      <td>0.001778</td>\n",
       "      <td>-0.000225</td>\n",
       "      <td>-0.018490</td>\n",
       "      <td>0.008358</td>\n",
       "      <td>-0.003956</td>\n",
       "      <td>-0.001141</td>\n",
       "      <td>0.001778</td>\n",
       "      <td>-0.000225</td>\n",
       "      <td>-0.018490</td>\n",
       "      <td>0.008358</td>\n",
       "      <td>-0.003956</td>\n",
       "    </tr>\n",
       "    <tr>\n",
       "      <th>3</th>\n",
       "      <td>-0.000798</td>\n",
       "      <td>-0.006673</td>\n",
       "      <td>-0.013066</td>\n",
       "      <td>-0.060550</td>\n",
       "      <td>-0.002632</td>\n",
       "      <td>-0.033502</td>\n",
       "      <td>-0.000798</td>\n",
       "      <td>-0.006673</td>\n",
       "      <td>-0.013066</td>\n",
       "      <td>-0.060550</td>\n",
       "      <td>-0.002632</td>\n",
       "      <td>-0.033502</td>\n",
       "    </tr>\n",
       "    <tr>\n",
       "      <th>4</th>\n",
       "      <td>-0.011365</td>\n",
       "      <td>0.058803</td>\n",
       "      <td>0.009939</td>\n",
       "      <td>-0.056347</td>\n",
       "      <td>-0.005695</td>\n",
       "      <td>-0.026979</td>\n",
       "      <td>-0.011365</td>\n",
       "      <td>0.058803</td>\n",
       "      <td>0.009939</td>\n",
       "      <td>-0.056347</td>\n",
       "      <td>-0.005695</td>\n",
       "      <td>-0.026979</td>\n",
       "    </tr>\n",
       "  </tbody>\n",
       "</table>\n",
       "</div>"
      ]
     },
     "execution_count": 10,
     "metadata": {},
     "output_type": "execute_result"
    }
   ],
   "execution_count": 10
  },
  {
   "metadata": {
    "ExecuteTime": {
     "end_time": "2025-02-08T23:37:04.773805Z",
     "start_time": "2025-02-08T23:37:04.761805Z"
    }
   },
   "cell_type": "code",
   "source": "all_features_val.head()",
   "outputs": [
    {
     "data": {
      "text/plain": [
       "   feature_0  feature_1  feature_2  feature_3  feature_4  feature_5  \\\n",
       "0   0.028198   0.003056  -0.053527  -0.040464   0.058109   0.049808   \n",
       "1   0.059412  -0.026258  -0.093515   0.009559  -0.047513  -0.059090   \n",
       "2   0.082506  -0.071859  -0.163757   0.019404  -0.040100  -0.131935   \n",
       "3  -0.028263  -0.012318  -0.003904  -0.078606  -0.039678   0.012166   \n",
       "4   0.031886   0.028093  -0.009794  -0.002176  -0.056350   0.027733   \n",
       "\n",
       "   feature_6  feature_7  feature_8  feature_9  feature_10  feature_11  \n",
       "0   0.028198   0.003056  -0.053527  -0.040464    0.058109    0.049808  \n",
       "1   0.059412  -0.026258  -0.093515   0.009559   -0.047513   -0.059090  \n",
       "2   0.082506  -0.071859  -0.163757   0.019404   -0.040100   -0.131935  \n",
       "3  -0.028263  -0.012318  -0.003904  -0.078606   -0.039678    0.012166  \n",
       "4   0.031886   0.028093  -0.009794  -0.002176   -0.056350    0.027733  "
      ],
      "text/html": [
       "<div>\n",
       "<style scoped>\n",
       "    .dataframe tbody tr th:only-of-type {\n",
       "        vertical-align: middle;\n",
       "    }\n",
       "\n",
       "    .dataframe tbody tr th {\n",
       "        vertical-align: top;\n",
       "    }\n",
       "\n",
       "    .dataframe thead th {\n",
       "        text-align: right;\n",
       "    }\n",
       "</style>\n",
       "<table border=\"1\" class=\"dataframe\">\n",
       "  <thead>\n",
       "    <tr style=\"text-align: right;\">\n",
       "      <th></th>\n",
       "      <th>feature_0</th>\n",
       "      <th>feature_1</th>\n",
       "      <th>feature_2</th>\n",
       "      <th>feature_3</th>\n",
       "      <th>feature_4</th>\n",
       "      <th>feature_5</th>\n",
       "      <th>feature_6</th>\n",
       "      <th>feature_7</th>\n",
       "      <th>feature_8</th>\n",
       "      <th>feature_9</th>\n",
       "      <th>feature_10</th>\n",
       "      <th>feature_11</th>\n",
       "    </tr>\n",
       "  </thead>\n",
       "  <tbody>\n",
       "    <tr>\n",
       "      <th>0</th>\n",
       "      <td>0.028198</td>\n",
       "      <td>0.003056</td>\n",
       "      <td>-0.053527</td>\n",
       "      <td>-0.040464</td>\n",
       "      <td>0.058109</td>\n",
       "      <td>0.049808</td>\n",
       "      <td>0.028198</td>\n",
       "      <td>0.003056</td>\n",
       "      <td>-0.053527</td>\n",
       "      <td>-0.040464</td>\n",
       "      <td>0.058109</td>\n",
       "      <td>0.049808</td>\n",
       "    </tr>\n",
       "    <tr>\n",
       "      <th>1</th>\n",
       "      <td>0.059412</td>\n",
       "      <td>-0.026258</td>\n",
       "      <td>-0.093515</td>\n",
       "      <td>0.009559</td>\n",
       "      <td>-0.047513</td>\n",
       "      <td>-0.059090</td>\n",
       "      <td>0.059412</td>\n",
       "      <td>-0.026258</td>\n",
       "      <td>-0.093515</td>\n",
       "      <td>0.009559</td>\n",
       "      <td>-0.047513</td>\n",
       "      <td>-0.059090</td>\n",
       "    </tr>\n",
       "    <tr>\n",
       "      <th>2</th>\n",
       "      <td>0.082506</td>\n",
       "      <td>-0.071859</td>\n",
       "      <td>-0.163757</td>\n",
       "      <td>0.019404</td>\n",
       "      <td>-0.040100</td>\n",
       "      <td>-0.131935</td>\n",
       "      <td>0.082506</td>\n",
       "      <td>-0.071859</td>\n",
       "      <td>-0.163757</td>\n",
       "      <td>0.019404</td>\n",
       "      <td>-0.040100</td>\n",
       "      <td>-0.131935</td>\n",
       "    </tr>\n",
       "    <tr>\n",
       "      <th>3</th>\n",
       "      <td>-0.028263</td>\n",
       "      <td>-0.012318</td>\n",
       "      <td>-0.003904</td>\n",
       "      <td>-0.078606</td>\n",
       "      <td>-0.039678</td>\n",
       "      <td>0.012166</td>\n",
       "      <td>-0.028263</td>\n",
       "      <td>-0.012318</td>\n",
       "      <td>-0.003904</td>\n",
       "      <td>-0.078606</td>\n",
       "      <td>-0.039678</td>\n",
       "      <td>0.012166</td>\n",
       "    </tr>\n",
       "    <tr>\n",
       "      <th>4</th>\n",
       "      <td>0.031886</td>\n",
       "      <td>0.028093</td>\n",
       "      <td>-0.009794</td>\n",
       "      <td>-0.002176</td>\n",
       "      <td>-0.056350</td>\n",
       "      <td>0.027733</td>\n",
       "      <td>0.031886</td>\n",
       "      <td>0.028093</td>\n",
       "      <td>-0.009794</td>\n",
       "      <td>-0.002176</td>\n",
       "      <td>-0.056350</td>\n",
       "      <td>0.027733</td>\n",
       "    </tr>\n",
       "  </tbody>\n",
       "</table>\n",
       "</div>"
      ]
     },
     "execution_count": 11,
     "metadata": {},
     "output_type": "execute_result"
    }
   ],
   "execution_count": 11
  },
  {
   "metadata": {},
   "cell_type": "markdown",
   "source": "### Logistic Regression"
  },
  {
   "metadata": {},
   "cell_type": "markdown",
   "source": "#### Clasificador para Depresión"
  },
  {
   "metadata": {
    "ExecuteTime": {
     "end_time": "2025-02-08T23:37:04.789435Z",
     "start_time": "2025-02-08T23:37:04.774312Z"
    }
   },
   "cell_type": "code",
   "source": [
    "log_model = LogisticRegression(class_weight='balanced', random_state=42)\n",
    "log_model.fit(all_features_train, y_train['depression'])\n",
    "y_pred_depression = log_model.predict(all_features_val)\n",
    "\n",
    "print(\"Depression Classification Report:\")\n",
    "print(classification_report(y_val['depression'], y_pred_depression))\n",
    "print(\"Depression ROC AUC:\", roc_auc_score(y_val['depression'], y_pred_depression))"
   ],
   "outputs": [
    {
     "name": "stdout",
     "output_type": "stream",
     "text": [
      "Depression Classification Report:\n",
      "              precision    recall  f1-score   support\n",
      "\n",
      "       False       0.72      0.04      0.08       408\n",
      "        True       0.27      0.95      0.42       148\n",
      "\n",
      "    accuracy                           0.29       556\n",
      "   macro avg       0.49      0.50      0.25       556\n",
      "weighted avg       0.60      0.29      0.17       556\n",
      "\n",
      "Depression ROC AUC: 0.4984101748807631\n"
     ]
    }
   ],
   "execution_count": 12
  },
  {
   "metadata": {},
   "cell_type": "markdown",
   "source": "Aplicamos SMOTE para manejar el desbalance de clases"
  },
  {
   "metadata": {
    "ExecuteTime": {
     "end_time": "2025-02-08T23:37:04.812780Z",
     "start_time": "2025-02-08T23:37:04.790441Z"
    }
   },
   "cell_type": "code",
   "source": [
    "# Apply SMOTE to handle class imbalance\n",
    "smote = SMOTE(random_state=42)\n",
    "X_smote, y_smote = smote.fit_resample(all_features_train, y_train['depression'])\n",
    "\n",
    "log_model.fit(X_smote, y_smote)\n",
    "y_pred_smote = log_model.predict(all_features_val)\n",
    "\n",
    "print(\"SMOTE Depression Classification Report:\")\n",
    "print(classification_report(y_val['depression'], y_pred_smote))\n",
    "print(\"SMOTE Depression ROC AUC:\", roc_auc_score(y_val['depression'], y_pred_smote))"
   ],
   "outputs": [
    {
     "name": "stdout",
     "output_type": "stream",
     "text": [
      "SMOTE Depression Classification Report:\n",
      "              precision    recall  f1-score   support\n",
      "\n",
      "       False       0.69      0.07      0.12       408\n",
      "        True       0.26      0.92      0.41       148\n",
      "\n",
      "    accuracy                           0.29       556\n",
      "   macro avg       0.48      0.49      0.26       556\n",
      "weighted avg       0.58      0.29      0.20       556\n",
      "\n",
      "SMOTE Depression ROC AUC: 0.49254769475357707\n"
     ]
    }
   ],
   "execution_count": 13
  },
  {
   "metadata": {},
   "cell_type": "markdown",
   "source": "Grid search para mejora de hiperparámetros"
  },
  {
   "metadata": {
    "ExecuteTime": {
     "end_time": "2025-02-08T23:37:04.966907Z",
     "start_time": "2025-02-08T23:37:04.813786Z"
    }
   },
   "cell_type": "code",
   "source": [
    "param_grid = {'C': [0.01, 0.1, 1, 10, 100]}\n",
    "grid_search = GridSearchCV(LogisticRegression(class_weight='balanced', random_state=42), \n",
    "                           param_grid, scoring='roc_auc', cv=5)\n",
    "\n",
    "grid_search.fit(all_features_train, y_train['depression'])\n",
    "\n",
    "best_model = grid_search.best_estimator_\n",
    "y_pred = best_model.predict(all_features_val)\n",
    "\n",
    "print(\"Tuned Logistic Regression Depression Report:\")\n",
    "print(classification_report(y_val['depression'], y_pred))\n",
    "print(\"Tuned Logistic Regression ROC AUC:\", roc_auc_score(y_val['depression'], y_pred))\n",
    "print(\"Best hyperparameters:\", grid_search.best_params_)"
   ],
   "outputs": [
    {
     "name": "stdout",
     "output_type": "stream",
     "text": [
      "Tuned Logistic Regression Depression Report:\n",
      "              precision    recall  f1-score   support\n",
      "\n",
      "       False       0.74      0.19      0.30       408\n",
      "        True       0.27      0.82      0.40       148\n",
      "\n",
      "    accuracy                           0.36       556\n",
      "   macro avg       0.50      0.50      0.35       556\n",
      "weighted avg       0.61      0.36      0.33       556\n",
      "\n",
      "Tuned Logistic Regression ROC AUC: 0.503146528881823\n",
      "Best hyperparameters: {'C': 0.01}\n"
     ]
    }
   ],
   "execution_count": 14
  },
  {
   "metadata": {},
   "cell_type": "markdown",
   "source": "#### Clasificador para Ansiedad"
  },
  {
   "metadata": {
    "ExecuteTime": {
     "end_time": "2025-02-08T23:37:05.091203Z",
     "start_time": "2025-02-08T23:37:04.967912Z"
    }
   },
   "cell_type": "code",
   "source": [
    "param_grid = {'C': [0.01, 0.1, 1, 10, 100]}\n",
    "grid_search = GridSearchCV(LogisticRegression(class_weight='balanced', random_state=42), \n",
    "                           param_grid, scoring='roc_auc', cv=5)\n",
    "\n",
    "grid_search.fit(all_features_train, y_train['anxiety'])\n",
    "\n",
    "best_model = grid_search.best_estimator_\n",
    "y_pred = best_model.predict(all_features_val)\n",
    "\n",
    "print(\"Tuned Logistic Regression Anxiety Report:\")\n",
    "print(classification_report(y_val['depression'], y_pred))\n",
    "print(\"Tuned Logistic Regression ROC AUC:\", roc_auc_score(y_val['anxiety'], y_pred))\n",
    "print(\"Best hyperparameters:\", grid_search.best_params_)"
   ],
   "outputs": [
    {
     "name": "stdout",
     "output_type": "stream",
     "text": [
      "Tuned Logistic Regression Anxiety Report:\n",
      "              precision    recall  f1-score   support\n",
      "\n",
      "       False       0.76      0.63      0.69       408\n",
      "        True       0.30      0.44      0.36       148\n",
      "\n",
      "    accuracy                           0.58       556\n",
      "   macro avg       0.53      0.53      0.52       556\n",
      "weighted avg       0.63      0.58      0.60       556\n",
      "\n",
      "Tuned Logistic Regression ROC AUC: 0.5078930348587041\n",
      "Best hyperparameters: {'C': 1}\n"
     ]
    }
   ],
   "execution_count": 15
  },
  {
   "metadata": {},
   "cell_type": "markdown",
   "source": "#### Clasificador para Estrés"
  },
  {
   "metadata": {
    "ExecuteTime": {
     "end_time": "2025-02-08T23:37:05.220286Z",
     "start_time": "2025-02-08T23:37:05.092716Z"
    }
   },
   "cell_type": "code",
   "source": [
    "param_grid = {'C': [0.01, 0.1, 1, 10, 100]}\n",
    "grid_search = GridSearchCV(LogisticRegression(class_weight='balanced', random_state=42), \n",
    "                           param_grid, scoring='roc_auc', cv=5)\n",
    "\n",
    "grid_search.fit(all_features_train, y_train['anxiety'])\n",
    "\n",
    "best_model = grid_search.best_estimator_\n",
    "y_pred = best_model.predict(all_features_val)\n",
    "\n",
    "print(\"Tuned Logistic Regression Anxiety Report:\")\n",
    "print(classification_report(y_val['depression'], y_pred))\n",
    "print(\"Tuned Logistic Regression ROC AUC:\", roc_auc_score(y_val['anxiety'], y_pred))\n",
    "print(\"Best hyperparameters:\", grid_search.best_params_)"
   ],
   "outputs": [
    {
     "name": "stdout",
     "output_type": "stream",
     "text": [
      "Tuned Logistic Regression Anxiety Report:\n",
      "              precision    recall  f1-score   support\n",
      "\n",
      "       False       0.76      0.63      0.69       408\n",
      "        True       0.30      0.44      0.36       148\n",
      "\n",
      "    accuracy                           0.58       556\n",
      "   macro avg       0.53      0.53      0.52       556\n",
      "weighted avg       0.63      0.58      0.60       556\n",
      "\n",
      "Tuned Logistic Regression ROC AUC: 0.5078930348587041\n",
      "Best hyperparameters: {'C': 1}\n"
     ]
    }
   ],
   "execution_count": 16
  },
  {
   "metadata": {},
   "cell_type": "markdown",
   "source": ""
  },
  {
   "metadata": {},
   "cell_type": "markdown",
   "source": "### SVM (Support Vector Machine)"
  },
  {
   "metadata": {},
   "cell_type": "markdown",
   "source": "#### Clasificador para Depresión"
  },
  {
   "metadata": {
    "ExecuteTime": {
     "end_time": "2025-02-08T23:37:06.041879Z",
     "start_time": "2025-02-08T23:37:05.221298Z"
    }
   },
   "cell_type": "code",
   "source": [
    "# Define the SVM model\n",
    "svm_model = SVC(probability=True, class_weight='balanced', random_state=42)\n",
    "\n",
    "param_grid = {\n",
    "    'C': [0.1, 1, 10],\n",
    "    'kernel': ['linear', 'rbf'],\n",
    "    'gamma': ['scale', 'auto']  # Only relevant for RBF kernel\n",
    "}\n",
    "\n",
    "grid_search = GridSearchCV(\n",
    "    svm_model, param_grid, scoring='roc_auc', cv=3, verbose=1\n",
    ")\n",
    "\n",
    "grid_search.fit(all_features_train, y_train['depression'])\n",
    "best_svm_model = grid_search.best_estimator_\n",
    "\n",
    "y_pred_svm = best_svm_model.predict(all_features_val)\n",
    "y_prob_svm = best_svm_model.predict_proba(all_features_val)[:, 1]  # Probabilities for ROC/PR\n",
    "\n",
    "# Classification report\n",
    "print(\"SVM Depression Classification Report:\")\n",
    "print(classification_report(y_val['depression'], y_pred_svm))\n",
    "\n",
    "# ROC-AUC\n",
    "roc_auc = roc_auc_score(y_val['depression'], y_prob_svm)\n",
    "print(\"SVM Depression ROC AUC:\", roc_auc)\n",
    "\n",
    "precision, recall, _ = precision_recall_curve(y_val['depression'], y_prob_svm)\n",
    "pr_auc = auc(recall, precision)\n",
    "print(\"SVM Depression Precision-Recall AUC:\", pr_auc)"
   ],
   "outputs": [
    {
     "name": "stdout",
     "output_type": "stream",
     "text": [
      "Fitting 3 folds for each of 12 candidates, totalling 36 fits\n",
      "SVM Depression Classification Report:\n",
      "              precision    recall  f1-score   support\n",
      "\n",
      "       False       0.71      0.24      0.36       408\n",
      "        True       0.26      0.73      0.38       148\n",
      "\n",
      "    accuracy                           0.37       556\n",
      "   macro avg       0.48      0.48      0.37       556\n",
      "weighted avg       0.59      0.37      0.37       556\n",
      "\n",
      "SVM Depression ROC AUC: 0.48828332008479064\n",
      "SVM Depression Precision-Recall AUC: 0.2592049688174512\n"
     ]
    }
   ],
   "execution_count": 17
  },
  {
   "metadata": {
    "ExecuteTime": {
     "end_time": "2025-02-08T23:37:12.623379Z",
     "start_time": "2025-02-08T23:37:06.042941Z"
    }
   },
   "cell_type": "code",
   "source": [
    "svm_poly = SVC(kernel='poly', class_weight='balanced', probability=True, random_state=42)\n",
    "\n",
    "\n",
    "param_distributions = {\n",
    "    'degree': [4],           # Polynomial degrees to try\n",
    "    'C': [0.1, 1, 10, 100],        # Regularization strengths\n",
    "    'gamma': ['scale', 'auto', 0.1, 0.01]  # Kernel coefficients\n",
    "}\n",
    "\n",
    "random_search = RandomizedSearchCV(\n",
    "    svm_poly,\n",
    "    param_distributions=param_distributions,\n",
    "    n_iter=5, \n",
    "    scoring='roc_auc',\n",
    "    cv=3,\n",
    "    verbose=1,\n",
    "    random_state=42,\n",
    "    n_jobs=-1 \n",
    ")\n",
    "\n",
    "\n",
    "random_search.fit(all_features_train.to_numpy(), y_train['depression'])\n",
    "best_svm = random_search.best_estimator_\n",
    "\n",
    "y_pred_poly = best_svm.predict(all_features_val.to_numpy())\n",
    "y_prob_poly = best_svm.predict_proba(all_features_val.to_numpy())[:, 1]\n",
    "\n",
    "print(\"Tuned SVM (Poly) Depression Classification Report:\")\n",
    "print(classification_report(y_val['depression'], y_pred_poly))\n",
    "print(\"Tuned SVM (Poly) Depression ROC AUC:\", roc_auc_score(y_val['depression'], y_prob_poly))\n",
    "print(\"Best Hyperparameters:\", random_search.best_params_)"
   ],
   "outputs": [
    {
     "name": "stdout",
     "output_type": "stream",
     "text": [
      "Fitting 3 folds for each of 5 candidates, totalling 15 fits\n",
      "Tuned SVM (Poly) Depression Classification Report:\n",
      "              precision    recall  f1-score   support\n",
      "\n",
      "       False       0.00      0.00      0.00       408\n",
      "        True       0.27      1.00      0.42       148\n",
      "\n",
      "    accuracy                           0.27       556\n",
      "   macro avg       0.13      0.50      0.21       556\n",
      "weighted avg       0.07      0.27      0.11       556\n",
      "\n",
      "Tuned SVM (Poly) Depression ROC AUC: 0.48248708267090634\n",
      "Best Hyperparameters: {'gamma': 0.1, 'degree': 4, 'C': 100}\n"
     ]
    },
    {
     "name": "stderr",
     "output_type": "stream",
     "text": [
      "C:\\Users\\arman\\AppData\\Local\\pypoetry\\Cache\\virtualenvs\\proyecto-integrador-equipo-11-WxcN3L0e-py3.12\\Lib\\site-packages\\sklearn\\metrics\\_classification.py:1565: UndefinedMetricWarning: Precision is ill-defined and being set to 0.0 in labels with no predicted samples. Use `zero_division` parameter to control this behavior.\n",
      "  _warn_prf(average, modifier, f\"{metric.capitalize()} is\", len(result))\n",
      "C:\\Users\\arman\\AppData\\Local\\pypoetry\\Cache\\virtualenvs\\proyecto-integrador-equipo-11-WxcN3L0e-py3.12\\Lib\\site-packages\\sklearn\\metrics\\_classification.py:1565: UndefinedMetricWarning: Precision is ill-defined and being set to 0.0 in labels with no predicted samples. Use `zero_division` parameter to control this behavior.\n",
      "  _warn_prf(average, modifier, f\"{metric.capitalize()} is\", len(result))\n",
      "C:\\Users\\arman\\AppData\\Local\\pypoetry\\Cache\\virtualenvs\\proyecto-integrador-equipo-11-WxcN3L0e-py3.12\\Lib\\site-packages\\sklearn\\metrics\\_classification.py:1565: UndefinedMetricWarning: Precision is ill-defined and being set to 0.0 in labels with no predicted samples. Use `zero_division` parameter to control this behavior.\n",
      "  _warn_prf(average, modifier, f\"{metric.capitalize()} is\", len(result))\n"
     ]
    }
   ],
   "execution_count": 18
  },
  {
   "metadata": {},
   "cell_type": "markdown",
   "source": "#### Clasificador para Ansiedad"
  },
  {
   "metadata": {
    "ExecuteTime": {
     "end_time": "2025-02-08T23:37:14.314145Z",
     "start_time": "2025-02-08T23:37:12.624386Z"
    }
   },
   "cell_type": "code",
   "source": [
    "svm_model = SVC(probability=True, class_weight='balanced', random_state=42)\n",
    "\n",
    "param_grid = {\n",
    "    'C': [0.1, 1, 10],\n",
    "    'kernel': ['linear', 'rbf'],\n",
    "    'gamma': ['scale', 'auto']  # Only relevant for RBF kernel\n",
    "}\n",
    "\n",
    "grid_search = GridSearchCV(\n",
    "    svm_model, param_grid, scoring='roc_auc', cv=5, verbose=1\n",
    ")\n",
    "\n",
    "grid_search.fit(all_features_train, y_train['anxiety'])\n",
    "best_svm_model = grid_search.best_estimator_\n",
    "y_pred_svm = best_svm_model.predict(all_features_val)\n",
    "y_prob_svm = best_svm_model.predict_proba(all_features_val)[:, 1]  # Probabilities for ROC/PR\n",
    "\n",
    "# Classification report\n",
    "print(\"SVM Anxiety Classification Report:\")\n",
    "print(classification_report(y_val['anxiety'], y_pred_svm))\n",
    "roc_auc = roc_auc_score(y_val['anxiety'], y_prob_svm)\n",
    "print(\"SVM Anxiety ROC AUC:\", roc_auc)\n",
    "precision, recall, _ = precision_recall_curve(y_val['anxiety'], y_prob_svm)\n",
    "pr_auc = auc(recall, precision)\n",
    "print(\"SVM Anxiety Precision-Recall AUC:\", pr_auc)\n",
    "print(\"Best Hyperparameters:\", grid_search.best_params_)"
   ],
   "outputs": [
    {
     "name": "stdout",
     "output_type": "stream",
     "text": [
      "Fitting 5 folds for each of 12 candidates, totalling 60 fits\n",
      "SVM Depression Classification Report:\n",
      "              precision    recall  f1-score   support\n",
      "\n",
      "       False       0.57      0.94      0.71       317\n",
      "        True       0.49      0.08      0.13       239\n",
      "\n",
      "    accuracy                           0.57       556\n",
      "   macro avg       0.53      0.51      0.42       556\n",
      "weighted avg       0.54      0.57      0.46       556\n",
      "\n",
      "SVM Depression ROC AUC: 0.495499122262846\n",
      "SVM Anxiety Precision-Recall AUC: 0.4325594809854578\n",
      "Best Hyperparameters: {'C': 0.1, 'gamma': 'scale', 'kernel': 'rbf'}\n"
     ]
    }
   ],
   "execution_count": 19
  },
  {
   "metadata": {},
   "cell_type": "markdown",
   "source": "#### Clasificador para Estrés"
  },
  {
   "metadata": {
    "ExecuteTime": {
     "end_time": "2025-02-08T23:37:16.044699Z",
     "start_time": "2025-02-08T23:37:14.315290Z"
    }
   },
   "cell_type": "code",
   "source": [
    "svm_model = SVC(probability=True, class_weight='balanced', random_state=42)\n",
    "\n",
    "param_grid = {\n",
    "    'C': [0.1, 1, 10],\n",
    "    'kernel': ['linear', 'rbf'],\n",
    "    'gamma': ['scale', 'auto']  # Only relevant for RBF kernel\n",
    "}\n",
    "\n",
    "grid_search = GridSearchCV(\n",
    "    svm_model, param_grid, scoring='roc_auc', cv=5, verbose=1\n",
    ")\n",
    "\n",
    "grid_search.fit(all_features_train, y_train['stress'])\n",
    "best_svm_model = grid_search.best_estimator_\n",
    "y_pred_svm = best_svm_model.predict(all_features_val)\n",
    "y_prob_svm = best_svm_model.predict_proba(all_features_val)[:, 1]  # Probabilities for ROC/PR\n",
    "\n",
    "# Classification report\n",
    "print(\"SVM Stress Classification Report:\")\n",
    "print(classification_report(y_val['stress'], y_pred_svm))\n",
    "roc_auc = roc_auc_score(y_val['stress'], y_prob_svm)\n",
    "print(\"SVM Stress ROC AUC:\", roc_auc)\n",
    "precision, recall, _ = precision_recall_curve(y_val['stress'], y_prob_svm)\n",
    "pr_auc = auc(recall, precision)\n",
    "print(\"SVM Stress Precision-Recall AUC:\", pr_auc)\n",
    "print(\"Best Hyperparameters:\", grid_search.best_params_)"
   ],
   "outputs": [
    {
     "name": "stdout",
     "output_type": "stream",
     "text": [
      "Fitting 5 folds for each of 12 candidates, totalling 60 fits\n",
      "SVM Depression Classification Report:\n",
      "              precision    recall  f1-score   support\n",
      "\n",
      "       False       0.56      0.93      0.70       315\n",
      "        True       0.41      0.06      0.11       241\n",
      "\n",
      "    accuracy                           0.55       556\n",
      "   macro avg       0.48      0.50      0.41       556\n",
      "weighted avg       0.50      0.55      0.44       556\n",
      "\n",
      "SVM Depression ROC AUC: 0.5308898109727985\n",
      "SVM Stress Precision-Recall AUC: 0.4576229304304389\n",
      "Best Hyperparameters: {'C': 0.1, 'gamma': 'scale', 'kernel': 'rbf'}\n"
     ]
    }
   ],
   "execution_count": 20
  },
  {
   "metadata": {
    "ExecuteTime": {
     "end_time": "2025-02-08T23:37:16.048588Z",
     "start_time": "2025-02-08T23:37:16.045706Z"
    }
   },
   "cell_type": "code",
   "source": "",
   "outputs": [],
   "execution_count": 20
  },
  {
   "metadata": {},
   "cell_type": "markdown",
   "source": "### XGBoost"
  },
  {
   "metadata": {},
   "cell_type": "markdown",
   "source": "#### Clasificador para Depresión"
  },
  {
   "metadata": {
    "ExecuteTime": {
     "end_time": "2025-02-08T23:37:16.053622Z",
     "start_time": "2025-02-08T23:37:16.049593Z"
    }
   },
   "cell_type": "code",
   "source": [
    "# imbalance ratio\n",
    "imbalance_ratio_depression = len(y_train['depression'][y_train['depression'] == 0]) / len(y_train['depression'][y_train['depression'] == 1])"
   ],
   "outputs": [],
   "execution_count": 21
  },
  {
   "metadata": {
    "ExecuteTime": {
     "end_time": "2025-02-08T23:37:16.278714Z",
     "start_time": "2025-02-08T23:37:16.054755Z"
    }
   },
   "cell_type": "code",
   "source": [
    "xgb_model = XGBClassifier(scale_pos_weight=imbalance_ratio_depression, random_state=42)\n",
    "xgb_model.fit(all_features_train, y_train['depression'])\n",
    "y_pred_xgb = xgb_model.predict(all_features_val)\n",
    "y_prob_xgb = xgb_model.predict_proba(all_features_val)[:, 1]\n",
    "print(\"XGBoost Depression Classification Report:\")\n",
    "print(classification_report(y_val['depression'], y_pred_xgb))\n",
    "print(\"XGBoost Depression ROC AUC:\", roc_auc_score(y_val['depression'], y_prob_xgb))\n"
   ],
   "outputs": [
    {
     "name": "stdout",
     "output_type": "stream",
     "text": [
      "XGBoost Depression Classification Report:\n",
      "              precision    recall  f1-score   support\n",
      "\n",
      "       False       0.74      0.35      0.48       408\n",
      "        True       0.27      0.66      0.38       148\n",
      "\n",
      "    accuracy                           0.43       556\n",
      "   macro avg       0.50      0.50      0.43       556\n",
      "weighted avg       0.61      0.43      0.45       556\n",
      "\n",
      "XGBoost Depression ROC AUC: 0.5075268282988871\n"
     ]
    }
   ],
   "execution_count": 22
  },
  {
   "metadata": {
    "ExecuteTime": {
     "end_time": "2025-02-08T23:37:22.414442Z",
     "start_time": "2025-02-08T23:37:16.279722Z"
    }
   },
   "cell_type": "code",
   "source": [
    "param_grid = {\n",
    "    'n_estimators': [50, 100, 200],  # Number of trees\n",
    "    'max_depth': [3, 5, 7],  # Tree depth\n",
    "    'learning_rate': [0.01, 0.1, 0.3],  # Step size\n",
    "    'scale_pos_weight': [imbalance_ratio_depression]  # Imbalance handling\n",
    "}\n",
    "\n",
    "xgb_tuned = XGBClassifier(random_state=42)\n",
    "\n",
    "grid_search = GridSearchCV(xgb_tuned, param_grid, scoring='roc_auc', cv=3, verbose=1)\n",
    "grid_search.fit(all_features_train, y_train['depression'])\n",
    "\n",
    "best_xgb = grid_search.best_estimator_\n",
    "\n",
    "y_pred_xgb_tuned = best_xgb.predict(all_features_val)\n",
    "y_prob_xgb_tuned = best_xgb.predict_proba(all_features_val)[:, 1]\n",
    "\n",
    "print(\"Tuned XGBoost Depression Classification Report:\")\n",
    "print(classification_report(y_val['depression'], y_pred_xgb_tuned))\n",
    "print(\"Tuned XGBoost Depression ROC AUC:\", roc_auc_score(y_val['depression'], y_prob_xgb_tuned))\n",
    "print(\"Best Hyperparameters:\", grid_search.best_params_)"
   ],
   "outputs": [
    {
     "name": "stdout",
     "output_type": "stream",
     "text": [
      "Fitting 3 folds for each of 27 candidates, totalling 81 fits\n",
      "Tuned XGBoost Depression Classification Report:\n",
      "              precision    recall  f1-score   support\n",
      "\n",
      "       False       0.79      0.04      0.07       408\n",
      "        True       0.27      0.97      0.42       148\n",
      "\n",
      "    accuracy                           0.29       556\n",
      "   macro avg       0.53      0.50      0.25       556\n",
      "weighted avg       0.65      0.29      0.16       556\n",
      "\n",
      "Tuned XGBoost Depression ROC AUC: 0.5144988738738738\n",
      "Best Hyperparameters: {'learning_rate': 0.01, 'max_depth': 3, 'n_estimators': 50, 'scale_pos_weight': 2.7320261437908497}\n"
     ]
    }
   ],
   "execution_count": 23
  },
  {
   "metadata": {},
   "cell_type": "markdown",
   "source": "#### Clasificador para Ansiedad"
  },
  {
   "metadata": {
    "ExecuteTime": {
     "end_time": "2025-02-08T23:37:22.420774Z",
     "start_time": "2025-02-08T23:37:22.415445Z"
    }
   },
   "cell_type": "code",
   "source": [
    "# imbalance ratio\n",
    "imbalance_ratio_anxiety = len(y_train['anxiety'][y_train['anxiety'] == 0]) / len(y_train['anxiety'][y_train['anxiety'] == 1])"
   ],
   "outputs": [],
   "execution_count": 24
  },
  {
   "metadata": {
    "ExecuteTime": {
     "end_time": "2025-02-08T23:37:28.296034Z",
     "start_time": "2025-02-08T23:37:22.422778Z"
    }
   },
   "cell_type": "code",
   "source": [
    "param_grid = {\n",
    "    'n_estimators': [50, 100, 200],  # Number of trees\n",
    "    'max_depth': [3, 5, 7],  # Tree depth\n",
    "    'learning_rate': [0.01, 0.1, 0.3],  # Step size\n",
    "    'scale_pos_weight': [imbalance_ratio_anxiety]  # Imbalance handling\n",
    "}\n",
    "\n",
    "xgb_tuned = XGBClassifier(random_state=42)\n",
    "\n",
    "grid_search = GridSearchCV(xgb_tuned, param_grid, scoring='roc_auc', cv=3, verbose=1)\n",
    "grid_search.fit(all_features_train, y_train['anxiety'])\n",
    "\n",
    "best_xgb = grid_search.best_estimator_\n",
    "\n",
    "y_pred_xgb_tuned = best_xgb.predict(all_features_val)\n",
    "y_prob_xgb_tuned = best_xgb.predict_proba(all_features_val)[:, 1]\n",
    "\n",
    "print(\"Tuned XGBoost Anxiety Classification Report:\")\n",
    "print(classification_report(y_val['anxiety'], y_pred_xgb_tuned))\n",
    "print(\"Tuned XGBoost Anxiety ROC AUC:\", roc_auc_score(y_val['anxiety'], y_prob_xgb_tuned))\n",
    "print(\"Best Hyperparameters:\", grid_search.best_params_)"
   ],
   "outputs": [
    {
     "name": "stdout",
     "output_type": "stream",
     "text": [
      "Fitting 3 folds for each of 27 candidates, totalling 81 fits\n",
      "Tuned XGBoost Anxiety Classification Report:\n",
      "              precision    recall  f1-score   support\n",
      "\n",
      "       False       0.63      0.19      0.29       317\n",
      "        True       0.44      0.85      0.58       239\n",
      "\n",
      "    accuracy                           0.47       556\n",
      "   macro avg       0.54      0.52      0.44       556\n",
      "weighted avg       0.55      0.47      0.42       556\n",
      "\n",
      "Tuned XGBoost Anxiety ROC AUC: 0.5171389728495439\n",
      "Best Hyperparameters: {'learning_rate': 0.3, 'max_depth': 3, 'n_estimators': 50, 'scale_pos_weight': 1.3024193548387097}\n"
     ]
    }
   ],
   "execution_count": 25
  },
  {
   "metadata": {
    "ExecuteTime": {
     "end_time": "2025-02-08T23:37:28.300419Z",
     "start_time": "2025-02-08T23:37:28.297038Z"
    }
   },
   "cell_type": "code",
   "source": "",
   "outputs": [],
   "execution_count": 25
  },
  {
   "metadata": {},
   "cell_type": "markdown",
   "source": "#### Clasificador para Estrés"
  },
  {
   "metadata": {
    "ExecuteTime": {
     "end_time": "2025-02-08T23:37:28.307264Z",
     "start_time": "2025-02-08T23:37:28.302422Z"
    }
   },
   "cell_type": "code",
   "source": [
    "# imbalance ratio\n",
    "imbalance_ratio_stress = len(y_train['stress'][y_train['stress'] == 0]) / len(y_train['stress'][y_train['stress'] == 1])"
   ],
   "outputs": [],
   "execution_count": 26
  },
  {
   "metadata": {
    "ExecuteTime": {
     "end_time": "2025-02-08T23:37:33.056774Z",
     "start_time": "2025-02-08T23:37:28.312267Z"
    }
   },
   "cell_type": "code",
   "source": [
    "param_grid = {\n",
    "    'n_estimators': [50, 100, 200],  # Number of trees\n",
    "    'max_depth': [3, 5, 7],  # Tree depth\n",
    "    'learning_rate': [0.01, 0.1, 0.3],  # Step size\n",
    "    'scale_pos_weight': [imbalance_ratio_anxiety]  # Imbalance handling\n",
    "}\n",
    "\n",
    "xgb_tuned = XGBClassifier(random_state=42)\n",
    "\n",
    "grid_search = GridSearchCV(xgb_tuned, param_grid, scoring='roc_auc', cv=3, verbose=1)\n",
    "grid_search.fit(all_features_train, y_train['stress'])\n",
    "\n",
    "best_xgb = grid_search.best_estimator_\n",
    "\n",
    "y_pred_xgb_tuned = best_xgb.predict(all_features_val)\n",
    "y_prob_xgb_tuned = best_xgb.predict_proba(all_features_val)[:, 1]\n",
    "\n",
    "print(\"Tuned XGBoost Stress Classification Report:\")\n",
    "print(classification_report(y_val['stress'], y_pred_xgb_tuned))\n",
    "print(\"Tuned XGBoost Stress ROC AUC:\", roc_auc_score(y_val['stress'], y_prob_xgb_tuned))\n",
    "print(\"Best Hyperparameters:\", grid_search.best_params_)"
   ],
   "outputs": [
    {
     "name": "stdout",
     "output_type": "stream",
     "text": [
      "Fitting 3 folds for each of 27 candidates, totalling 81 fits\n",
      "Tuned XGBoost Stress Classification Report:\n",
      "              precision    recall  f1-score   support\n",
      "\n",
      "       False       0.56      0.92      0.70       315\n",
      "        True       0.38      0.07      0.11       241\n",
      "\n",
      "    accuracy                           0.55       556\n",
      "   macro avg       0.47      0.49      0.41       556\n",
      "weighted avg       0.48      0.55      0.44       556\n",
      "\n",
      "Tuned XGBoost Stress ROC AUC: 0.503556609365738\n",
      "Best Hyperparameters: {'learning_rate': 0.1, 'max_depth': 3, 'n_estimators': 200, 'scale_pos_weight': 1.3024193548387097}\n"
     ]
    }
   ],
   "execution_count": 27
  },
  {
   "metadata": {
    "ExecuteTime": {
     "end_time": "2025-02-08T23:37:33.060733Z",
     "start_time": "2025-02-08T23:37:33.058280Z"
    }
   },
   "cell_type": "code",
   "source": "",
   "outputs": [],
   "execution_count": 27
  },
  {
   "metadata": {},
   "cell_type": "markdown",
   "source": "### LightGBM"
  },
  {
   "metadata": {},
   "cell_type": "markdown",
   "source": "#### Clasificador para Depresión"
  },
  {
   "metadata": {
    "ExecuteTime": {
     "end_time": "2025-02-08T23:37:33.227507Z",
     "start_time": "2025-02-08T23:37:33.062736Z"
    }
   },
   "cell_type": "code",
   "source": [
    "lgbm_model = LGBMClassifier(class_weight='balanced', random_state=42, verbose=-1)\n",
    "lgbm_model.fit(all_features_train, y_train['depression'])\n",
    "\n",
    "y_pred_lgbm = lgbm_model.predict(all_features_val)\n",
    "y_prob_lgbm = lgbm_model.predict_proba(all_features_val)[:, 1]\n",
    "\n",
    "print(\"LightGBM Depression Classification Report:\")\n",
    "print(classification_report(y_val['depression'], y_pred_lgbm))\n",
    "print(\"LightGBM Depression ROC AUC:\", roc_auc_score(y_val['depression'], y_prob_lgbm))\n"
   ],
   "outputs": [
    {
     "name": "stdout",
     "output_type": "stream",
     "text": [
      "LightGBM Depression Classification Report:\n",
      "              precision    recall  f1-score   support\n",
      "\n",
      "       False       0.72      0.42      0.53       408\n",
      "        True       0.26      0.55      0.35       148\n",
      "\n",
      "    accuracy                           0.45       556\n",
      "   macro avg       0.49      0.49      0.44       556\n",
      "weighted avg       0.60      0.45      0.48       556\n",
      "\n",
      "LightGBM Depression ROC AUC: 0.49295343137254904\n"
     ]
    }
   ],
   "execution_count": 28
  },
  {
   "metadata": {
    "ExecuteTime": {
     "end_time": "2025-02-08T23:37:36.338043Z",
     "start_time": "2025-02-08T23:37:33.228957Z"
    }
   },
   "cell_type": "code",
   "source": [
    "param_grid = {\n",
    "    'num_leaves': [20, 50, 100],  # Increase to capture complexity\n",
    "    'learning_rate': [0.01, 0.1, 0.3],  # Adjust step size\n",
    "    'min_child_samples': [5, 10, 20],  # Control leaf creation\n",
    "    'class_weight': ['balanced']\n",
    "}\n",
    "\n",
    "grid_search = GridSearchCV(LGBMClassifier(random_state=42, verbose=-1), param_grid, scoring='roc_auc', cv=3, verbose=1)\n",
    "grid_search.fit(all_features_train, y_train['depression'])\n",
    "\n",
    "best_lgbm = grid_search.best_estimator_\n",
    "\n",
    "y_pred_lgbm_tuned = best_lgbm.predict(all_features_val)\n",
    "y_prob_lgbm_tuned = best_lgbm.predict_proba(all_features_val)[:, 1]\n",
    "\n",
    "print(\"Tuned LightGBM Depression Classification Report:\")\n",
    "print(classification_report(y_val['depression'], y_pred_lgbm_tuned))\n",
    "print(\"Tuned LightGBM Depression ROC AUC:\", roc_auc_score(y_val['depression'], y_prob_lgbm_tuned))\n",
    "print(\"Best Hyperparameters:\", grid_search.best_params_)"
   ],
   "outputs": [
    {
     "name": "stdout",
     "output_type": "stream",
     "text": [
      "Fitting 3 folds for each of 27 candidates, totalling 81 fits\n",
      "Tuned LightGBM Depression Classification Report:\n",
      "              precision    recall  f1-score   support\n",
      "\n",
      "       False       0.72      0.41      0.52       408\n",
      "        True       0.26      0.56      0.35       148\n",
      "\n",
      "    accuracy                           0.45       556\n",
      "   macro avg       0.49      0.49      0.44       556\n",
      "weighted avg       0.60      0.45      0.48       556\n",
      "\n",
      "Tuned LightGBM Depression ROC AUC: 0.4767074059353472\n",
      "Best Hyperparameters: {'class_weight': 'balanced', 'learning_rate': 0.01, 'min_child_samples': 20, 'num_leaves': 20}\n"
     ]
    }
   ],
   "execution_count": 29
  },
  {
   "metadata": {},
   "cell_type": "markdown",
   "source": "#### Clasificador para Ansiedad"
  },
  {
   "metadata": {
    "ExecuteTime": {
     "end_time": "2025-02-08T23:37:39.457614Z",
     "start_time": "2025-02-08T23:37:36.339531Z"
    }
   },
   "cell_type": "code",
   "source": [
    "param_grid = {\n",
    "    'num_leaves': [20, 50, 100],  # Increase to capture complexity\n",
    "    'learning_rate': [0.01, 0.1, 0.3],  # Adjust step size\n",
    "    'min_child_samples': [5, 10, 20],  # Control leaf creation\n",
    "    'class_weight': ['balanced']\n",
    "}\n",
    "\n",
    "grid_search = GridSearchCV(LGBMClassifier(random_state=42, verbose=-1), param_grid, scoring='roc_auc', cv=3, verbose=1)\n",
    "grid_search.fit(all_features_train, y_train['anxiety'])\n",
    "\n",
    "best_lgbm = grid_search.best_estimator_\n",
    "\n",
    "y_pred_lgbm_tuned = best_lgbm.predict(all_features_val)\n",
    "y_prob_lgbm_tuned = best_lgbm.predict_proba(all_features_val)[:, 1]\n",
    "\n",
    "print(\"Tuned LightGBM Anxiety Classification Report:\")\n",
    "print(classification_report(y_val['anxiety'], y_pred_lgbm_tuned))\n",
    "print(\"Tuned LightGBM Anxiety ROC AUC:\", roc_auc_score(y_val['anxiety'], y_prob_lgbm_tuned))\n",
    "print(\"Best Hyperparameters:\", grid_search.best_params_)"
   ],
   "outputs": [
    {
     "name": "stdout",
     "output_type": "stream",
     "text": [
      "Fitting 3 folds for each of 27 candidates, totalling 81 fits\n",
      "Tuned LightGBM Anxiety Classification Report:\n",
      "              precision    recall  f1-score   support\n",
      "\n",
      "       False       0.57      0.92      0.71       317\n",
      "        True       0.48      0.10      0.16       239\n",
      "\n",
      "    accuracy                           0.57       556\n",
      "   macro avg       0.53      0.51      0.43       556\n",
      "weighted avg       0.53      0.57      0.47       556\n",
      "\n",
      "Tuned LightGBM Anxiety ROC AUC: 0.5157464725525652\n",
      "Best Hyperparameters: {'class_weight': 'balanced', 'learning_rate': 0.3, 'min_child_samples': 5, 'num_leaves': 20}\n"
     ]
    }
   ],
   "execution_count": 30
  },
  {
   "metadata": {},
   "cell_type": "markdown",
   "source": "#### Clasificador para Estrés"
  },
  {
   "metadata": {
    "ExecuteTime": {
     "end_time": "2025-02-08T23:37:42.463308Z",
     "start_time": "2025-02-08T23:37:39.459624Z"
    }
   },
   "cell_type": "code",
   "source": [
    "param_grid = {\n",
    "    'num_leaves': [20, 50, 100],  # Increase to capture complexity\n",
    "    'learning_rate': [0.01, 0.1, 0.3],  # Adjust step size\n",
    "    'min_child_samples': [5, 10, 20],  # Control leaf creation\n",
    "    'class_weight': ['balanced']\n",
    "}\n",
    "\n",
    "grid_search = GridSearchCV(LGBMClassifier(random_state=42, verbose=-1), param_grid, scoring='roc_auc', cv=3, verbose=1)\n",
    "grid_search.fit(all_features_train, y_train['stress'])\n",
    "\n",
    "best_lgbm = grid_search.best_estimator_\n",
    "\n",
    "y_pred_lgbm_tuned = best_lgbm.predict(all_features_val)\n",
    "y_prob_lgbm_tuned = best_lgbm.predict_proba(all_features_val)[:, 1]\n",
    "\n",
    "print(\"Tuned LightGBM Stress Classification Report:\")\n",
    "print(classification_report(y_val['stress'], y_pred_lgbm_tuned))\n",
    "print(\"Tuned LightGBM Stress ROC AUC:\", roc_auc_score(y_val['stress'], y_prob_lgbm_tuned))\n",
    "print(\"Best Hyperparameters:\", grid_search.best_params_)"
   ],
   "outputs": [
    {
     "name": "stdout",
     "output_type": "stream",
     "text": [
      "Fitting 3 folds for each of 27 candidates, totalling 81 fits\n",
      "Tuned LightGBM Stress Classification Report:\n",
      "              precision    recall  f1-score   support\n",
      "\n",
      "       False       0.56      0.39      0.46       315\n",
      "        True       0.43      0.60      0.50       241\n",
      "\n",
      "    accuracy                           0.48       556\n",
      "   macro avg       0.49      0.49      0.48       556\n",
      "weighted avg       0.50      0.48      0.47       556\n",
      "\n",
      "Tuned LightGBM Stress ROC AUC: 0.5095369821510901\n",
      "Best Hyperparameters: {'class_weight': 'balanced', 'learning_rate': 0.3, 'min_child_samples': 10, 'num_leaves': 50}\n"
     ]
    }
   ],
   "execution_count": 31
  },
  {
   "cell_type": "markdown",
   "metadata": {},
   "source": [
    "# Análisis de sub/sobreajuste\n",
    "\n",
    "[TODO: Se comparan diferentes métricas de evaluación del modelo en los conjuntos de entrenamiento y prueba para concluir si hay sub/sobreajuste. Se pueden utilizar curvas de aprendizaje, técnicas de validación cruzada o inspección de gráficos de residuos para complementar el análisis.]\n",
    "\n",
    "¿El modelo está sub/sobreajustando los datos de entrenamiento?\n",
    "\n",
    "[tomar como referencia este análsis: No se observa sobre-entrenamiento pues la diferencia de accuracy entre test y train no es mayor al 3%. No se observa bajo-entrenamiento porque el porcentaje de accuracy es mayor a 0.56 que es el nuevo porcentaje de clase mayoritaria despues de las técnicas de bajo y sobre muestreo.]\n"
   ]
  },
  {
   "metadata": {
    "ExecuteTime": {
     "end_time": "2025-02-08T23:37:44.047815Z",
     "start_time": "2025-02-08T23:37:42.465315Z"
    }
   },
   "cell_type": "code",
   "source": [
    "models = {\n",
    "    \"Logistic Regression\": LogisticRegression(class_weight='balanced', random_state=42),\n",
    "    \"SVM\": SVC(kernel='rbf', probability=True, class_weight='balanced', random_state=42),\n",
    "    \"XGBoost\": XGBClassifier(scale_pos_weight=imbalance_ratio, random_state=42),\n",
    "    \"LightGBM\": LGBMClassifier(class_weight='balanced', random_state=42)\n",
    "}\n",
    "\n",
    "plt.figure(figsize=(14, 6))\n",
    "palette = sns.color_palette(\"husl\", len(models))\n",
    "\n",
    "\n",
    "for i, (name, model) in enumerate(models.items()):\n",
    "    model.fit(all_features_train, y_train['depression'])\n",
    "    y_prob = model.predict_proba(all_features_val)[:, 1]\n",
    "    fpr, tpr, _ = roc_curve(y_val['depression'], y_prob)\n",
    "    fpr_det, fnr_det, _ = det_curve(y_val['depression'], y_prob)\n",
    "    plt.subplot(1, 2, 1)\n",
    "    sns.lineplot(x=fpr, y=tpr, label=f\"{name} (AUC = {roc_auc_score(y_val['depression'], y_prob):.2f})\",\n",
    "                 color=palette[i])\n",
    "    plt.subplot(1, 2, 2)\n",
    "    sns.lineplot(x=fpr_det, y=fnr_det, label=name, color=palette[i])\n",
    "\n",
    "\n",
    "plt.subplot(1, 2, 1)\n",
    "plt.plot([0, 1], [0, 1], linestyle=\"--\", color=\"gray\", alpha=0.7)\n",
    "plt.xlabel(\"False Positive Rate\")\n",
    "plt.ylabel(\"True Positive Rate\")\n",
    "plt.title(\"ROC Curve Comparison\")\n",
    "plt.legend()\n",
    "\n",
    "\n",
    "plt.subplot(1, 2, 2)\n",
    "plt.xlabel(\"False Positive Rate\")\n",
    "plt.ylabel(\"False Negative Rate\")\n",
    "plt.title(\"DET Curve Comparison\")\n",
    "plt.legend()\n",
    "\n",
    "plt.tight_layout()\n",
    "plt.show()\n"
   ],
   "outputs": [
    {
     "ename": "NameError",
     "evalue": "name 'imbalance_ratio' is not defined",
     "output_type": "error",
     "traceback": [
      "\u001B[1;31m---------------------------------------------------------------------------\u001B[0m",
      "\u001B[1;31mNameError\u001B[0m                                 Traceback (most recent call last)",
      "Cell \u001B[1;32mIn[32], line 4\u001B[0m\n\u001B[0;32m      1\u001B[0m models \u001B[38;5;241m=\u001B[39m {\n\u001B[0;32m      2\u001B[0m     \u001B[38;5;124m\"\u001B[39m\u001B[38;5;124mLogistic Regression\u001B[39m\u001B[38;5;124m\"\u001B[39m: LogisticRegression(class_weight\u001B[38;5;241m=\u001B[39m\u001B[38;5;124m'\u001B[39m\u001B[38;5;124mbalanced\u001B[39m\u001B[38;5;124m'\u001B[39m, random_state\u001B[38;5;241m=\u001B[39m\u001B[38;5;241m42\u001B[39m),\n\u001B[0;32m      3\u001B[0m     \u001B[38;5;124m\"\u001B[39m\u001B[38;5;124mSVM\u001B[39m\u001B[38;5;124m\"\u001B[39m: SVC(kernel\u001B[38;5;241m=\u001B[39m\u001B[38;5;124m'\u001B[39m\u001B[38;5;124mrbf\u001B[39m\u001B[38;5;124m'\u001B[39m, probability\u001B[38;5;241m=\u001B[39m\u001B[38;5;28;01mTrue\u001B[39;00m, class_weight\u001B[38;5;241m=\u001B[39m\u001B[38;5;124m'\u001B[39m\u001B[38;5;124mbalanced\u001B[39m\u001B[38;5;124m'\u001B[39m, random_state\u001B[38;5;241m=\u001B[39m\u001B[38;5;241m42\u001B[39m),\n\u001B[1;32m----> 4\u001B[0m     \u001B[38;5;124m\"\u001B[39m\u001B[38;5;124mXGBoost\u001B[39m\u001B[38;5;124m\"\u001B[39m: XGBClassifier(scale_pos_weight\u001B[38;5;241m=\u001B[39m\u001B[43mimbalance_ratio\u001B[49m, random_state\u001B[38;5;241m=\u001B[39m\u001B[38;5;241m42\u001B[39m),\n\u001B[0;32m      5\u001B[0m     \u001B[38;5;124m\"\u001B[39m\u001B[38;5;124mLightGBM\u001B[39m\u001B[38;5;124m\"\u001B[39m: LGBMClassifier(class_weight\u001B[38;5;241m=\u001B[39m\u001B[38;5;124m'\u001B[39m\u001B[38;5;124mbalanced\u001B[39m\u001B[38;5;124m'\u001B[39m, random_state\u001B[38;5;241m=\u001B[39m\u001B[38;5;241m42\u001B[39m)\n\u001B[0;32m      6\u001B[0m }\n\u001B[0;32m      8\u001B[0m plt\u001B[38;5;241m.\u001B[39mfigure(figsize\u001B[38;5;241m=\u001B[39m(\u001B[38;5;241m14\u001B[39m, \u001B[38;5;241m6\u001B[39m))\n\u001B[0;32m      9\u001B[0m palette \u001B[38;5;241m=\u001B[39m sns\u001B[38;5;241m.\u001B[39mcolor_palette(\u001B[38;5;124m\"\u001B[39m\u001B[38;5;124mhusl\u001B[39m\u001B[38;5;124m\"\u001B[39m, \u001B[38;5;28mlen\u001B[39m(models))\n",
      "\u001B[1;31mNameError\u001B[0m: name 'imbalance_ratio' is not defined"
     ]
    }
   ],
   "execution_count": 32
  },
  {
   "cell_type": "code",
   "metadata": {
    "ExecuteTime": {
     "end_time": "2025-02-08T23:37:44.048821Z",
     "start_time": "2025-02-08T23:37:44.048821Z"
    }
   },
   "source": [],
   "outputs": [],
   "execution_count": null
  },
  {
   "cell_type": "markdown",
   "metadata": {},
   "source": [
    "# Análisis de características importantes"
   ]
  },
  {
   "cell_type": "markdown",
   "metadata": {},
   "source": [
    "[Se hace un análisis de la relevancia de las características, si aplica, utilizando métodos de selección (filter, embedded, wrapper) o extracción de características (PCA, FA, …) Se incluye una representación visual del resultado para facilitar la interpretación.]"
   ]
  },
  {
   "cell_type": "markdown",
   "metadata": {
    "vscode": {
     "languageId": "plaintext"
    }
   },
   "source": [
    "\n",
    "\n",
    "¿Se puede determinar la importancia de las características para el modelo generado? Recuerden que incluir características irrelevantes puede afectar negativamente el rendimiento del modelo y aumentar la complejidad sin beneficios sustanciales.\n"
   ]
  },
  {
   "cell_type": "code",
   "metadata": {
    "ExecuteTime": {
     "end_time": "2025-02-08T23:37:44.049821Z",
     "start_time": "2025-02-08T23:37:44.049821Z"
    }
   },
   "source": [],
   "outputs": [],
   "execution_count": null
  },
  {
   "cell_type": "markdown",
   "metadata": {},
   "source": [
    "# Conclusiones"
   ]
  },
  {
   "cell_type": "code",
   "metadata": {
    "ExecuteTime": {
     "end_time": "2025-02-08T23:37:44.050826Z",
     "start_time": "2025-02-08T23:37:44.050826Z"
    }
   },
   "source": [],
   "outputs": [],
   "execution_count": null
  },
  {
   "cell_type": "markdown",
   "metadata": {},
   "source": [
    "# Referencias"
   ]
  },
  {
   "cell_type": "code",
   "metadata": {
    "ExecuteTime": {
     "end_time": "2025-02-08T23:37:44.051823Z",
     "start_time": "2025-02-08T23:37:44.051823Z"
    }
   },
   "source": [],
   "outputs": [],
   "execution_count": null
  }
 ],
 "metadata": {
  "kernelspec": {
   "display_name": "proyecto-integrador-equipo-11-RpNcPuS5-py3.10",
   "language": "python",
   "name": "python3"
  },
  "language_info": {
   "codemirror_mode": {
    "name": "ipython",
    "version": 3
   },
   "file_extension": ".py",
   "mimetype": "text/x-python",
   "name": "python",
   "nbconvert_exporter": "python",
   "pygments_lexer": "ipython3",
   "version": "3.10.13"
  }
 },
 "nbformat": 4,
 "nbformat_minor": 2
}
