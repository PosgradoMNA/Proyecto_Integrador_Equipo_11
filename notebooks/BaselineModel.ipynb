{
 "cells": [
  {
   "cell_type": "markdown",
   "metadata": {},
   "source": [
    "# Baseline"
   ]
  },
  {
   "cell_type": "markdown",
   "metadata": {},
   "source": [
    "**Proyecto Integrador TC5035.10**\n",
    "\n",
    "**Profesor Asesor:**\n",
    "- Dra. Ludivina Facundo (ITESM)\n",
    "\n",
    "\n",
    "**Profesores Investigadores/Tutores:**\n",
    "- Dr. Juan Arturo Nolazco (ITESM)\n",
    "- Dr. Marcos Faunez Zaunuy (TecnoCampus Barcelona)\n",
    "\n",
    "**Equipo 11:**\n",
    "- Francisco José Arellano Montes (A01794283)\n",
    "- Armando Bringas Corpus (A01200230)\n",
    "- Moisés Díaz Malagón (A01208580)"
   ]
  },
  {
   "cell_type": "markdown",
   "metadata": {
    "vscode": {
     "languageId": "plaintext"
    }
   },
   "source": [
    "Este avance consiste en construir un modelo de referencia que permita evaluar la viabilidad del problema. Si el baseline tiene un rendimiento similar al azar, podría indicar que el problema es intrínsecamente difícil o que los datos no contienen suficiente información para predecir el objetivo. De lo contrario, el baseline podría como una solución mínima aceptable cuando se trabaja en escenarios donde incluso un modelo simple puede proporcionar valor.\n",
    "\n"
   ]
  },
  {
   "cell_type": "code",
   "metadata": {
    "ExecuteTime": {
     "end_time": "2025-02-08T22:33:45.436482Z",
     "start_time": "2025-02-08T22:33:44.675414Z"
    }
   },
   "source": [
    "import pandas as pd\n",
    "import numpy as np\n",
    "import matplotlib.pyplot as plt\n",
    "import seaborn as sns\n",
    "\n",
    "from imblearn.over_sampling import SMOTE\n",
    "from sklearn.linear_model import LogisticRegression\n",
    "from sklearn.model_selection import GridSearchCV\n",
    "from sklearn.svm import SVC\n",
    "from sklearn.metrics import confusion_matrix, classification_report, roc_auc_score, precision_recall_curve, auc, roc_curve, det_curve\n",
    "from xgboost import XGBClassifier\n"
   ],
   "execution_count": 1,
   "outputs": []
  },
  {
   "cell_type": "code",
   "metadata": {
    "ExecuteTime": {
     "end_time": "2025-02-08T22:33:45.442541Z",
     "start_time": "2025-02-08T22:33:45.438488Z"
    }
   },
   "source": [
    "def cargar_datos():\n",
    "    \"\"\"\n",
    "    Carga los datos preprocesados del análisis exploratorio\n",
    "    \"\"\"\n",
    "    X_train = pd.read_parquet('../data/preprocessed/X_train.parquet')\n",
    "    y_train = pd.read_parquet('../data/preprocessed/y_train.parquet')\n",
    "    X_val = pd.read_parquet('../data/preprocessed/X_val.parquet')\n",
    "    y_val = pd.read_parquet('../data/preprocessed/y_val.parquet')\n",
    "    X_test = pd.read_parquet('../data/preprocessed/X_test.parquet')\n",
    "    y_test = pd.read_parquet('../data/preprocessed/y_test.parquet')\n",
    "    return X_train, y_train, X_val, y_val, X_test, y_test"
   ],
   "outputs": [],
   "execution_count": 2
  },
  {
   "cell_type": "code",
   "metadata": {
    "ExecuteTime": {
     "end_time": "2025-02-08T22:33:45.509590Z",
     "start_time": "2025-02-08T22:33:45.443549Z"
    }
   },
   "source": "X_train, y_train, X_val, y_val, X_text, y_test = cargar_datos()",
   "outputs": [],
   "execution_count": 3
  },
  {
   "metadata": {
    "ExecuteTime": {
     "end_time": "2025-02-08T22:33:45.515721Z",
     "start_time": "2025-02-08T22:33:45.510597Z"
    }
   },
   "cell_type": "code",
   "source": "X_train.shape, y_train.shape, X_val.shape, y_val.shape",
   "outputs": [
    {
     "data": {
      "text/plain": [
       "((571, 4), (571, 3), (556, 4), (556, 3))"
      ]
     },
     "execution_count": 4,
     "metadata": {},
     "output_type": "execute_result"
    }
   ],
   "execution_count": 4
  },
  {
   "cell_type": "code",
   "metadata": {
    "ExecuteTime": {
     "end_time": "2025-02-08T22:33:45.768821Z",
     "start_time": "2025-02-08T22:33:45.516732Z"
    }
   },
   "source": [
    "fig, axes = plt.subplots(1, 3, figsize=(15, 5), constrained_layout=True)\n",
    "\n",
    "\n",
    "sns.countplot(data=y_train, x='depression', ax=axes[0])\n",
    "axes[0].set_title('Training Labels')\n",
    "sns.countplot(data=y_val, x='depression', ax=axes[1])\n",
    "axes[1].set_title('Validation Labels')\n",
    "\n",
    "sns.countplot(data=y_test, x='depression', ax=axes[2])\n",
    "axes[2].set_title('Test Labels')\n",
    "\n",
    "\n",
    "plt.show()\n",
    "\n",
    "print(f'Proporción en train set: {y_train[\"depression\"].mean():.2f}')\n",
    "print(f'Proporción en validation set: {y_val[\"depression\"].mean():.2f}')\n",
    "print(f'Proporción en test set: {y_test[\"depression\"].mean():.2f}')"
   ],
   "outputs": [
    {
     "data": {
      "text/plain": [
       "<Figure size 1500x500 with 3 Axes>"
      ],
      "image/png": "[encoded data removed]"
     },
     "metadata": {},
     "output_type": "display_data"
    },
    {
     "name": "stdout",
     "output_type": "stream",
     "text": [
      "Proporción en train set: 0.27\n",
      "Proporción en validation set: 0.27\n",
      "Proporción en test set: 0.27\n"
     ]
    }
   ],
   "execution_count": 5
  },
  {
   "cell_type": "markdown",
   "metadata": {},
   "source": [
    "Primeramente podemos comprobar que se mantiene el balancen de clases en los 3 sets de datos, entrenamiento, validación y prueba para la etiqueta 'depression'.\n"
   ]
  },
  {
   "cell_type": "markdown",
   "metadata": {},
   "source": [
    "TODO: poner el de las otras dos labels\n"
   ]
  },
  {
   "cell_type": "markdown",
   "metadata": {},
   "source": [
    "# Análisis de balance de clases"
   ]
  },
  {
   "cell_type": "code",
   "metadata": {
    "ExecuteTime": {
     "end_time": "2025-02-08T22:33:45.988404Z",
     "start_time": "2025-02-08T22:33:45.769839Z"
    }
   },
   "source": [
    "# Set up the figure with 3 subplots in a single row\n",
    "fig, axes = plt.subplots(1, 3, figsize=(15, 5), constrained_layout=True)\n",
    "sns.countplot(data=y_train, x='depression', ax=axes[0])\n",
    "axes[0].set_title('Depression Class Balance')\n",
    "sns.countplot(data=y_train, x='anxiety', ax=axes[1])\n",
    "axes[1].set_title('Anxiety Class Balance')\n",
    "sns.countplot(data=y_train, x='stress', ax=axes[2])\n",
    "axes[2].set_title('Stress Class Balance')\n",
    "plt.show()\n",
    "\n",
    "# Print proportions\n",
    "print(f'Porcentaje de la clase positiva de Depression: {y_train[\"depression\"].mean():.2f}')\n",
    "print(f'Porcentaje de la clase positiva de Anxiety: {y_train[\"anxiety\"].mean():.2f}')\n",
    "print(f'Porcentaje de la clase positiva de Stress: {y_train[\"stress\"].mean():.2f}')\n"
   ],
   "outputs": [
    {
     "data": {
      "text/plain": [
       "<Figure size 1500x500 with 3 Axes>"
      ],
      "image/png": "[encoded data removed]"
     },
     "metadata": {},
     "output_type": "display_data"
    },
    {
     "name": "stdout",
     "output_type": "stream",
     "text": [
      "Porcentaje de la clase positiva de Depression: 0.27\n",
      "Porcentaje de la clase positiva de Anxiety: 0.43\n",
      "Porcentaje de la clase positiva de Stress: 0.43\n"
     ]
    }
   ],
   "execution_count": 6
  },
  {
   "cell_type": "markdown",
   "metadata": {},
   "source": [
    "Dado que se trabajará como 3 problemas de clasificación binaria independientes, se puede comprobar que no tenemos un problema de datos no balanceados pues para las 3 variables estamos dentro de un 80/20 de proporciones entre la clase negativa y la positiva para cada label."
   ]
  },
  {
   "cell_type": "markdown",
   "metadata": {},
   "source": [
    "Con el balance de clases positivas, se establece el desempeño mínimo a obtener para verificar que el modelo baseline no está sub-entrenado."
   ]
  },
  {
   "cell_type": "code",
   "metadata": {
    "ExecuteTime": {
     "end_time": "2025-02-08T22:33:45.995765Z",
     "start_time": "2025-02-08T22:33:45.989419Z"
    }
   },
   "source": [
    "print(f\"Expected minimum accuracy for depression: {y_train['depression'].mean():.4f}\")\n",
    "print(f\"Expected minimuma ccuracy for anxiety: {y_train['anxiety'].mean():.4f}\")\n",
    "print(f\"Expected minimum accuracy for stress: {y_train['stress'].mean():.4f}\")"
   ],
   "outputs": [
    {
     "name": "stdout",
     "output_type": "stream",
     "text": [
      "Expected minimum accuracy for depression: 0.2680\n",
      "Expected minimuma ccuracy for anxiety: 0.4343\n",
      "Expected minimum accuracy for stress: 0.4343\n"
     ]
    }
   ],
   "execution_count": 7
  },
  {
   "cell_type": "markdown",
   "metadata": {},
   "source": [
    "# Métrica"
   ]
  },
  {
   "cell_type": "markdown",
   "metadata": {},
   "source": [
    "Dado que se trabajará con un 3 problemas independientes de clasificación binaria, se utilizarán las siguientes métricas:\n",
    "TODO: Completar descripción, y justificar el por qué de cada una. E.g. f1 para clases no tan balanceadas. \n",
    "\n",
    "- accuracy:\n",
    "- precision:\n",
    "- recall:\n",
    "- f1:\n",
    "- roc_auc:"
   ]
  },
  {
   "cell_type": "markdown",
   "metadata": {},
   "source": [
    "De acuerdo con el contexto de negocio, que es el diagnóstico psicológico y considerando el factor de la sugestión, será importante reducir la cantidad de Falsos Positivos (error tipo 1) que significa que queremos reducir el número de casos donde le decimos a un paciente que tiene depresión cuando en realidad no lo tiene. Por lo tanto la métrica a optimizar será precision. \n",
    "\n",
    "TODO: definir con los doctores\n"
   ]
  },
  {
   "cell_type": "markdown",
   "metadata": {},
   "source": [
    "De acuerdo con el balanceo de clases, ya que se cuenta con una mínima proporcion que no supera el 80/20 podemos decir que no se esperan afectaciones en el aprendizaje para la clase minoritaria (positiva), sin embargo si es necesario en la siguiente mejora del modelo se utilizarán técnicas de balanceo de clase al menos para el caso de \"depression\"."
   ]
  },
  {
   "cell_type": "markdown",
   "metadata": {},
   "source": [
    "# Algoritmo y entrenamiento\n",
    "\n",
    "¿Qué algoritmo se puede utilizar como baseline para predecir las variables objetivo?\n",
    "\n",
    "[TODO: Se explica por qué el algoritmo seleccionado es apropiado para el tipo de problema que se está abordando. Se considera en el análisis aspectos clave, como el tipo (estructurados o no estructurados) y la cantidad de datos, la presencia de características relevantes, la interpretabilidad (si es importante), entre otros.]\n"
   ]
  },
  {
   "metadata": {},
   "cell_type": "markdown",
   "source": "### Preparación de 'features' para 'depression', 'anxiety' y 'stress'"
  },
  {
   "metadata": {
    "ExecuteTime": {
     "end_time": "2025-02-08T22:33:46.007215Z",
     "start_time": "2025-02-08T22:33:45.997776Z"
    }
   },
   "cell_type": "code",
   "source": [
    "features_x_train = pd.DataFrame(X_train['caracteristica_0'].to_list())\n",
    "features_y_train = pd.DataFrame(X_train['caracteristica_1'].to_list())\n",
    "all_features_train = pd.concat([features_x_train, features_y_train], axis=1)\n",
    "all_features_train.columns = [f\"feature_{i}\" for i in range(all_features_train.shape[1])]\n",
    "\n",
    "features_x_val = pd.DataFrame(X_val['caracteristica_0'].to_list())\n",
    "features_y_val = pd.DataFrame(X_val['caracteristica_1'].to_list())\n",
    "all_features_val = pd.concat([features_x_val, features_y_val], axis=1)\n",
    "all_features_val.columns = [f\"feature_{i}\" for i in range(all_features_val.shape[1])]\n"
   ],
   "outputs": [],
   "execution_count": 8
  },
  {
   "metadata": {
    "ExecuteTime": {
     "end_time": "2025-02-08T22:33:46.019282Z",
     "start_time": "2025-02-08T22:33:46.008222Z"
    }
   },
   "cell_type": "code",
   "source": "all_features_train.head()",
   "outputs": [
    {
     "data": {
      "text/plain": [
       "   feature_0  feature_1  feature_2  feature_3  feature_4  feature_5  \\\n",
       "0  -0.001141   0.001778  -0.000225  -0.018490   0.008358  -0.003956   \n",
       "1  -0.009949   0.007753  -0.002964   0.004642   0.040384   0.009501   \n",
       "2  -0.001141   0.001778  -0.000225  -0.018490   0.008358  -0.003956   \n",
       "3  -0.000798  -0.006673  -0.013066  -0.060550  -0.002632  -0.033502   \n",
       "4  -0.011365   0.058803   0.009939  -0.056347  -0.005695  -0.026979   \n",
       "\n",
       "   feature_6  feature_7  feature_8  feature_9  feature_10  feature_11  \n",
       "0  -0.001141   0.001778  -0.000225  -0.018490    0.008358   -0.003956  \n",
       "1  -0.009949   0.007753  -0.002964   0.004642    0.040384    0.009501  \n",
       "2  -0.001141   0.001778  -0.000225  -0.018490    0.008358   -0.003956  \n",
       "3  -0.000798  -0.006673  -0.013066  -0.060550   -0.002632   -0.033502  \n",
       "4  -0.011365   0.058803   0.009939  -0.056347   -0.005695   -0.026979  "
      ],
      "text/html": [
       "<div>\n",
       "<style scoped>\n",
       "    .dataframe tbody tr th:only-of-type {\n",
       "        vertical-align: middle;\n",
       "    }\n",
       "\n",
       "    .dataframe tbody tr th {\n",
       "        vertical-align: top;\n",
       "    }\n",
       "\n",
       "    .dataframe thead th {\n",
       "        text-align: right;\n",
       "    }\n",
       "</style>\n",
       "<table border=\"1\" class=\"dataframe\">\n",
       "  <thead>\n",
       "    <tr style=\"text-align: right;\">\n",
       "      <th></th>\n",
       "      <th>feature_0</th>\n",
       "      <th>feature_1</th>\n",
       "      <th>feature_2</th>\n",
       "      <th>feature_3</th>\n",
       "      <th>feature_4</th>\n",
       "      <th>feature_5</th>\n",
       "      <th>feature_6</th>\n",
       "      <th>feature_7</th>\n",
       "      <th>feature_8</th>\n",
       "      <th>feature_9</th>\n",
       "      <th>feature_10</th>\n",
       "      <th>feature_11</th>\n",
       "    </tr>\n",
       "  </thead>\n",
       "  <tbody>\n",
       "    <tr>\n",
       "      <th>0</th>\n",
       "      <td>-0.001141</td>\n",
       "      <td>0.001778</td>\n",
       "      <td>-0.000225</td>\n",
       "      <td>-0.018490</td>\n",
       "      <td>0.008358</td>\n",
       "      <td>-0.003956</td>\n",
       "      <td>-0.001141</td>\n",
       "      <td>0.001778</td>\n",
       "      <td>-0.000225</td>\n",
       "      <td>-0.018490</td>\n",
       "      <td>0.008358</td>\n",
       "      <td>-0.003956</td>\n",
       "    </tr>\n",
       "    <tr>\n",
       "      <th>1</th>\n",
       "      <td>-0.009949</td>\n",
       "      <td>0.007753</td>\n",
       "      <td>-0.002964</td>\n",
       "      <td>0.004642</td>\n",
       "      <td>0.040384</td>\n",
       "      <td>0.009501</td>\n",
       "      <td>-0.009949</td>\n",
       "      <td>0.007753</td>\n",
       "      <td>-0.002964</td>\n",
       "      <td>0.004642</td>\n",
       "      <td>0.040384</td>\n",
       "      <td>0.009501</td>\n",
       "    </tr>\n",
       "    <tr>\n",
       "      <th>2</th>\n",
       "      <td>-0.001141</td>\n",
       "      <td>0.001778</td>\n",
       "      <td>-0.000225</td>\n",
       "      <td>-0.018490</td>\n",
       "      <td>0.008358</td>\n",
       "      <td>-0.003956</td>\n",
       "      <td>-0.001141</td>\n",
       "      <td>0.001778</td>\n",
       "      <td>-0.000225</td>\n",
       "      <td>-0.018490</td>\n",
       "      <td>0.008358</td>\n",
       "      <td>-0.003956</td>\n",
       "    </tr>\n",
       "    <tr>\n",
       "      <th>3</th>\n",
       "      <td>-0.000798</td>\n",
       "      <td>-0.006673</td>\n",
       "      <td>-0.013066</td>\n",
       "      <td>-0.060550</td>\n",
       "      <td>-0.002632</td>\n",
       "      <td>-0.033502</td>\n",
       "      <td>-0.000798</td>\n",
       "      <td>-0.006673</td>\n",
       "      <td>-0.013066</td>\n",
       "      <td>-0.060550</td>\n",
       "      <td>-0.002632</td>\n",
       "      <td>-0.033502</td>\n",
       "    </tr>\n",
       "    <tr>\n",
       "      <th>4</th>\n",
       "      <td>-0.011365</td>\n",
       "      <td>0.058803</td>\n",
       "      <td>0.009939</td>\n",
       "      <td>-0.056347</td>\n",
       "      <td>-0.005695</td>\n",
       "      <td>-0.026979</td>\n",
       "      <td>-0.011365</td>\n",
       "      <td>0.058803</td>\n",
       "      <td>0.009939</td>\n",
       "      <td>-0.056347</td>\n",
       "      <td>-0.005695</td>\n",
       "      <td>-0.026979</td>\n",
       "    </tr>\n",
       "  </tbody>\n",
       "</table>\n",
       "</div>"
      ]
     },
     "execution_count": 9,
     "metadata": {},
     "output_type": "execute_result"
    }
   ],
   "execution_count": 9
  },
  {
   "metadata": {
    "ExecuteTime": {
     "end_time": "2025-02-08T22:33:46.030576Z",
     "start_time": "2025-02-08T22:33:46.021287Z"
    }
   },
   "cell_type": "code",
   "source": "all_features_val.head()",
   "outputs": [
    {
     "data": {
      "text/plain": [
       "   feature_0  feature_1  feature_2  feature_3  feature_4  feature_5  \\\n",
       "0   0.028198   0.003056  -0.053527  -0.040464   0.058109   0.049808   \n",
       "1   0.059412  -0.026258  -0.093515   0.009559  -0.047513  -0.059090   \n",
       "2   0.082506  -0.071859  -0.163757   0.019404  -0.040100  -0.131935   \n",
       "3  -0.028263  -0.012318  -0.003904  -0.078606  -0.039678   0.012166   \n",
       "4   0.031886   0.028093  -0.009794  -0.002176  -0.056350   0.027733   \n",
       "\n",
       "   feature_6  feature_7  feature_8  feature_9  feature_10  feature_11  \n",
       "0   0.028198   0.003056  -0.053527  -0.040464    0.058109    0.049808  \n",
       "1   0.059412  -0.026258  -0.093515   0.009559   -0.047513   -0.059090  \n",
       "2   0.082506  -0.071859  -0.163757   0.019404   -0.040100   -0.131935  \n",
       "3  -0.028263  -0.012318  -0.003904  -0.078606   -0.039678    0.012166  \n",
       "4   0.031886   0.028093  -0.009794  -0.002176   -0.056350    0.027733  "
      ],
      "text/html": [
       "<div>\n",
       "<style scoped>\n",
       "    .dataframe tbody tr th:only-of-type {\n",
       "        vertical-align: middle;\n",
       "    }\n",
       "\n",
       "    .dataframe tbody tr th {\n",
       "        vertical-align: top;\n",
       "    }\n",
       "\n",
       "    .dataframe thead th {\n",
       "        text-align: right;\n",
       "    }\n",
       "</style>\n",
       "<table border=\"1\" class=\"dataframe\">\n",
       "  <thead>\n",
       "    <tr style=\"text-align: right;\">\n",
       "      <th></th>\n",
       "      <th>feature_0</th>\n",
       "      <th>feature_1</th>\n",
       "      <th>feature_2</th>\n",
       "      <th>feature_3</th>\n",
       "      <th>feature_4</th>\n",
       "      <th>feature_5</th>\n",
       "      <th>feature_6</th>\n",
       "      <th>feature_7</th>\n",
       "      <th>feature_8</th>\n",
       "      <th>feature_9</th>\n",
       "      <th>feature_10</th>\n",
       "      <th>feature_11</th>\n",
       "    </tr>\n",
       "  </thead>\n",
       "  <tbody>\n",
       "    <tr>\n",
       "      <th>0</th>\n",
       "      <td>0.028198</td>\n",
       "      <td>0.003056</td>\n",
       "      <td>-0.053527</td>\n",
       "      <td>-0.040464</td>\n",
       "      <td>0.058109</td>\n",
       "      <td>0.049808</td>\n",
       "      <td>0.028198</td>\n",
       "      <td>0.003056</td>\n",
       "      <td>-0.053527</td>\n",
       "      <td>-0.040464</td>\n",
       "      <td>0.058109</td>\n",
       "      <td>0.049808</td>\n",
       "    </tr>\n",
       "    <tr>\n",
       "      <th>1</th>\n",
       "      <td>0.059412</td>\n",
       "      <td>-0.026258</td>\n",
       "      <td>-0.093515</td>\n",
       "      <td>0.009559</td>\n",
       "      <td>-0.047513</td>\n",
       "      <td>-0.059090</td>\n",
       "      <td>0.059412</td>\n",
       "      <td>-0.026258</td>\n",
       "      <td>-0.093515</td>\n",
       "      <td>0.009559</td>\n",
       "      <td>-0.047513</td>\n",
       "      <td>-0.059090</td>\n",
       "    </tr>\n",
       "    <tr>\n",
       "      <th>2</th>\n",
       "      <td>0.082506</td>\n",
       "      <td>-0.071859</td>\n",
       "      <td>-0.163757</td>\n",
       "      <td>0.019404</td>\n",
       "      <td>-0.040100</td>\n",
       "      <td>-0.131935</td>\n",
       "      <td>0.082506</td>\n",
       "      <td>-0.071859</td>\n",
       "      <td>-0.163757</td>\n",
       "      <td>0.019404</td>\n",
       "      <td>-0.040100</td>\n",
       "      <td>-0.131935</td>\n",
       "    </tr>\n",
       "    <tr>\n",
       "      <th>3</th>\n",
       "      <td>-0.028263</td>\n",
       "      <td>-0.012318</td>\n",
       "      <td>-0.003904</td>\n",
       "      <td>-0.078606</td>\n",
       "      <td>-0.039678</td>\n",
       "      <td>0.012166</td>\n",
       "      <td>-0.028263</td>\n",
       "      <td>-0.012318</td>\n",
       "      <td>-0.003904</td>\n",
       "      <td>-0.078606</td>\n",
       "      <td>-0.039678</td>\n",
       "      <td>0.012166</td>\n",
       "    </tr>\n",
       "    <tr>\n",
       "      <th>4</th>\n",
       "      <td>0.031886</td>\n",
       "      <td>0.028093</td>\n",
       "      <td>-0.009794</td>\n",
       "      <td>-0.002176</td>\n",
       "      <td>-0.056350</td>\n",
       "      <td>0.027733</td>\n",
       "      <td>0.031886</td>\n",
       "      <td>0.028093</td>\n",
       "      <td>-0.009794</td>\n",
       "      <td>-0.002176</td>\n",
       "      <td>-0.056350</td>\n",
       "      <td>0.027733</td>\n",
       "    </tr>\n",
       "  </tbody>\n",
       "</table>\n",
       "</div>"
      ]
     },
     "execution_count": 10,
     "metadata": {},
     "output_type": "execute_result"
    }
   ],
   "execution_count": 10
  },
  {
   "metadata": {},
   "cell_type": "markdown",
   "source": "### Logistic Regression"
  },
  {
   "cell_type": "code",
   "metadata": {
    "ExecuteTime": {
     "end_time": "2025-02-08T22:33:46.066105Z",
     "start_time": "2025-02-08T22:33:46.031582Z"
    }
   },
   "source": [
    "log_model = LogisticRegression(class_weight='balanced', random_state=42)\n",
    "log_model.fit(all_features_train, y_train['depression'])\n",
    "y_pred_depression = log_model.predict(all_features_val)\n",
    "\n",
    "print(\"Depression Classification Report:\")\n",
    "print(classification_report(y_val['depression'], y_pred_depression))\n",
    "print(\"Depression ROC AUC:\", roc_auc_score(y_val['depression'], y_pred_depression))\n",
    "\n",
    "# Anxiety\n",
    "log_model.fit(all_features_train, y_train['anxiety'])\n",
    "y_pred_anxiety = log_model.predict(all_features_val)\n",
    "print(\"\\nAnxiety Classification Report:\")\n",
    "print(classification_report(y_val['anxiety'], y_pred_anxiety))\n",
    "print(\"Anxiety ROC AUC:\", roc_auc_score(y_val['anxiety'], y_pred_anxiety))\n",
    "\n",
    "# Stress\n",
    "log_model.fit(all_features_train, y_train['stress'])\n",
    "y_pred_stress = log_model.predict(all_features_val)\n",
    "print(\"\\nStress Classification Report:\")\n",
    "print(classification_report(y_val['stress'], y_pred_stress))\n",
    "print(\"Stress ROC AUC:\", roc_auc_score(y_val['stress'], y_pred_stress))\n"
   ],
   "outputs": [
    {
     "name": "stdout",
     "output_type": "stream",
     "text": [
      "Depression Classification Report:\n",
      "              precision    recall  f1-score   support\n",
      "\n",
      "       False       0.72      0.04      0.08       408\n",
      "        True       0.27      0.95      0.42       148\n",
      "\n",
      "    accuracy                           0.29       556\n",
      "   macro avg       0.49      0.50      0.25       556\n",
      "weighted avg       0.60      0.29      0.17       556\n",
      "\n",
      "Depression ROC AUC: 0.4984101748807631\n",
      "\n",
      "Anxiety Classification Report:\n",
      "              precision    recall  f1-score   support\n",
      "\n",
      "       False       0.58      0.62      0.60       317\n",
      "        True       0.44      0.40      0.42       239\n",
      "\n",
      "    accuracy                           0.52       556\n",
      "   macro avg       0.51      0.51      0.51       556\n",
      "weighted avg       0.52      0.52      0.52       556\n",
      "\n",
      "Anxiety ROC AUC: 0.5078930348587041\n",
      "\n",
      "Stress Classification Report:\n",
      "              precision    recall  f1-score   support\n",
      "\n",
      "       False       0.55      0.37      0.45       315\n",
      "        True       0.43      0.61      0.50       241\n",
      "\n",
      "    accuracy                           0.47       556\n",
      "   macro avg       0.49      0.49      0.47       556\n",
      "weighted avg       0.50      0.47      0.47       556\n",
      "\n",
      "Stress ROC AUC: 0.49020615161694\n"
     ]
    }
   ],
   "execution_count": 11
  },
  {
   "metadata": {
    "ExecuteTime": {
     "end_time": "2025-02-08T22:33:46.085112Z",
     "start_time": "2025-02-08T22:33:46.067112Z"
    }
   },
   "cell_type": "code",
   "source": [
    "# Apply SMOTE to handle class imbalance\n",
    "smote = SMOTE(random_state=42)\n",
    "X_smote, y_smote = smote.fit_resample(all_features_train, y_train['depression'])\n",
    "\n",
    "log_model.fit(X_smote, y_smote)\n",
    "y_pred_smote = log_model.predict(all_features_val)\n",
    "\n",
    "print(\"SMOTE Depression Classification Report:\")\n",
    "print(classification_report(y_val['depression'], y_pred_smote))\n",
    "print(\"SMOTE Depression ROC AUC:\", roc_auc_score(y_val['depression'], y_pred_smote))\n"
   ],
   "outputs": [
    {
     "name": "stdout",
     "output_type": "stream",
     "text": [
      "SMOTE Depression Classification Report:\n",
      "              precision    recall  f1-score   support\n",
      "\n",
      "       False       0.69      0.07      0.12       408\n",
      "        True       0.26      0.92      0.41       148\n",
      "\n",
      "    accuracy                           0.29       556\n",
      "   macro avg       0.48      0.49      0.26       556\n",
      "weighted avg       0.58      0.29      0.20       556\n",
      "\n",
      "SMOTE Depression ROC AUC: 0.49254769475357707\n"
     ]
    }
   ],
   "execution_count": 12
  },
  {
   "metadata": {
    "ExecuteTime": {
     "end_time": "2025-02-08T22:33:46.102624Z",
     "start_time": "2025-02-08T22:33:46.085616Z"
    }
   },
   "cell_type": "code",
   "source": [
    "smote = SMOTE(sampling_strategy=0.5, random_state=42)  # Oversample to 50% of the majority class\n",
    "X_smote, y_smote = smote.fit_resample(all_features_train, y_train['depression'])\n",
    "\n",
    "log_model.fit(X_smote, y_smote)\n",
    "y_pred_smote = log_model.predict(all_features_val)\n",
    "\n",
    "print(\"Refined SMOTE Depression Classification Report:\")\n",
    "print(classification_report(y_val['depression'], y_pred_smote))\n",
    "print(\"Refined SMOTE Depression ROC AUC:\", roc_auc_score(y_val['depression'], y_pred_smote))\n"
   ],
   "outputs": [
    {
     "name": "stdout",
     "output_type": "stream",
     "text": [
      "Refined SMOTE Depression Classification Report:\n",
      "              precision    recall  f1-score   support\n",
      "\n",
      "       False       0.69      0.07      0.12       408\n",
      "        True       0.26      0.92      0.41       148\n",
      "\n",
      "    accuracy                           0.29       556\n",
      "   macro avg       0.48      0.49      0.26       556\n",
      "weighted avg       0.58      0.29      0.20       556\n",
      "\n",
      "Refined SMOTE Depression ROC AUC: 0.49254769475357707\n"
     ]
    }
   ],
   "execution_count": 13
  },
  {
   "metadata": {
    "ExecuteTime": {
     "end_time": "2025-02-08T22:33:46.236594Z",
     "start_time": "2025-02-08T22:33:46.103130Z"
    }
   },
   "cell_type": "code",
   "source": [
    "param_grid = {'C': [0.01, 0.1, 1, 10, 100]}\n",
    "grid_search = GridSearchCV(LogisticRegression(class_weight='balanced', random_state=42), \n",
    "                           param_grid, scoring='roc_auc', cv=5)\n",
    "\n",
    "grid_search.fit(all_features_train, y_train['depression'])\n",
    "\n",
    "best_model = grid_search.best_estimator_\n",
    "y_pred = best_model.predict(all_features_val)\n",
    "\n",
    "print(\"Tuned Logistic Regression Depression Report:\")\n",
    "print(classification_report(y_val['depression'], y_pred))\n",
    "print(\"Tuned Logistic Regression ROC AUC:\", roc_auc_score(y_val['depression'], y_pred))\n"
   ],
   "outputs": [
    {
     "name": "stdout",
     "output_type": "stream",
     "text": [
      "Tuned Logistic Regression Depression Report:\n",
      "              precision    recall  f1-score   support\n",
      "\n",
      "       False       0.74      0.19      0.30       408\n",
      "        True       0.27      0.82      0.40       148\n",
      "\n",
      "    accuracy                           0.36       556\n",
      "   macro avg       0.50      0.50      0.35       556\n",
      "weighted avg       0.61      0.36      0.33       556\n",
      "\n",
      "Tuned Logistic Regression ROC AUC: 0.503146528881823\n"
     ]
    }
   ],
   "execution_count": 14
  },
  {
   "metadata": {},
   "cell_type": "markdown",
   "source": ""
  },
  {
   "metadata": {},
   "cell_type": "markdown",
   "source": "### SVM (Support Vector Machine)"
  },
  {
   "metadata": {
    "ExecuteTime": {
     "end_time": "2025-02-08T22:33:47.093114Z",
     "start_time": "2025-02-08T22:33:46.237604Z"
    }
   },
   "cell_type": "code",
   "source": [
    "# Define the SVM model\n",
    "svm_model = SVC(probability=True, class_weight='balanced', random_state=42)\n",
    "\n",
    "param_grid = {\n",
    "    'C': [0.1, 1, 10],\n",
    "    'kernel': ['linear', 'rbf'],\n",
    "    'gamma': ['scale', 'auto']  # Only relevant for RBF kernel\n",
    "}\n",
    "\n",
    "grid_search = GridSearchCV(\n",
    "    svm_model, param_grid, scoring='roc_auc', cv=3, verbose=1\n",
    ")\n",
    "\n",
    "grid_search.fit(all_features_train, y_train['depression'])\n",
    "best_svm_model = grid_search.best_estimator_\n",
    "\n",
    "y_pred_svm = best_svm_model.predict(all_features_val)\n",
    "y_prob_svm = best_svm_model.predict_proba(all_features_val)[:, 1]  # Probabilities for ROC/PR\n",
    "\n",
    "# Classification report\n",
    "print(\"SVM Depression Classification Report:\")\n",
    "print(classification_report(y_val['depression'], y_pred_svm))\n",
    "\n",
    "# ROC-AUC\n",
    "roc_auc = roc_auc_score(y_val['depression'], y_prob_svm)\n",
    "print(\"SVM Depression ROC AUC:\", roc_auc)\n",
    "\n",
    "precision, recall, _ = precision_recall_curve(y_val['depression'], y_prob_svm)\n",
    "pr_auc = auc(recall, precision)\n",
    "print(\"SVM Depression Precision-Recall AUC:\", pr_auc)\n"
   ],
   "outputs": [
    {
     "name": "stdout",
     "output_type": "stream",
     "text": [
      "Fitting 3 folds for each of 12 candidates, totalling 36 fits\n",
      "SVM Depression Classification Report:\n",
      "              precision    recall  f1-score   support\n",
      "\n",
      "       False       0.71      0.24      0.36       408\n",
      "        True       0.26      0.73      0.38       148\n",
      "\n",
      "    accuracy                           0.37       556\n",
      "   macro avg       0.48      0.48      0.37       556\n",
      "weighted avg       0.59      0.37      0.37       556\n",
      "\n",
      "SVM Depression ROC AUC: 0.48828332008479064\n",
      "SVM Depression Precision-Recall AUC: 0.2592049688174512\n"
     ]
    }
   ],
   "execution_count": 15
  },
  {
   "metadata": {
    "ExecuteTime": {
     "end_time": "2025-02-08T22:33:47.138144Z",
     "start_time": "2025-02-08T22:33:47.094259Z"
    }
   },
   "cell_type": "code",
   "source": [
    "svm_poly = SVC(kernel='poly', degree=3, class_weight='balanced', probability=True, random_state=42)\n",
    "svm_poly.fit(all_features_train, y_train['depression'])\n",
    "\n",
    "y_pred_poly = svm_poly.predict(all_features_val)\n",
    "y_prob_poly = svm_poly.predict_proba(all_features_val)[:, 1]\n",
    "\n",
    "print(\"SVM (Poly) Depression Classification Report:\")\n",
    "print(classification_report(y_val['depression'], y_pred_poly))\n",
    "print(\"SVM (Poly) Depression ROC AUC:\", roc_auc_score(y_val['depression'], y_prob_poly))\n"
   ],
   "outputs": [
    {
     "name": "stdout",
     "output_type": "stream",
     "text": [
      "SVM (Poly) Depression Classification Report:\n",
      "              precision    recall  f1-score   support\n",
      "\n",
      "       False       0.70      0.06      0.12       408\n",
      "        True       0.26      0.93      0.41       148\n",
      "\n",
      "    accuracy                           0.29       556\n",
      "   macro avg       0.48      0.49      0.26       556\n",
      "weighted avg       0.59      0.29      0.20       556\n",
      "\n",
      "SVM (Poly) Depression ROC AUC: 0.4873476417594064\n"
     ]
    }
   ],
   "execution_count": 16
  },
  {
   "metadata": {},
   "cell_type": "markdown",
   "source": "### XGBoost"
  },
  {
   "metadata": {
    "ExecuteTime": {
     "end_time": "2025-02-08T22:33:47.289708Z",
     "start_time": "2025-02-08T22:33:47.139148Z"
    }
   },
   "cell_type": "code",
   "source": [
    "\n",
    "# Compute class imbalance ratio\n",
    "imbalance_ratio = len(y_train['depression'][y_train['depression'] == 0]) / len(y_train['depression'][y_train['depression'] == 1])\n",
    "\n",
    "# Initialize XGBoost with imbalance handling\n",
    "xgb_model = XGBClassifier(scale_pos_weight=imbalance_ratio, random_state=42)\n",
    "\n",
    "# Train on depression classification\n",
    "xgb_model.fit(all_features_train, y_train['depression'])\n",
    "\n",
    "# Predict on validation set\n",
    "y_pred_xgb = xgb_model.predict(all_features_val)\n",
    "y_prob_xgb = xgb_model.predict_proba(all_features_val)[:, 1]\n",
    "\n",
    "# Evaluate performance\n",
    "print(\"XGBoost Depression Classification Report:\")\n",
    "print(classification_report(y_val['depression'], y_pred_xgb))\n",
    "print(\"XGBoost Depression ROC AUC:\", roc_auc_score(y_val['depression'], y_prob_xgb))\n"
   ],
   "outputs": [
    {
     "name": "stdout",
     "output_type": "stream",
     "text": [
      "XGBoost Depression Classification Report:\n",
      "              precision    recall  f1-score   support\n",
      "\n",
      "       False       0.74      0.35      0.48       408\n",
      "        True       0.27      0.66      0.38       148\n",
      "\n",
      "    accuracy                           0.43       556\n",
      "   macro avg       0.50      0.50      0.43       556\n",
      "weighted avg       0.61      0.43      0.45       556\n",
      "\n",
      "XGBoost Depression ROC AUC: 0.5075268282988871\n"
     ]
    }
   ],
   "execution_count": 17
  },
  {
   "metadata": {
    "ExecuteTime": {
     "end_time": "2025-02-08T22:33:50.989214Z",
     "start_time": "2025-02-08T22:33:47.290715Z"
    }
   },
   "cell_type": "code",
   "source": [
    "param_grid = {\n",
    "    'n_estimators': [50, 100, 200],  # Number of trees\n",
    "    'max_depth': [3, 5, 7],  # Tree depth\n",
    "    'learning_rate': [0.01, 0.1, 0.3],  # Step size\n",
    "    'scale_pos_weight': [imbalance_ratio]  # Imbalance handling\n",
    "}\n",
    "\n",
    "xgb_tuned = XGBClassifier(random_state=42)\n",
    "\n",
    "grid_search = GridSearchCV(xgb_tuned, param_grid, scoring='roc_auc', cv=3, verbose=1)\n",
    "grid_search.fit(all_features_train, y_train['depression'])\n",
    "\n",
    "best_xgb = grid_search.best_estimator_\n",
    "\n",
    "y_pred_xgb_tuned = best_xgb.predict(all_features_val)\n",
    "y_prob_xgb_tuned = best_xgb.predict_proba(all_features_val)[:, 1]\n",
    "\n",
    "print(\"Tuned XGBoost Depression Classification Report:\")\n",
    "print(classification_report(y_val['depression'], y_pred_xgb_tuned))\n",
    "print(\"Tuned XGBoost Depression ROC AUC:\", roc_auc_score(y_val['depression'], y_prob_xgb_tuned))\n"
   ],
   "outputs": [
    {
     "name": "stdout",
     "output_type": "stream",
     "text": [
      "Fitting 3 folds for each of 27 candidates, totalling 81 fits\n",
      "Tuned XGBoost Depression Classification Report:\n",
      "              precision    recall  f1-score   support\n",
      "\n",
      "       False       0.79      0.04      0.07       408\n",
      "        True       0.27      0.97      0.42       148\n",
      "\n",
      "    accuracy                           0.29       556\n",
      "   macro avg       0.53      0.50      0.25       556\n",
      "weighted avg       0.65      0.29      0.16       556\n",
      "\n",
      "Tuned XGBoost Depression ROC AUC: 0.5144988738738738\n"
     ]
    }
   ],
   "execution_count": 18
  },
  {
   "metadata": {},
   "cell_type": "markdown",
   "source": "### LightGBM"
  },
  {
   "metadata": {
    "ExecuteTime": {
     "end_time": "2025-02-08T22:33:51.226246Z",
     "start_time": "2025-02-08T22:33:50.990221Z"
    }
   },
   "cell_type": "code",
   "source": [
    "from lightgbm import LGBMClassifier\n",
    "\n",
    "lgbm_model = LGBMClassifier(class_weight='balanced', random_state=42, verbose=-1)\n",
    "lgbm_model.fit(all_features_train, y_train['depression'])\n",
    "\n",
    "y_pred_lgbm = lgbm_model.predict(all_features_val)\n",
    "y_prob_lgbm = lgbm_model.predict_proba(all_features_val)[:, 1]\n",
    "\n",
    "print(\"LightGBM Depression Classification Report:\")\n",
    "print(classification_report(y_val['depression'], y_pred_lgbm))\n",
    "print(\"LightGBM Depression ROC AUC:\", roc_auc_score(y_val['depression'], y_prob_lgbm))\n"
   ],
   "outputs": [
    {
     "name": "stdout",
     "output_type": "stream",
     "text": [
      "LightGBM Depression Classification Report:\n",
      "              precision    recall  f1-score   support\n",
      "\n",
      "       False       0.72      0.42      0.53       408\n",
      "        True       0.26      0.55      0.35       148\n",
      "\n",
      "    accuracy                           0.45       556\n",
      "   macro avg       0.49      0.49      0.44       556\n",
      "weighted avg       0.60      0.45      0.48       556\n",
      "\n",
      "LightGBM Depression ROC AUC: 0.49295343137254904\n"
     ]
    }
   ],
   "execution_count": 19
  },
  {
   "metadata": {
    "ExecuteTime": {
     "end_time": "2025-02-08T22:33:54.305507Z",
     "start_time": "2025-02-08T22:33:51.227760Z"
    }
   },
   "cell_type": "code",
   "source": [
    "param_grid = {\n",
    "    'num_leaves': [20, 50, 100],  # Increase to capture complexity\n",
    "    'learning_rate': [0.01, 0.1, 0.3],  # Adjust step size\n",
    "    'min_child_samples': [5, 10, 20],  # Control leaf creation\n",
    "    'class_weight': ['balanced']\n",
    "}\n",
    "\n",
    "grid_search = GridSearchCV(LGBMClassifier(random_state=42, verbose=-1), param_grid, scoring='roc_auc', cv=3, verbose=1)\n",
    "grid_search.fit(all_features_train, y_train['depression'])\n",
    "\n",
    "best_lgbm = grid_search.best_estimator_\n",
    "\n",
    "y_pred_lgbm_tuned = best_lgbm.predict(all_features_val)\n",
    "y_prob_lgbm_tuned = best_lgbm.predict_proba(all_features_val)[:, 1]\n",
    "\n",
    "print(\"Tuned LightGBM Depression Classification Report:\")\n",
    "print(classification_report(y_val['depression'], y_pred_lgbm_tuned))\n",
    "print(\"Tuned LightGBM Depression ROC AUC:\", roc_auc_score(y_val['depression'], y_prob_lgbm_tuned))\n"
   ],
   "outputs": [
    {
     "name": "stdout",
     "output_type": "stream",
     "text": [
      "Fitting 3 folds for each of 27 candidates, totalling 81 fits\n",
      "Tuned LightGBM Depression Classification Report:\n",
      "              precision    recall  f1-score   support\n",
      "\n",
      "       False       0.72      0.41      0.52       408\n",
      "        True       0.26      0.56      0.35       148\n",
      "\n",
      "    accuracy                           0.45       556\n",
      "   macro avg       0.49      0.49      0.44       556\n",
      "weighted avg       0.60      0.45      0.48       556\n",
      "\n",
      "Tuned LightGBM Depression ROC AUC: 0.4767074059353472\n"
     ]
    }
   ],
   "execution_count": 20
  },
  {
   "cell_type": "code",
   "metadata": {
    "ExecuteTime": {
     "end_time": "2025-02-08T22:33:54.310512Z",
     "start_time": "2025-02-08T22:33:54.307512Z"
    }
   },
   "source": [],
   "outputs": [],
   "execution_count": 20
  },
  {
   "cell_type": "markdown",
   "metadata": {},
   "source": [
    "# Análisis de sub/sobreajuste\n",
    "\n",
    "[TODO: Se comparan diferentes métricas de evaluación del modelo en los conjuntos de entrenamiento y prueba para concluir si hay sub/sobreajuste. Se pueden utilizar curvas de aprendizaje, técnicas de validación cruzada o inspección de gráficos de residuos para complementar el análisis.]\n",
    "\n",
    "¿El modelo está sub/sobreajustando los datos de entrenamiento?\n",
    "\n",
    "[tomar como referencia este análsis: No se observa sobre-entrenamiento pues la diferencia de accuracy entre test y train no es mayor al 3%. No se observa bajo-entrenamiento porque el porcentaje de accuracy es mayor a 0.56 que es el nuevo porcentaje de clase mayoritaria despues de las técnicas de bajo y sobre muestreo.]\n"
   ]
  },
  {
   "metadata": {
    "ExecuteTime": {
     "end_time": "2025-02-08T22:33:58.567165Z",
     "start_time": "2025-02-08T22:33:54.311016Z"
    }
   },
   "cell_type": "code",
   "source": [
    "models = {\n",
    "    \"Logistic Regression\": LogisticRegression(class_weight='balanced', random_state=42),\n",
    "    \"SVM\": SVC(kernel='rbf', probability=True, class_weight='balanced', random_state=42),\n",
    "    \"XGBoost\": XGBClassifier(scale_pos_weight=imbalance_ratio, random_state=42),\n",
    "    \"LightGBM\": LGBMClassifier(class_weight='balanced', random_state=42)\n",
    "}\n",
    "\n",
    "plt.figure(figsize=(14, 6))\n",
    "palette = sns.color_palette(\"husl\", len(models))\n",
    "\n",
    "\n",
    "for i, (name, model) in enumerate(models.items()):\n",
    "    model.fit(all_features_train, y_train['depression'])\n",
    "    y_prob = model.predict_proba(all_features_val)[:, 1]\n",
    "    fpr, tpr, _ = roc_curve(y_val['depression'], y_prob)\n",
    "    fpr_det, fnr_det, _ = det_curve(y_val['depression'], y_prob)\n",
    "    plt.subplot(1, 2, 1)\n",
    "    sns.lineplot(x=fpr, y=tpr, label=f\"{name} (AUC = {roc_auc_score(y_val['depression'], y_prob):.2f})\",\n",
    "                 color=palette[i])\n",
    "    plt.subplot(1, 2, 2)\n",
    "    sns.lineplot(x=fpr_det, y=fnr_det, label=name, color=palette[i])\n",
    "\n",
    "\n",
    "plt.subplot(1, 2, 1)\n",
    "plt.plot([0, 1], [0, 1], linestyle=\"--\", color=\"gray\", alpha=0.7)\n",
    "plt.xlabel(\"False Positive Rate\")\n",
    "plt.ylabel(\"True Positive Rate\")\n",
    "plt.title(\"ROC Curve Comparison\")\n",
    "plt.legend()\n",
    "\n",
    "\n",
    "plt.subplot(1, 2, 2)\n",
    "plt.xlabel(\"False Positive Rate\")\n",
    "plt.ylabel(\"False Negative Rate\")\n",
    "plt.title(\"DET Curve Comparison\")\n",
    "plt.legend()\n",
    "\n",
    "plt.tight_layout()\n",
    "plt.show()\n"
   ],
   "outputs": [
    {
     "data": {
      "text/plain": [
       "<Figure size 1400x600 with 2 Axes>"
      ],
      "image/png": "[encoded data removed]"
     },
     "metadata": {},
     "output_type": "display_data"
    }
   ],
   "execution_count": 21
  },
  {
   "cell_type": "code",
   "metadata": {
    "ExecuteTime": {
     "end_time": "2025-02-08T22:33:58.571702Z",
     "start_time": "2025-02-08T22:33:58.568707Z"
    }
   },
   "source": [],
   "outputs": [],
   "execution_count": 21
  },
  {
   "cell_type": "markdown",
   "metadata": {},
   "source": [
    "# Análisis de características importantes"
   ]
  },
  {
   "cell_type": "markdown",
   "metadata": {},
   "source": [
    "[Se hace un análisis de la relevancia de las características, si aplica, utilizando métodos de selección (filter, embedded, wrapper) o extracción de características (PCA, FA, …) Se incluye una representación visual del resultado para facilitar la interpretación.]"
   ]
  },
  {
   "cell_type": "markdown",
   "metadata": {
    "vscode": {
     "languageId": "plaintext"
    }
   },
   "source": [
    "\n",
    "\n",
    "¿Se puede determinar la importancia de las características para el modelo generado? Recuerden que incluir características irrelevantes puede afectar negativamente el rendimiento del modelo y aumentar la complejidad sin beneficios sustanciales.\n"
   ]
  },
  {
   "cell_type": "code",
   "metadata": {
    "ExecuteTime": {
     "end_time": "2025-02-08T22:33:58.574399Z",
     "start_time": "2025-02-08T22:33:58.572218Z"
    }
   },
   "source": [],
   "outputs": [],
   "execution_count": 21
  },
  {
   "cell_type": "markdown",
   "metadata": {},
   "source": [
    "# Conclusiones"
   ]
  },
  {
   "cell_type": "code",
   "metadata": {
    "ExecuteTime": {
     "end_time": "2025-02-08T22:33:58.577407Z",
     "start_time": "2025-02-08T22:33:58.574399Z"
    }
   },
   "source": [],
   "outputs": [],
   "execution_count": 21
  },
  {
   "cell_type": "markdown",
   "metadata": {},
   "source": [
    "# Referencias"
   ]
  },
  {
   "cell_type": "code",
   "metadata": {
    "ExecuteTime": {
     "end_time": "2025-02-08T22:33:58.580919Z",
     "start_time": "2025-02-08T22:33:58.577913Z"
    }
   },
   "source": [],
   "outputs": [],
   "execution_count": 21
  }
 ],
 "metadata": {
  "kernelspec": {
   "display_name": "proyecto-integrador-equipo-11-RpNcPuS5-py3.10",
   "language": "python",
   "name": "python3"
  },
  "language_info": {
   "codemirror_mode": {
    "name": "ipython",
    "version": 3
   },
   "file_extension": ".py",
   "mimetype": "text/x-python",
   "name": "python",
   "nbconvert_exporter": "python",
   "pygments_lexer": "ipython3",
   "version": "3.10.13"
  }
 },
 "nbformat": 4,
 "nbformat_minor": 2
}
