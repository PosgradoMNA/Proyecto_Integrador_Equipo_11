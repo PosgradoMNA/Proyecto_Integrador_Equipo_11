{
 "cells": [
  {
   "cell_type": "markdown",
   "metadata": {
    "id": "1vMSTJRArUup"
   },
   "source": "# Modelos Alternativos"
  },
  {
   "cell_type": "markdown",
   "metadata": {
    "id": "v0qeXSacrUur"
   },
   "source": [
    "**Proyecto Integrador TC5035.10**\n",
    "\n",
    "**Profesor Asesor:**\n",
    "- Dra. Ludivina Facundo (ITESM)\n",
    "\n",
    "\n",
    "**Profesores Investigadores/Tutores:**\n",
    "- Dr. Juan Arturo Nolazco (ITESM)\n",
    "- Dr. Marcos Faunez Zaunuy (TecnoCampus Barcelona)\n",
    "\n",
    "**Equipo 11:**\n",
    "- Francisco José Arellano Montes (A01794283)\n",
    "- Armando Bringas Corpus (A01200230)\n",
    "- Moisés Díaz Malagón (A01208580)"
   ]
  },
  {
   "cell_type": "markdown",
   "metadata": {
    "id": "PmKjH8xQrUur",
    "vscode": {
     "languageId": "plaintext"
    }
   },
   "source": [
    "**Objetivo**: Este avance implica construir múltiples modelos (individuales, no ensambles) relevantes para resolver el problema y evaluar su desempeño. Diferentes algoritmos pueden comportarse de manera óptima en diferentes tipos de datos o tareas. La construcción de modelos alternativos permite explorar y evaluar cuál de ellos proporciona el mejor rendimiento para un problema particular.\n",
    "\n",
    "Además, los modelos se pueden ajustar para determinar si se puede mejorar su rendimiento. Diferentes configuraciones de hiperparámetros pueden afectar significativamente el rendimiento de un modelo. Construir modelos alternativos implica explorar y ajustar estos hiperparámetros para encontrar la configuración óptima."
   ]
  },
  {
   "cell_type": "code",
   "metadata": {
    "colab": {
     "base_uri": "https://localhost:8080/"
    },
    "id": "Xq4ZTd2irUus",
    "outputId": "a81df91e-1bdf-43da-e2ed-139ab816d15b",
    "ExecuteTime": {
     "end_time": "2025-02-16T04:03:04.288829Z",
     "start_time": "2025-02-16T04:03:01.286116Z"
    }
   },
   "source": [
    "import warnings\n",
    "\n",
    "import matplotlib.pyplot as plt\n",
    "import seaborn as sns\n",
    "\n",
    "import torch\n",
    "import torch.nn as nn\n",
    "import torch.optim as optim\n",
    "from torch.utils.data import DataLoader, TensorDataset\n",
    "\n",
    "from sklearn.metrics import (classification_report, roc_auc_score, precision_recall_curve, \n",
    "                             auc, roc_curve, det_curve)\n",
    "from sklearn.model_selection import GridSearchCV, RandomizedSearchCV\n",
    "from sklearn.svm import SVC\n",
    "\n",
    "from lightgbm import LGBMClassifier\n",
    "from xgboost import XGBClassifier\n",
    "\n",
    "from utils import load_data, print_classification_report\n"
   ],
   "outputs": [],
   "execution_count": 1
  },
  {
   "cell_type": "code",
   "metadata": {
    "id": "-lOn_cWXrUus",
    "ExecuteTime": {
     "end_time": "2025-02-16T04:03:04.800710Z",
     "start_time": "2025-02-16T04:03:04.289843Z"
    }
   },
   "source": [
    "try:\n",
    "    from sklearnex import patch_sklearn\n",
    "    patch_sklearn()\n",
    "except ImportError:\n",
    "    pass"
   ],
   "outputs": [
    {
     "name": "stderr",
     "output_type": "stream",
     "text": [
      "Intel(R) Extension for Scikit-learn* enabled (https://github.com/intel/scikit-learn-intelex)\n"
     ]
    }
   ],
   "execution_count": 2
  },
  {
   "metadata": {
    "ExecuteTime": {
     "end_time": "2025-02-16T04:03:04.805224Z",
     "start_time": "2025-02-16T04:03:04.801217Z"
    }
   },
   "cell_type": "code",
   "source": "warnings.filterwarnings(\"ignore\")",
   "outputs": [],
   "execution_count": 3
  },
  {
   "metadata": {},
   "cell_type": "markdown",
   "source": "# Carga de Datos"
  },
  {
   "cell_type": "markdown",
   "metadata": {
    "id": "LVbt6yuju2V4"
   },
   "source": [
    "Carga inicial de los datos:\n",
    "\n",
    "Estos datos fueron procesados en la entrega pasada, usando los mismos pasos salvo a unos cuantas modificaciones necesarias para esta entrega.\n",
    "\n",
    "Estos datos fueron nuevamente guardados en archivos .parquet que simplemente fueron cargados para facilitar su uso en futuras integraciones."
   ]
  },
  {
   "cell_type": "code",
   "metadata": {
    "id": "scX1lV2frUut",
    "ExecuteTime": {
     "end_time": "2025-02-16T04:03:04.871753Z",
     "start_time": "2025-02-16T04:03:04.805729Z"
    }
   },
   "source": "X_train, y_train, X_val, y_val, X_text, y_test = load_data()",
   "outputs": [],
   "execution_count": 4
  },
  {
   "cell_type": "code",
   "metadata": {
    "colab": {
     "base_uri": "https://localhost:8080/"
    },
    "id": "VzynuwEIrUuu",
    "outputId": "36af79ac-fdc3-425b-929f-e97af2522d41",
    "ExecuteTime": {
     "end_time": "2025-02-16T04:03:04.878090Z",
     "start_time": "2025-02-16T04:03:04.871753Z"
    }
   },
   "source": [
    "X_train.shape, y_train.shape, X_val.shape, y_val.shape"
   ],
   "outputs": [
    {
     "data": {
      "text/plain": [
       "((571, 12), (571, 3), (556, 12), (556, 3))"
      ]
     },
     "execution_count": 5,
     "metadata": {},
     "output_type": "execute_result"
    }
   ],
   "execution_count": 5
  },
  {
   "cell_type": "markdown",
   "metadata": {
    "id": "hgTP81oRrUuv"
   },
   "source": "# Métricas"
  },
  {
   "cell_type": "markdown",
   "metadata": {
    "id": "_ODjuV_CrUuv"
   },
   "source": [
    "Dado que se trabajará con un 3 problemas independientes de clasificación binaria, se utilizarán las siguientes métricas, Cada métrica ayuda a evaluar el desempeño de un modelo de diferentes maneras, especialmente para problemas de clasificación:\n",
    "\n",
    "*   **accuracy:**\n",
    "\n",
    "\n",
    "$$\n",
    "\\text{Accuracy} = \\frac{\\text{Correct Predictions}}{\\text{Total Predictions}}\n",
    "$$\n",
    "\n",
    "\n",
    "Funciona bien cuando las clases están equilibradas (igual número de muestras en cada clase).\n",
    "\n",
    "Ejemplo: en un modelo de detección de fraude en el que el 99 % de las transacciones son normales, un modelo que prediga \"no fraude\" el 100 % de las veces tendría una precisión del 99 % pero sería completamente inútil.\n",
    "\n",
    "*   **precision:**\n",
    "\n",
    "$$\n",
    "\\text{Precision} = \\frac{\\text{True Positives (TP)}}{\\text{True Positives (TP)} + \\text{False Positives (FP)}}\n",
    "$$\n",
    "\n",
    "Prioriza la reducción de Falsos Positivos (FP)\n",
    "\n",
    "Ejemplo: la detección de spam, al marcar erróneamente un correo electrónico importante como spam es malo, lo cual da preferencia a falsos positivos.\n",
    "\n",
    "*   **recall:**\n",
    "\n",
    "$$\n",
    "\\text{Recall} = \\frac{\\text{True Positives (TP)}}{\\text{True Positives (TP)} + \\text{False Negatives (FN)}}\n",
    "$$\n",
    "\n",
    "Prioritizes reducing False Negatives (FN)\n",
    "\n",
    "Ejemplo: detección de cáncer; Nos preocupamos por detectar todos los casos positivos reales, incluso si eso significa permitir más falsos positivos (FP).\n",
    "\n",
    "*   **f1:**\n",
    "\n",
    "$$\n",
    "\\text{F1} = \\frac{2 \\times \\text{Precision} \\times \\text{Recall}}{\\text{Precision} + \\text{Recall}}\n",
    "$$\n",
    "\n",
    "Cuando necesita un equilibrio entre precisión y recall.\n",
    "\n",
    "Ejemplo: detección de fraudes, se usan conjuntos de datos desequilibrados, donde las transacciones fraudulentas (positivas) son raras en comparación con las transacciones normales (negativas).\n",
    "\n",
    "\n",
    "*   **roc_auc:**\n",
    "\n",
    "Mide qué tan bien el modelo separa clases entre diferentes umbrales de probabilidad.\n",
    "\n",
    "La curva ROC traza la tasa de verdaderos positivos (recuperación) frente a la tasa de falsos positivos (FPR)."
   ]
  },
  {
   "cell_type": "markdown",
   "metadata": {
    "id": "CrDApG3qv6_D"
   },
   "source": [
    "# Algoritmos y entrenamiento\n",
    "\n",
    "La detección de emociones a partir de datos textuales, como la base de datos EmoThaw, implica analizar datos no estructurados (contenido textual que carece de una estructura predefinida).\n",
    "\n",
    " Este tipo de datos a menudo requiere pasos de preprocesamiento como tokenización, derivación y vectorización para convertirlos en un formato estructurado adecuado para algoritmos de aprendizaje automático."
   ]
  },
  {
   "metadata": {
    "ExecuteTime": {
     "end_time": "2025-02-16T04:03:04.880794Z",
     "start_time": "2025-02-16T04:03:04.878090Z"
    }
   },
   "cell_type": "code",
   "source": "",
   "outputs": [],
   "execution_count": 5
  },
  {
   "cell_type": "markdown",
   "metadata": {
    "id": "fefrUUOfrUuz"
   },
   "source": "## SVM (Support Vector Machine)"
  },
  {
   "cell_type": "markdown",
   "metadata": {
    "id": "v6tYcyx0rUu0"
   },
   "source": "### Clasificador para Depresión"
  },
  {
   "cell_type": "code",
   "metadata": {
    "colab": {
     "base_uri": "https://localhost:8080/"
    },
    "id": "wlxMLRlMrUu0",
    "outputId": "5bbc67ff-e8f3-4092-930d-340cd9cbc215",
    "ExecuteTime": {
     "end_time": "2025-02-16T04:03:05.533116Z",
     "start_time": "2025-02-16T04:03:04.881800Z"
    }
   },
   "source": [
    "# Define the SVM model\n",
    "svm_model = SVC(probability=True, class_weight='balanced', random_state=42)\n",
    "\n",
    "param_grid = {\n",
    "    'C': [0.1, 1, 10],\n",
    "    'kernel': ['linear', 'rbf'],\n",
    "    'gamma': ['scale', 'auto']  # Only relevant for RBF kernel\n",
    "}\n",
    "\n",
    "grid_search = GridSearchCV(\n",
    "    svm_model, param_grid, scoring='roc_auc', cv=3, verbose=1\n",
    ")\n",
    "\n",
    "grid_search.fit(X_train, y_train['depression'])\n",
    "best_svm_model = grid_search.best_estimator_\n",
    "\n",
    "y_pred_svm = best_svm_model.predict(X_val)\n",
    "y_prob_svm = best_svm_model.predict_proba(X_val)[:, 1]  # Probabilities for ROC/PR\n",
    "\n",
    "print_classification_report(y_val['depression'], y_pred_svm, y_prob_svm, label=\"SVM Depression\")\n",
    "svm_depression_best_hyperparameters = grid_search.best_params_\n",
    "print(\"Best hyperparameters:\", svm_depression_best_hyperparameters)"
   ],
   "outputs": [
    {
     "name": "stdout",
     "output_type": "stream",
     "text": [
      "Fitting 3 folds for each of 12 candidates, totalling 36 fits\n",
      "SVM Depression Classification Report:\n",
      "              precision    recall  f1-score   support\n",
      "\n",
      "       False       0.71      0.24      0.36       408\n",
      "        True       0.26      0.73      0.38       148\n",
      "\n",
      "    accuracy                           0.37       556\n",
      "   macro avg       0.48      0.48      0.37       556\n",
      "weighted avg       0.59      0.37      0.37       556\n",
      "\n",
      "SVM Depression ROC AUC: 0.4883\n",
      "SVM Depression Precision-Recall AUC: 0.2592\n",
      "Best hyperparameters: {'C': 10, 'gamma': 'scale', 'kernel': 'linear'}\n"
     ]
    }
   ],
   "execution_count": 6
  },
  {
   "cell_type": "markdown",
   "metadata": {
    "id": "pO9fIvpixX_H"
   },
   "source": " Generamos nuestro modelo SVM, trabajando con nuestra etiqueta “depression” con un grid_search, al final tenemos una puntuación AUC de la curva ROC: 0.48"
  },
  {
   "cell_type": "markdown",
   "metadata": {
    "id": "jjqFbBRArUu0"
   },
   "source": "### Clasificador para Ansiedad"
  },
  {
   "cell_type": "code",
   "metadata": {
    "colab": {
     "base_uri": "https://localhost:8080/"
    },
    "id": "V8jYHr5XrUu0",
    "outputId": "a5f9db15-ced6-4d90-a4ee-6c78da30c52a",
    "ExecuteTime": {
     "end_time": "2025-02-16T04:03:06.971463Z",
     "start_time": "2025-02-16T04:03:05.535122Z"
    }
   },
   "source": [
    "svm_model = SVC(probability=True, class_weight='balanced', random_state=42)\n",
    "\n",
    "param_grid = {\n",
    "    'C': [0.1, 1, 10],\n",
    "    'kernel': ['linear', 'rbf'],\n",
    "    'gamma': ['scale', 'auto']  # Only relevant for RBF kernel\n",
    "}\n",
    "\n",
    "grid_search = GridSearchCV(\n",
    "    svm_model, param_grid, scoring='roc_auc', cv=5, verbose=1\n",
    ")\n",
    "\n",
    "grid_search.fit(X_train, y_train['anxiety'])\n",
    "best_svm_model = grid_search.best_estimator_\n",
    "y_pred_svm = best_svm_model.predict(X_val)\n",
    "y_prob_svm = best_svm_model.predict_proba(X_val)[:, 1]  # Probabilities for ROC/PR\n",
    "\n",
    "print_classification_report(y_val['anxiety'], y_pred_svm, y_prob_svm, label=\"SVM Anxiety\")\n",
    "svm_anxiety_best_hyperparameters = grid_search.best_params_\n",
    "print(\"Best hyperparameters:\", svm_anxiety_best_hyperparameters)"
   ],
   "outputs": [
    {
     "name": "stdout",
     "output_type": "stream",
     "text": [
      "Fitting 5 folds for each of 12 candidates, totalling 60 fits\n",
      "SVM Anxiety Classification Report:\n",
      "              precision    recall  f1-score   support\n",
      "\n",
      "       False       0.57      0.94      0.71       317\n",
      "        True       0.49      0.08      0.13       239\n",
      "\n",
      "    accuracy                           0.57       556\n",
      "   macro avg       0.53      0.51      0.42       556\n",
      "weighted avg       0.54      0.57      0.46       556\n",
      "\n",
      "SVM Anxiety ROC AUC: 0.4955\n",
      "SVM Anxiety Precision-Recall AUC: 0.4326\n",
      "Best hyperparameters: {'C': 0.1, 'gamma': 'scale', 'kernel': 'rbf'}\n"
     ]
    }
   ],
   "execution_count": 7
  },
  {
   "cell_type": "markdown",
   "metadata": {
    "id": "yenM0TjirUu0"
   },
   "source": "### Clasificador para Estrés"
  },
  {
   "cell_type": "code",
   "metadata": {
    "colab": {
     "base_uri": "https://localhost:8080/"
    },
    "id": "E_FrETH3rUu1",
    "outputId": "5b7945e8-3316-4fa1-8b19-5d0bfef155bd",
    "ExecuteTime": {
     "end_time": "2025-02-16T04:03:08.373604Z",
     "start_time": "2025-02-16T04:03:06.972469Z"
    }
   },
   "source": [
    "svm_model = SVC(probability=True, class_weight='balanced', random_state=42)\n",
    "\n",
    "param_grid = {\n",
    "    'C': [0.1, 1, 10],\n",
    "    'kernel': ['linear', 'rbf'],\n",
    "    'gamma': ['scale', 'auto']  # Only relevant for RBF kernel\n",
    "}\n",
    "\n",
    "grid_search = GridSearchCV(\n",
    "    svm_model, param_grid, scoring='roc_auc', cv=5, verbose=1\n",
    ")\n",
    "\n",
    "grid_search.fit(X_train, y_train['stress'])\n",
    "best_svm_model = grid_search.best_estimator_\n",
    "y_pred_svm = best_svm_model.predict(X_val)\n",
    "y_prob_svm = best_svm_model.predict_proba(X_val)[:, 1]  # Probabilities for ROC/PR\n",
    "\n",
    "print_classification_report(y_val['stress'], y_pred_svm, y_prob_svm, label=\"SVM Stress\")\n",
    "svm_stress_best_hyperparameters = grid_search.best_params_\n",
    "print(\"Best hyperparameters:\", svm_stress_best_hyperparameters)"
   ],
   "outputs": [
    {
     "name": "stdout",
     "output_type": "stream",
     "text": [
      "Fitting 5 folds for each of 12 candidates, totalling 60 fits\n",
      "SVM Stress Classification Report:\n",
      "              precision    recall  f1-score   support\n",
      "\n",
      "       False       0.00      0.00      0.00       315\n",
      "        True       0.43      1.00      0.60       241\n",
      "\n",
      "    accuracy                           0.43       556\n",
      "   macro avg       0.22      0.50      0.30       556\n",
      "weighted avg       0.19      0.43      0.26       556\n",
      "\n",
      "SVM Stress ROC AUC: 0.4953\n",
      "SVM Stress Precision-Recall AUC: 0.4289\n",
      "Best hyperparameters: {'C': 1, 'gamma': 'scale', 'kernel': 'linear'}\n"
     ]
    }
   ],
   "execution_count": 8
  },
  {
   "cell_type": "markdown",
   "metadata": {
    "id": "Dc0ItXTSxpJy"
   },
   "source": [
    "Observando la información anterior, podemos observar lo siguiente:\n",
    "*   En el label de “depression”, tenemos una puntuación AUC de la curva ROC: 0.48\n",
    "*   En el label de “anxiety”, tenemos una puntuación AUC de la curva ROC: 0.49\n",
    "*   En el label de “stress”, tenemos una puntuación AUC de la curva ROC: 0.49"
   ]
  },
  {
   "cell_type": "markdown",
   "metadata": {
    "id": "jigu6teJrUu1"
   },
   "source": "## XGBoost"
  },
  {
   "cell_type": "markdown",
   "metadata": {
    "id": "H2F4DufzrUu1"
   },
   "source": "### Clasificador para Depresión"
  },
  {
   "cell_type": "code",
   "metadata": {
    "id": "OIoPg3MHrUu1",
    "ExecuteTime": {
     "end_time": "2025-02-16T04:03:08.378013Z",
     "start_time": "2025-02-16T04:03:08.374114Z"
    }
   },
   "source": [
    "# imbalance ratio\n",
    "imbalance_ratio_depression = len(y_train['depression'][y_train['depression'] == 0]) / len(y_train['depression'][y_train['depression'] == 1])"
   ],
   "outputs": [],
   "execution_count": 9
  },
  {
   "cell_type": "code",
   "metadata": {
    "colab": {
     "base_uri": "https://localhost:8080/"
    },
    "id": "ODwKZPXTrUu1",
    "outputId": "fe788301-9386-4219-eb31-c3334b727e03",
    "ExecuteTime": {
     "end_time": "2025-02-16T04:03:08.599016Z",
     "start_time": "2025-02-16T04:03:08.379018Z"
    }
   },
   "source": [
    "# Initialize XGBoost with imbalance handling\n",
    "xgb_model = XGBClassifier(scale_pos_weight=imbalance_ratio_depression, random_state=42)\n",
    "\n",
    "# Train on depression classification\n",
    "xgb_model.fit(X_train, y_train['depression'])\n",
    "\n",
    "# Predict on validation set\n",
    "y_pred_xgb = xgb_model.predict(X_val)\n",
    "y_prob_xgb = xgb_model.predict_proba(X_val)[:, 1]\n",
    "\n",
    "# Evaluate performance\n",
    "print_classification_report(y_val['stress'], y_pred_xgb, y_prob_xgb, label=\"XGBoost Depression\")"
   ],
   "outputs": [
    {
     "name": "stdout",
     "output_type": "stream",
     "text": [
      "XGBoost Depression Classification Report:\n",
      "              precision    recall  f1-score   support\n",
      "\n",
      "       False       0.62      0.38      0.47       315\n",
      "        True       0.46      0.69      0.55       241\n",
      "\n",
      "    accuracy                           0.51       556\n",
      "   macro avg       0.54      0.53      0.51       556\n",
      "weighted avg       0.55      0.51      0.51       556\n",
      "\n",
      "XGBoost Depression ROC AUC: 0.5525\n",
      "XGBoost Depression Precision-Recall AUC: 0.5137\n"
     ]
    }
   ],
   "execution_count": 10
  },
  {
   "cell_type": "markdown",
   "metadata": {
    "id": "385U6bYRx8st"
   },
   "source": [
    "Generamos nuestro modelo clasificador xgb, obteniendo un relación de desequilibrio, trabajando con nuestra etiqueta “depression”, al final tenemos una puntuación AUC de la curva ROC: 0.50"
   ]
  },
  {
   "cell_type": "code",
   "metadata": {
    "colab": {
     "base_uri": "https://localhost:8080/"
    },
    "id": "UEhqVOaQrUu1",
    "outputId": "b3c33d45-5ac9-4f46-c3db-2950224ac98a",
    "ExecuteTime": {
     "end_time": "2025-02-16T04:03:19.419297Z",
     "start_time": "2025-02-16T04:03:08.599518Z"
    }
   },
   "source": [
    "param_grid = {\n",
    "    'n_estimators': [50, 100, 200],  # Number of trees\n",
    "    'max_depth': [3, 5, 7],  # Tree depth\n",
    "    'learning_rate': [0.01, 0.1, 0.3],  # Step size\n",
    "    'scale_pos_weight': [imbalance_ratio_depression]  # Imbalance handling\n",
    "}\n",
    "\n",
    "xgb_tuned = XGBClassifier(random_state=42)\n",
    "\n",
    "grid_search = GridSearchCV(xgb_tuned, param_grid, scoring='roc_auc', cv=3, verbose=1)\n",
    "grid_search.fit(X_train, y_train['depression'])\n",
    "\n",
    "best_xgb = grid_search.best_estimator_\n",
    "\n",
    "y_pred_xgb_tuned = best_xgb.predict(X_val)\n",
    "y_prob_xgb_tuned = best_xgb.predict_proba(X_val)[:, 1]\n",
    "\n",
    "print_classification_report(y_val['depression'], y_pred_svm, y_prob_svm, label=\"XGBoost Depression\")\n",
    "xgb_depression_best_hyperparameters = grid_search.best_params_\n",
    "print(\"Best hyperparameters:\", xgb_depression_best_hyperparameters)"
   ],
   "outputs": [
    {
     "name": "stdout",
     "output_type": "stream",
     "text": [
      "Fitting 3 folds for each of 27 candidates, totalling 81 fits\n",
      "XGBoost Depression Classification Report:\n",
      "              precision    recall  f1-score   support\n",
      "\n",
      "       False       0.00      0.00      0.00       408\n",
      "        True       0.27      1.00      0.42       148\n",
      "\n",
      "    accuracy                           0.27       556\n",
      "   macro avg       0.13      0.50      0.21       556\n",
      "weighted avg       0.07      0.27      0.11       556\n",
      "\n",
      "XGBoost Depression ROC AUC: 0.4884\n",
      "XGBoost Depression Precision-Recall AUC: 0.2517\n",
      "Best hyperparameters: {'learning_rate': 0.01, 'max_depth': 3, 'n_estimators': 50, 'scale_pos_weight': 2.7320261437908497}\n"
     ]
    }
   ],
   "execution_count": 11
  },
  {
   "cell_type": "markdown",
   "metadata": {
    "id": "XwvPa1f4yK5L"
   },
   "source": [
    "Similar al modelo anterior, ahora aplicando un grid_search y entrenando el mejor modelo tenemos al final tenemos una puntuación AUC de la curva ROC: 0.51"
   ]
  },
  {
   "cell_type": "markdown",
   "metadata": {
    "id": "elI8q3y1rUu2"
   },
   "source": "### Clasificador para Ansiedad"
  },
  {
   "cell_type": "code",
   "metadata": {
    "id": "4hUfsR7jrUu2",
    "ExecuteTime": {
     "end_time": "2025-02-16T04:03:19.425335Z",
     "start_time": "2025-02-16T04:03:19.420300Z"
    }
   },
   "source": [
    "# imbalance ratio\n",
    "imbalance_ratio_anxiety = len(y_train['anxiety'][y_train['anxiety'] == 0]) / len(y_train['anxiety'][y_train['anxiety'] == 1])"
   ],
   "outputs": [],
   "execution_count": 12
  },
  {
   "cell_type": "code",
   "metadata": {
    "colab": {
     "base_uri": "https://localhost:8080/"
    },
    "id": "pFrBsH-ArUu2",
    "outputId": "f873a735-8a11-47ed-c222-d0cffb3c11d0",
    "ExecuteTime": {
     "end_time": "2025-02-16T04:03:25.994287Z",
     "start_time": "2025-02-16T04:03:19.426338Z"
    }
   },
   "source": [
    "param_grid = {\n",
    "    'n_estimators': [50, 100, 200],  # Number of trees\n",
    "    'max_depth': [3, 5, 7],  # Tree depth\n",
    "    'learning_rate': [0.01, 0.1, 0.3],  # Step size\n",
    "    'scale_pos_weight': [imbalance_ratio_anxiety]  # Imbalance handling\n",
    "}\n",
    "\n",
    "xgb_tuned = XGBClassifier(random_state=42)\n",
    "\n",
    "grid_search = GridSearchCV(xgb_tuned, param_grid, scoring='roc_auc', cv=3, verbose=1)\n",
    "grid_search.fit(X_train, y_train['anxiety'])\n",
    "\n",
    "best_xgb = grid_search.best_estimator_\n",
    "\n",
    "y_pred_xgb_tuned = best_xgb.predict(X_val)\n",
    "y_prob_xgb_tuned = best_xgb.predict_proba(X_val)[:, 1]\n",
    "\n",
    "print_classification_report(y_val['anxiety'], y_pred_svm, y_prob_svm, label=\"XGBoost Anxiety\")\n",
    "xgb_anxiety_best_hyperparameters = grid_search.best_params_\n",
    "print(\"Best hyperparameters:\", xgb_anxiety_best_hyperparameters)"
   ],
   "outputs": [
    {
     "name": "stdout",
     "output_type": "stream",
     "text": [
      "Fitting 3 folds for each of 27 candidates, totalling 81 fits\n",
      "XGBoost Anxiety Classification Report:\n",
      "              precision    recall  f1-score   support\n",
      "\n",
      "       False       0.00      0.00      0.00       317\n",
      "        True       0.43      1.00      0.60       239\n",
      "\n",
      "    accuracy                           0.43       556\n",
      "   macro avg       0.21      0.50      0.30       556\n",
      "weighted avg       0.18      0.43      0.26       556\n",
      "\n",
      "XGBoost Anxiety ROC AUC: 0.4943\n",
      "XGBoost Anxiety Precision-Recall AUC: 0.4230\n",
      "Best hyperparameters: {'learning_rate': 0.3, 'max_depth': 3, 'n_estimators': 50, 'scale_pos_weight': 1.3024193548387097}\n"
     ]
    }
   ],
   "execution_count": 13
  },
  {
   "cell_type": "markdown",
   "metadata": {
    "id": "q7LhDgeKrUu2"
   },
   "source": "### Clasificador para Estrés"
  },
  {
   "cell_type": "code",
   "metadata": {
    "id": "0NH_xZNDrUu2",
    "ExecuteTime": {
     "end_time": "2025-02-16T04:03:25.999763Z",
     "start_time": "2025-02-16T04:03:25.995290Z"
    }
   },
   "source": [
    "# imbalance ratio\n",
    "imbalance_ratio_stress = len(y_train['stress'][y_train['stress'] == 0]) / len(y_train['stress'][y_train['stress'] == 1])"
   ],
   "outputs": [],
   "execution_count": 14
  },
  {
   "cell_type": "code",
   "metadata": {
    "colab": {
     "base_uri": "https://localhost:8080/"
    },
    "id": "rxi_PpW8rUu3",
    "outputId": "cc0d4dd8-b572-47fe-9dec-ea28d79d063f",
    "ExecuteTime": {
     "end_time": "2025-02-16T04:03:30.461546Z",
     "start_time": "2025-02-16T04:03:26.000766Z"
    }
   },
   "source": [
    "param_grid = {\n",
    "    'n_estimators': [50, 100, 200],  # Number of trees\n",
    "    'max_depth': [3, 5, 7],  # Tree depth\n",
    "    'learning_rate': [0.01, 0.1, 0.3],  # Step size\n",
    "    'scale_pos_weight': [imbalance_ratio_anxiety]  # Imbalance handling\n",
    "}\n",
    "\n",
    "xgb_tuned = XGBClassifier(random_state=42)\n",
    "\n",
    "grid_search = GridSearchCV(xgb_tuned, param_grid, scoring='roc_auc', cv=3, verbose=1)\n",
    "grid_search.fit(X_train, y_train['stress'])\n",
    "\n",
    "best_xgb = grid_search.best_estimator_\n",
    "\n",
    "y_pred_xgb_tuned = best_xgb.predict(X_val)\n",
    "y_prob_xgb_tuned = best_xgb.predict_proba(X_val)[:, 1]\n",
    "\n",
    "print_classification_report(y_val['stress'], y_pred_svm, y_prob_svm, label=\"XGBoost Stress\")\n",
    "xgb_stress_best_hyperparameters = grid_search.best_params_\n",
    "print(\"Best hyperparameters:\", xgb_stress_best_hyperparameters)"
   ],
   "outputs": [
    {
     "name": "stdout",
     "output_type": "stream",
     "text": [
      "Fitting 3 folds for each of 27 candidates, totalling 81 fits\n",
      "XGBoost Stress Classification Report:\n",
      "              precision    recall  f1-score   support\n",
      "\n",
      "       False       0.00      0.00      0.00       315\n",
      "        True       0.43      1.00      0.60       241\n",
      "\n",
      "    accuracy                           0.43       556\n",
      "   macro avg       0.22      0.50      0.30       556\n",
      "weighted avg       0.19      0.43      0.26       556\n",
      "\n",
      "XGBoost Stress ROC AUC: 0.4953\n",
      "XGBoost Stress Precision-Recall AUC: 0.4289\n",
      "Best hyperparameters: {'learning_rate': 0.1, 'max_depth': 3, 'n_estimators': 200, 'scale_pos_weight': 1.3024193548387097}\n"
     ]
    }
   ],
   "execution_count": 15
  },
  {
   "cell_type": "markdown",
   "metadata": {
    "id": "lr9d1ypbyVy6"
   },
   "source": [
    "Observando la información anterior, podemos observar lo siguiente:\n",
    "*   En el label de “depression”, tenemos una puntuación AUC de la curva ROC: 0.51\n",
    "*   En el label de “anxiety”, tenemos una puntuación AUC de la curva ROC: 0.51\n",
    "*   En el label de “stress”, tenemos una puntuación AUC de la curva ROC: 0.50"
   ]
  },
  {
   "cell_type": "markdown",
   "metadata": {
    "id": "lVh9J95arUu3"
   },
   "source": "## LightGBM"
  },
  {
   "cell_type": "markdown",
   "metadata": {
    "id": "ciSYcY9IrUu3"
   },
   "source": "### Clasificador para Depresión"
  },
  {
   "cell_type": "code",
   "metadata": {
    "colab": {
     "base_uri": "https://localhost:8080/"
    },
    "id": "2-j3m7OhrUu3",
    "outputId": "2e6df8d5-6283-4152-fde1-1f3085771eaa",
    "ExecuteTime": {
     "end_time": "2025-02-16T04:03:30.603369Z",
     "start_time": "2025-02-16T04:03:30.462549Z"
    }
   },
   "source": [
    "lgbm_model = LGBMClassifier(class_weight='balanced', random_state=42, verbose=-1)\n",
    "lgbm_model.fit(X_train, y_train['depression'])\n",
    "\n",
    "y_pred_lgbm = lgbm_model.predict(X_val)\n",
    "y_prob_lgbm = lgbm_model.predict_proba(X_val)[:, 1]\n",
    "\n",
    "# Evaluate performance\n",
    "print_classification_report(y_val['stress'], y_pred_xgb, y_prob_xgb, label=\"LightGBM Depression\")"
   ],
   "outputs": [
    {
     "name": "stdout",
     "output_type": "stream",
     "text": [
      "LightGBM Depression Classification Report:\n",
      "              precision    recall  f1-score   support\n",
      "\n",
      "       False       0.62      0.38      0.47       315\n",
      "        True       0.46      0.69      0.55       241\n",
      "\n",
      "    accuracy                           0.51       556\n",
      "   macro avg       0.54      0.53      0.51       556\n",
      "weighted avg       0.55      0.51      0.51       556\n",
      "\n",
      "LightGBM Depression ROC AUC: 0.5525\n",
      "LightGBM Depression Precision-Recall AUC: 0.5137\n"
     ]
    }
   ],
   "execution_count": 16
  },
  {
   "cell_type": "markdown",
   "metadata": {
    "id": "ElgSbP0Wy_pq"
   },
   "source": [
    "Generamos nuestro modelo clasificador xgb, obteniendo un relación de desequilibrio, trabajando con nuestra etiqueta “depression”, al final tenemos una puntuación AUC de la curva ROC: 0.50"
   ]
  },
  {
   "cell_type": "code",
   "metadata": {
    "colab": {
     "base_uri": "https://localhost:8080/"
    },
    "id": "fKtG3KS4rUu3",
    "outputId": "003ee3b5-1bb0-4fa6-9e81-a82518d894ed",
    "ExecuteTime": {
     "end_time": "2025-02-16T04:03:33.200452Z",
     "start_time": "2025-02-16T04:03:30.604372Z"
    }
   },
   "source": [
    "param_grid = {\n",
    "    'num_leaves': [20, 50, 100],  # Increase to capture complexity\n",
    "    'learning_rate': [0.01, 0.1, 0.3],  # Adjust step size\n",
    "    'min_child_samples': [5, 10, 20],  # Control leaf creation\n",
    "    'class_weight': ['balanced']\n",
    "}\n",
    "\n",
    "grid_search = GridSearchCV(LGBMClassifier(random_state=42, verbose=-1), param_grid, scoring='roc_auc', cv=3, verbose=1)\n",
    "grid_search.fit(X_train, y_train['depression'])\n",
    "\n",
    "best_lgbm = grid_search.best_estimator_\n",
    "\n",
    "y_pred_lgbm_tuned = best_lgbm.predict(X_val)\n",
    "y_prob_lgbm_tuned = best_lgbm.predict_proba(X_val)[:, 1]\n",
    "\n",
    "print_classification_report(y_val['depression'], y_pred_svm, y_prob_svm, label=\"LightGBM Depression\")\n",
    "lgbm_depression_best_hyperparameters = grid_search.best_params_\n",
    "print(\"Best hyperparameters:\", lgbm_depression_best_hyperparameters)"
   ],
   "outputs": [
    {
     "name": "stdout",
     "output_type": "stream",
     "text": [
      "Fitting 3 folds for each of 27 candidates, totalling 81 fits\n",
      "LightGBM Depression Classification Report:\n",
      "              precision    recall  f1-score   support\n",
      "\n",
      "       False       0.00      0.00      0.00       408\n",
      "        True       0.27      1.00      0.42       148\n",
      "\n",
      "    accuracy                           0.27       556\n",
      "   macro avg       0.13      0.50      0.21       556\n",
      "weighted avg       0.07      0.27      0.11       556\n",
      "\n",
      "LightGBM Depression ROC AUC: 0.4884\n",
      "LightGBM Depression Precision-Recall AUC: 0.2517\n",
      "Best hyperparameters: {'class_weight': 'balanced', 'learning_rate': 0.01, 'min_child_samples': 20, 'num_leaves': 20}\n"
     ]
    }
   ],
   "execution_count": 17
  },
  {
   "cell_type": "markdown",
   "metadata": {
    "id": "-209-zxrzDsA"
   },
   "source": [
    "Similar al modelo anterior, ahora aplicando un grid_search y entrenando el mejor modelo tenemos al final tenemos una puntuación AUC de la curva ROC: 0.51"
   ]
  },
  {
   "cell_type": "markdown",
   "metadata": {
    "id": "YeZolBXarUu3"
   },
   "source": "### Clasificador para Ansiedad"
  },
  {
   "cell_type": "code",
   "metadata": {
    "colab": {
     "base_uri": "https://localhost:8080/"
    },
    "id": "Pvt3l1jjrUu4",
    "outputId": "c4389891-57ec-4227-e4fc-b5aedcedc3d1",
    "ExecuteTime": {
     "end_time": "2025-02-16T04:03:35.830502Z",
     "start_time": "2025-02-16T04:03:33.201455Z"
    }
   },
   "source": [
    "param_grid = {\n",
    "    'num_leaves': [20, 50, 100],  # Increase to capture complexity\n",
    "    'learning_rate': [0.01, 0.1, 0.3],  # Adjust step size\n",
    "    'min_child_samples': [5, 10, 20],  # Control leaf creation\n",
    "    'class_weight': ['balanced']\n",
    "}\n",
    "\n",
    "grid_search = GridSearchCV(LGBMClassifier(random_state=42, verbose=-1), param_grid, scoring='roc_auc', cv=3, verbose=1)\n",
    "grid_search.fit(X_train, y_train['anxiety'])\n",
    "\n",
    "best_lgbm = grid_search.best_estimator_\n",
    "\n",
    "y_pred_lgbm_tuned = best_lgbm.predict(X_val)\n",
    "y_prob_lgbm_tuned = best_lgbm.predict_proba(X_val)[:, 1]\n",
    "\n",
    "print_classification_report(y_val['anxiety'], y_pred_svm, y_prob_svm, label=\"LightGBM Anxiety\")\n",
    "lgbm_anxiety_best_hyperparameters = grid_search.best_params_\n",
    "print(\"Best hyperparameters:\", lgbm_anxiety_best_hyperparameters)"
   ],
   "outputs": [
    {
     "name": "stdout",
     "output_type": "stream",
     "text": [
      "Fitting 3 folds for each of 27 candidates, totalling 81 fits\n",
      "LightGBM Anxiety Classification Report:\n",
      "              precision    recall  f1-score   support\n",
      "\n",
      "       False       0.00      0.00      0.00       317\n",
      "        True       0.43      1.00      0.60       239\n",
      "\n",
      "    accuracy                           0.43       556\n",
      "   macro avg       0.21      0.50      0.30       556\n",
      "weighted avg       0.18      0.43      0.26       556\n",
      "\n",
      "LightGBM Anxiety ROC AUC: 0.4943\n",
      "LightGBM Anxiety Precision-Recall AUC: 0.4230\n",
      "Best hyperparameters: {'class_weight': 'balanced', 'learning_rate': 0.3, 'min_child_samples': 5, 'num_leaves': 20}\n"
     ]
    }
   ],
   "execution_count": 18
  },
  {
   "cell_type": "markdown",
   "metadata": {
    "id": "ImLwQQMnrUu4"
   },
   "source": "### Clasificador para Estrés"
  },
  {
   "cell_type": "code",
   "metadata": {
    "colab": {
     "base_uri": "https://localhost:8080/"
    },
    "id": "MRfatgYcrUu4",
    "outputId": "91be9d60-f151-42d5-866b-67dea2a19368",
    "ExecuteTime": {
     "end_time": "2025-02-16T04:03:38.446461Z",
     "start_time": "2025-02-16T04:03:35.831509Z"
    }
   },
   "source": [
    "param_grid = {\n",
    "    'num_leaves': [20, 50, 100],  # Increase to capture complexity\n",
    "    'learning_rate': [0.01, 0.1, 0.3],  # Adjust step size\n",
    "    'min_child_samples': [5, 10, 20],  # Control leaf creation\n",
    "    'class_weight': ['balanced']\n",
    "}\n",
    "\n",
    "grid_search = GridSearchCV(LGBMClassifier(random_state=42, verbose=-1), param_grid, scoring='roc_auc', cv=3, verbose=1)\n",
    "grid_search.fit(X_train, y_train['stress'])\n",
    "\n",
    "best_lgbm = grid_search.best_estimator_\n",
    "\n",
    "y_pred_lgbm_tuned = best_lgbm.predict(X_val)\n",
    "y_prob_lgbm_tuned = best_lgbm.predict_proba(X_val)[:, 1]\n",
    "\n",
    "print_classification_report(y_val['stress'], y_pred_xgb_tuned, y_prob_xgb_tuned, label=\"XGBoost Stress\")\n",
    "lgbm_stress_best_hyperparameters = grid_search.best_params_\n",
    "print(\"Best Hyperparameters:\", lgbm_stress_best_hyperparameters)"
   ],
   "outputs": [
    {
     "name": "stdout",
     "output_type": "stream",
     "text": [
      "Fitting 3 folds for each of 27 candidates, totalling 81 fits\n",
      "XGBoost Stress Classification Report:\n",
      "              precision    recall  f1-score   support\n",
      "\n",
      "       False       0.56      0.92      0.70       315\n",
      "        True       0.38      0.07      0.11       241\n",
      "\n",
      "    accuracy                           0.55       556\n",
      "   macro avg       0.47      0.49      0.41       556\n",
      "weighted avg       0.48      0.55      0.44       556\n",
      "\n",
      "XGBoost Stress ROC AUC: 0.5036\n",
      "XGBoost Stress Precision-Recall AUC: 0.4376\n",
      "Best Hyperparameters: {'class_weight': 'balanced', 'learning_rate': 0.3, 'min_child_samples': 10, 'num_leaves': 50}\n"
     ]
    }
   ],
   "execution_count": 19
  },
  {
   "cell_type": "markdown",
   "metadata": {
    "id": "U0258rWRzYLZ"
   },
   "source": [
    "Observando la información anterior, podemos observar lo siguiente:\n",
    "*   En el label de “depression”, tenemos una puntuación AUC de la curva ROC: 0.49\n",
    "*   En el label de “anxiety”, tenemos una puntuación AUC de la curva ROC: 0.51\n",
    "*   En el label de “stress”, tenemos una puntuación AUC de la curva ROC: 0.50"
   ]
  },
  {
   "cell_type": "markdown",
   "metadata": {
    "id": "CS29m9DW77fq"
   },
   "source": [
    "En el contexto de la detección de emociones a partir de datos textuales, los estudios han demostrado la eficacia de estos algoritmos:\n",
    "\n",
    "*   Un estudio sobre el análisis de datos de sensores para el reconocimiento de\n",
    "emociones logró una tasa de reconocimiento del 92,5 % utilizando XGBoost y LightGBM para nueve clases de emociones diferentes. [1]"
   ]
  },
  {
   "metadata": {},
   "cell_type": "markdown",
   "source": "## Multi layer perceptron (MLP)"
  },
  {
   "metadata": {
    "ExecuteTime": {
     "end_time": "2025-02-16T04:03:38.449568Z",
     "start_time": "2025-02-16T04:03:38.447464Z"
    }
   },
   "cell_type": "code",
   "source": "",
   "outputs": [],
   "execution_count": 19
  },
  {
   "metadata": {},
   "cell_type": "markdown",
   "source": "## Long Short-Term Memory (LSTM)"
  },
  {
   "metadata": {
    "ExecuteTime": {
     "end_time": "2025-02-16T04:03:38.454843Z",
     "start_time": "2025-02-16T04:03:38.450571Z"
    }
   },
   "cell_type": "code",
   "source": [
    "HIDDEN_SIZE = 128  # LSTM hidden units\n",
    "NUM_LAYERS = 2  # Number of LSTM layers \n",
    "DROPOUT_RATE = 0.1  # Lower dropout to avoid under-learning\n",
    "BATCH_SIZE = 32  # Batch size for training\n",
    "LEARNING_RATE = 0.0003  # Adjusted learning rate for stability \n",
    "NUM_EPOCHS = 30  # Number of epochs to train\n",
    "OPTIMIZER_TYPE = \"AdamW\"  # C'AdamW' and 'SGD'\n",
    "WEIGHT_DECAY = 1e-4  # Regularization to prevent overfitting (used in AdamW)"
   ],
   "outputs": [],
   "execution_count": 20
  },
  {
   "metadata": {
    "ExecuteTime": {
     "end_time": "2025-02-16T04:07:14.330060Z",
     "start_time": "2025-02-16T04:07:14.325825Z"
    }
   },
   "cell_type": "code",
   "source": [
    "# 🔹 LSTM Model Definition\n",
    "class LSTMClassifier(nn.Module):\n",
    "    def __init__(self, input_size, hidden_size=HIDDEN_SIZE, num_layers=NUM_LAYERS, dropout_rate=DROPOUT_RATE):\n",
    "        super(LSTMClassifier, self).__init__()\n",
    "        self.lstm = nn.LSTM(input_size, hidden_size, num_layers, batch_first=True, dropout=dropout_rate)\n",
    "        self.bn = nn.BatchNorm1d(hidden_size)  # Batch Normalization for stability\n",
    "        self.fc = nn.Linear(hidden_size, 1)  # One output neuron for binary classification\n",
    "        self.sigmoid = nn.Sigmoid()\n",
    "\n",
    "    def forward(self, x):\n",
    "        _, (hn, _) = self.lstm(x)\n",
    "        out = self.bn(hn[-1])  # Apply batch normalization\n",
    "        out = self.fc(out)  # Fully connected layer\n",
    "        return self.sigmoid(out)  # Keep shape as (batch_size, 1)\n"
   ],
   "outputs": [],
   "execution_count": 25
  },
  {
   "metadata": {
    "ExecuteTime": {
     "end_time": "2025-02-16T04:07:26.902450Z",
     "start_time": "2025-02-16T04:07:26.897118Z"
    }
   },
   "cell_type": "code",
   "source": [
    "# 🔹 Training Function for a Specific Label\n",
    "def train_lstm_for_label(label, X_train, y_train, X_val, y_val):\n",
    "    print(f\"\\n🔹 Training LSTM for {label.upper()} classification...\\n\")\n",
    "\n",
    "    # Convert dataset to PyTorch tensors\n",
    "    X_train_tensor = torch.tensor(X_train.values, dtype=torch.float32).unsqueeze(1)  # Add sequence dim\n",
    "    X_val_tensor = torch.tensor(X_val.values, dtype=torch.float32).unsqueeze(1)\n",
    "\n",
    "    # Convert labels to tensors (flattened to match output shape)\n",
    "    y_train_tensor = torch.tensor(y_train[label].values, dtype=torch.float32).view(-1)\n",
    "    y_val_tensor = torch.tensor(y_val[label].values, dtype=torch.float32).view(-1)\n",
    "\n",
    "    # 🔹 Compute Class Weights for Imbalance Handling\n",
    "    num_pos = y_train[label].sum()\n",
    "    num_neg = len(y_train[label]) - num_pos\n",
    "    weight_pos = num_neg / (num_pos + 1e-5)  # Avoid divide-by-zero\n",
    "    weight_neg = 1.0\n",
    "    class_weights = torch.tensor([weight_neg, weight_pos], dtype=torch.float32)\n",
    "\n",
    "    # Create DataLoader\n",
    "    train_dataset = TensorDataset(X_train_tensor, y_train_tensor)\n",
    "    train_loader = DataLoader(train_dataset, batch_size=BATCH_SIZE, shuffle=True)\n",
    "\n",
    "    # Initialize model\n",
    "    model = LSTMClassifier(input_size=X_train.shape[1])\n",
    "\n",
    "    # Loss function\n",
    "    criterion = nn.BCELoss()\n",
    "\n",
    "    # 🔹 Optimizer Selection\n",
    "    if OPTIMIZER_TYPE == \"AdamW\":\n",
    "        optimizer = optim.AdamW(model.parameters(), lr=LEARNING_RATE, weight_decay=WEIGHT_DECAY)\n",
    "    elif OPTIMIZER_TYPE == \"SGD\":\n",
    "        optimizer = optim.SGD(model.parameters(), lr=LEARNING_RATE, momentum=0.9)\n",
    "    else:\n",
    "        raise ValueError(\"Invalid optimizer selected! Use 'AdamW' or 'SGD'.\")\n",
    "\n",
    "    # 🔹 Training loop\n",
    "    for epoch in range(NUM_EPOCHS):\n",
    "        for inputs, labels in train_loader:\n",
    "            optimizer.zero_grad()\n",
    "            outputs = model(inputs)\n",
    "            loss = criterion(outputs.view(-1), labels)  # Ensure correct shape\n",
    "            loss.backward()\n",
    "            optimizer.step()\n",
    "\n",
    "        print(f'Epoch [{epoch+1}/{NUM_EPOCHS}], Loss: {loss.item():.4f}')\n",
    "\n",
    "    # 🔹 Evaluation\n",
    "    with torch.no_grad():\n",
    "        val_outputs = model(X_val_tensor)\n",
    "        y_prob = val_outputs.view(-1)  # Convert to (batch_size,)\n",
    "        y_pred = (y_prob > 0.5).float()  # Threshold at 0.5\n",
    "\n",
    "    # Print classification report and ROC AUC\n",
    "    print_classification_report(y_val_tensor.numpy(), y_pred.numpy(), y_prob.numpy(), label)\n"
   ],
   "outputs": [],
   "execution_count": 26
  },
  {
   "metadata": {},
   "cell_type": "markdown",
   "source": "### Clasificador para Depresión"
  },
  {
   "metadata": {
    "ExecuteTime": {
     "end_time": "2025-02-16T04:07:32.587637Z",
     "start_time": "2025-02-16T04:07:30.220779Z"
    }
   },
   "cell_type": "code",
   "source": "train_lstm_for_label(\"depression\", X_train, y_train, X_val, y_val)",
   "outputs": [
    {
     "name": "stdout",
     "output_type": "stream",
     "text": [
      "\n",
      "🔹 Training LSTM for DEPRESSION classification...\n",
      "\n",
      "Epoch [1/30], Loss: 0.6654\n",
      "Epoch [2/30], Loss: 0.6749\n",
      "Epoch [3/30], Loss: 0.6794\n",
      "Epoch [4/30], Loss: 0.6214\n",
      "Epoch [5/30], Loss: 0.6529\n",
      "Epoch [6/30], Loss: 0.6199\n",
      "Epoch [7/30], Loss: 0.6072\n",
      "Epoch [8/30], Loss: 0.6582\n",
      "Epoch [9/30], Loss: 0.6592\n",
      "Epoch [10/30], Loss: 0.5992\n",
      "Epoch [11/30], Loss: 0.6461\n",
      "Epoch [12/30], Loss: 0.5489\n",
      "Epoch [13/30], Loss: 0.5516\n",
      "Epoch [14/30], Loss: 0.6191\n",
      "Epoch [15/30], Loss: 0.6018\n",
      "Epoch [16/30], Loss: 0.4938\n",
      "Epoch [17/30], Loss: 0.5872\n",
      "Epoch [18/30], Loss: 0.7168\n",
      "Epoch [19/30], Loss: 0.4357\n",
      "Epoch [20/30], Loss: 0.5071\n",
      "Epoch [21/30], Loss: 0.6197\n",
      "Epoch [22/30], Loss: 0.5614\n",
      "Epoch [23/30], Loss: 0.5670\n",
      "Epoch [24/30], Loss: 0.5660\n",
      "Epoch [25/30], Loss: 0.7971\n",
      "Epoch [26/30], Loss: 0.5442\n",
      "Epoch [27/30], Loss: 0.5411\n",
      "Epoch [28/30], Loss: 0.7222\n",
      "Epoch [29/30], Loss: 0.4561\n",
      "Epoch [30/30], Loss: 0.5202\n",
      "\n",
      "🔹 DEPRESSION Classification Report:\n",
      "              precision    recall  f1-score   support\n",
      "\n",
      "         0.0       0.73      1.00      0.85       408\n",
      "         1.0       0.00      0.00      0.00       148\n",
      "\n",
      "    accuracy                           0.73       556\n",
      "   macro avg       0.37      0.50      0.42       556\n",
      "weighted avg       0.54      0.73      0.62       556\n",
      "\n",
      "depression ROC AUC: 0.5101\n",
      "depression Precision-Recall AUC: 0.2715\n"
     ]
    }
   ],
   "execution_count": 27
  },
  {
   "metadata": {},
   "cell_type": "markdown",
   "source": "### Clasificador para Ansiedad"
  },
  {
   "metadata": {
    "ExecuteTime": {
     "end_time": "2025-02-16T04:07:39.352971Z",
     "start_time": "2025-02-16T04:07:37.004913Z"
    }
   },
   "cell_type": "code",
   "source": "train_lstm_for_label(\"anxiety\", X_train, y_train, X_val, y_val)",
   "outputs": [
    {
     "name": "stdout",
     "output_type": "stream",
     "text": [
      "\n",
      "🔹 Training LSTM for ANXIETY classification...\n",
      "\n",
      "Epoch [1/30], Loss: 0.7093\n",
      "Epoch [2/30], Loss: 0.6875\n",
      "Epoch [3/30], Loss: 0.6692\n",
      "Epoch [4/30], Loss: 0.6787\n",
      "Epoch [5/30], Loss: 0.6909\n",
      "Epoch [6/30], Loss: 0.7085\n",
      "Epoch [7/30], Loss: 0.6910\n",
      "Epoch [8/30], Loss: 0.7025\n",
      "Epoch [9/30], Loss: 0.6757\n",
      "Epoch [10/30], Loss: 0.6872\n",
      "Epoch [11/30], Loss: 0.6913\n",
      "Epoch [12/30], Loss: 0.6610\n",
      "Epoch [13/30], Loss: 0.6900\n",
      "Epoch [14/30], Loss: 0.6629\n",
      "Epoch [15/30], Loss: 0.7097\n",
      "Epoch [16/30], Loss: 0.6764\n",
      "Epoch [17/30], Loss: 0.6709\n",
      "Epoch [18/30], Loss: 0.6631\n",
      "Epoch [19/30], Loss: 0.6979\n",
      "Epoch [20/30], Loss: 0.6485\n",
      "Epoch [21/30], Loss: 0.7004\n",
      "Epoch [22/30], Loss: 0.6846\n",
      "Epoch [23/30], Loss: 0.6390\n",
      "Epoch [24/30], Loss: 0.6752\n",
      "Epoch [25/30], Loss: 0.6659\n",
      "Epoch [26/30], Loss: 0.6580\n",
      "Epoch [27/30], Loss: 0.6686\n",
      "Epoch [28/30], Loss: 0.6962\n",
      "Epoch [29/30], Loss: 0.7221\n",
      "Epoch [30/30], Loss: 0.6471\n",
      "\n",
      "🔹 ANXIETY Classification Report:\n",
      "              precision    recall  f1-score   support\n",
      "\n",
      "         0.0       0.58      0.93      0.71       317\n",
      "         1.0       0.51      0.10      0.17       239\n",
      "\n",
      "    accuracy                           0.57       556\n",
      "   macro avg       0.54      0.51      0.44       556\n",
      "weighted avg       0.55      0.57      0.48       556\n",
      "\n",
      "anxiety ROC AUC: 0.5010\n",
      "anxiety Precision-Recall AUC: 0.4399\n"
     ]
    }
   ],
   "execution_count": 28
  },
  {
   "metadata": {},
   "cell_type": "markdown",
   "source": "### Clasificador para Estrés"
  },
  {
   "metadata": {
    "ExecuteTime": {
     "end_time": "2025-02-16T04:07:45.852171Z",
     "start_time": "2025-02-16T04:07:43.508953Z"
    }
   },
   "cell_type": "code",
   "source": "train_lstm_for_label(\"stress\", X_train, y_train, X_val, y_val)",
   "outputs": [
    {
     "name": "stdout",
     "output_type": "stream",
     "text": [
      "\n",
      "🔹 Training LSTM for STRESS classification...\n",
      "\n",
      "Epoch [1/30], Loss: 0.7218\n",
      "Epoch [2/30], Loss: 0.6827\n",
      "Epoch [3/30], Loss: 0.7115\n",
      "Epoch [4/30], Loss: 0.7095\n",
      "Epoch [5/30], Loss: 0.6867\n",
      "Epoch [6/30], Loss: 0.6882\n",
      "Epoch [7/30], Loss: 0.6666\n",
      "Epoch [8/30], Loss: 0.6837\n",
      "Epoch [9/30], Loss: 0.7177\n",
      "Epoch [10/30], Loss: 0.6846\n",
      "Epoch [11/30], Loss: 0.6886\n",
      "Epoch [12/30], Loss: 0.6906\n",
      "Epoch [13/30], Loss: 0.6882\n",
      "Epoch [14/30], Loss: 0.6969\n",
      "Epoch [15/30], Loss: 0.6710\n",
      "Epoch [16/30], Loss: 0.7068\n",
      "Epoch [17/30], Loss: 0.6856\n",
      "Epoch [18/30], Loss: 0.6551\n",
      "Epoch [19/30], Loss: 0.7161\n",
      "Epoch [20/30], Loss: 0.7422\n",
      "Epoch [21/30], Loss: 0.6840\n",
      "Epoch [22/30], Loss: 0.6667\n",
      "Epoch [23/30], Loss: 0.6928\n",
      "Epoch [24/30], Loss: 0.6646\n",
      "Epoch [25/30], Loss: 0.6426\n",
      "Epoch [26/30], Loss: 0.6352\n",
      "Epoch [27/30], Loss: 0.6549\n",
      "Epoch [28/30], Loss: 0.6965\n",
      "Epoch [29/30], Loss: 0.6951\n",
      "Epoch [30/30], Loss: 0.6643\n",
      "\n",
      "🔹 STRESS Classification Report:\n",
      "              precision    recall  f1-score   support\n",
      "\n",
      "         0.0       0.56      0.79      0.65       315\n",
      "         1.0       0.39      0.18      0.25       241\n",
      "\n",
      "    accuracy                           0.53       556\n",
      "   macro avg       0.48      0.48      0.45       556\n",
      "weighted avg       0.49      0.53      0.48       556\n",
      "\n",
      "stress ROC AUC: 0.4910\n",
      "stress Precision-Recall AUC: 0.4129\n"
     ]
    }
   ],
   "execution_count": 29
  },
  {
   "metadata": {
    "ExecuteTime": {
     "end_time": "2025-02-16T04:03:46.603729Z",
     "start_time": "2025-02-16T04:03:46.603729Z"
    }
   },
   "cell_type": "code",
   "source": "",
   "outputs": [],
   "execution_count": null
  },
  {
   "metadata": {},
   "cell_type": "markdown",
   "source": "## Convolutional Neural Network (CNN)"
  },
  {
   "metadata": {},
   "cell_type": "code",
   "source": "",
   "outputs": [],
   "execution_count": null
  },
  {
   "metadata": {},
   "cell_type": "markdown",
   "source": "# Selección de mejores modelos"
  },
  {
   "metadata": {},
   "cell_type": "markdown",
   "source": "#### Graficas de la curva ROC y DET de modelos con etiqueta de “Depression”"
  },
  {
   "metadata": {
    "ExecuteTime": {
     "end_time": "2025-02-16T04:03:46.605727Z",
     "start_time": "2025-02-16T04:03:46.605727Z"
    }
   },
   "cell_type": "code",
   "source": [
    "models = {\n",
    "    \"SVM\": SVC(**svm_depression_best_hyperparameters, probability=True, class_weight='balanced', random_state=42),\n",
    "    \"XGBoost\": XGBClassifier(**xgb_depression_best_hyperparameters, random_state=42),\n",
    "    \"LightGBM\": LGBMClassifier(**lgbm_depression_best_hyperparameters, random_state=42)\n",
    "}\n",
    "\n",
    "plt.figure(figsize=(14, 6))\n",
    "palette = sns.color_palette(\"husl\", len(models))\n",
    "models_list_depression = []\n",
    "\n",
    "for i, (name, model) in enumerate(models.items()):\n",
    "    model.fit(X_train, y_train['depression'])\n",
    "    y_prob = model.predict_proba(X_val)[:, 1]\n",
    "    fpr, tpr, _ = roc_curve(y_val['depression'], y_prob)\n",
    "    fpr_det, fnr_det, _ = det_curve(y_val['depression'], y_prob)\n",
    "\n",
    "    models_list_depression.append(model)\n",
    "\n",
    "    plt.subplot(1, 2, 1)\n",
    "    sns.lineplot(x=fpr, y=tpr, label=f\"{name} (AUC = {roc_auc_score(y_val['depression'], y_prob):.2f})\",\n",
    "                 color=palette[i])\n",
    "\n",
    "    plt.subplot(1, 2, 2)\n",
    "    sns.lineplot(x=fpr_det, y=fnr_det, label=name, color=palette[i])\n",
    "\n",
    "plt.subplot(1, 2, 1)\n",
    "plt.plot([0, 1], [0, 1], linestyle=\"--\", color=\"gray\", alpha=0.7)\n",
    "plt.xlabel(\"False Positive Rate\")\n",
    "plt.ylabel(\"True Positive Rate\")\n",
    "plt.title(\"ROC Curve Comparison\")\n",
    "plt.legend()\n",
    "\n",
    "plt.subplot(1, 2, 2)\n",
    "plt.xlabel(\"False Positive Rate\")\n",
    "plt.ylabel(\"False Negative Rate\")\n",
    "plt.title(\"DET Curve Comparison\")\n",
    "plt.legend()\n",
    "\n",
    "plt.tight_layout()\n",
    "plt.show()\n"
   ],
   "outputs": [],
   "execution_count": null
  },
  {
   "metadata": {},
   "cell_type": "markdown",
   "source": [
    "Perspectivas de la curva ROC:\n",
    "\n",
    "Puntuaciones AUC (0,49–0,51): los modelos funcionan sólo ligeramente mejor que las conjeturas aleatorias, lo que indica una falta de características predictivas sólidas.\n",
    "\n",
    "Rendimiento consistente en todos los modelos: ningún modelo supera significativamente a los demás\n",
    "\n",
    "Información sobre la curva DET:\n",
    "\n",
    "Las curvas DET muestran que las mejoras en FPR no mejoran drásticamente la FNR, lo que sugiere que los modelos están luchando con límites de decisión claros.\n"
   ]
  },
  {
   "metadata": {},
   "cell_type": "markdown",
   "source": "Guardamos la lista de la etiqueta “depression” para la siguiente sección."
  },
  {
   "metadata": {},
   "cell_type": "code",
   "source": "models_list_depression",
   "outputs": [],
   "execution_count": null
  },
  {
   "metadata": {},
   "cell_type": "markdown",
   "source": "#### Graficas de la curva ROC y DET de modelos con etiqueta de “Anxiety”"
  },
  {
   "cell_type": "code",
   "metadata": {
    "colab": {
     "base_uri": "https://localhost:8080/",
     "height": 607
    },
    "id": "wF649JlWrUu6",
    "outputId": "463d00c2-6261-4991-9d53-2633b9c837e5"
   },
   "source": [
    "models = {\n",
    "    \"SVM\": SVC(**svm_anxiety_best_hyperparameters, probability=True, class_weight='balanced', random_state=42),\n",
    "    \"XGBoost\": XGBClassifier(**xgb_anxiety_best_hyperparameters, random_state=42),\n",
    "    \"LightGBM\": LGBMClassifier(**lgbm_anxiety_best_hyperparameters, random_state=42)\n",
    "}\n",
    "\n",
    "plt.figure(figsize=(14, 6))\n",
    "palette = sns.color_palette(\"husl\", len(models))\n",
    "models_list_anxiety = []\n",
    "\n",
    "for i, (name, model) in enumerate(models.items()):\n",
    "    model.fit(X_train, y_train['anxiety'])\n",
    "    y_prob = model.predict_proba(X_val)[:, 1]\n",
    "    fpr, tpr, _ = roc_curve(y_val['anxiety'], y_prob)\n",
    "    fpr_det, fnr_det, _ = det_curve(y_val['anxiety'], y_prob)\n",
    "\n",
    "    models_list_anxiety.append(model)\n",
    "\n",
    "    plt.subplot(1, 2, 1)\n",
    "    sns.lineplot(x=fpr, y=tpr, label=f\"{name} (AUC = {roc_auc_score(y_val['anxiety'], y_prob):.2f})\",\n",
    "                 color=palette[i])\n",
    "\n",
    "    plt.subplot(1, 2, 2)\n",
    "    sns.lineplot(x=fpr_det, y=fnr_det, label=name, color=palette[i])\n",
    "\n",
    "plt.subplot(1, 2, 1)\n",
    "plt.plot([0, 1], [0, 1], linestyle=\"--\", color=\"gray\", alpha=0.7)\n",
    "plt.xlabel(\"False Positive Rate\")\n",
    "plt.ylabel(\"True Positive Rate\")\n",
    "plt.title(\"ROC Curve Comparison\")\n",
    "plt.legend()\n",
    "\n",
    "plt.subplot(1, 2, 2)\n",
    "plt.xlabel(\"False Positive Rate\")\n",
    "plt.ylabel(\"False Negative Rate\")\n",
    "plt.title(\"DET Curve Comparison\")\n",
    "plt.legend()\n",
    "\n",
    "plt.tight_layout()\n",
    "plt.show()\n"
   ],
   "outputs": [],
   "execution_count": null
  },
  {
   "cell_type": "markdown",
   "metadata": {
    "id": "Z4P1khUYFIUQ"
   },
   "source": [
    "Perspectivas de la curva ROC:\n",
    "\n",
    "AUC ligeramente superior (~0,50–0,51): aunque todavía son débiles, los modelos de ansiedad muestran una separación de clases ligeramente mejor en comparación con la depresión.\n",
    "\n",
    "Los modelos basados en árboles funcionan ligeramente mejor: XGBoost y LightGBM tienen AUC más altas que la regresión logística y SVM, lo que sugiere que existen relaciones no lineales en los datos.\n",
    "\n",
    "Información sobre la curva DET:\n",
    "\n",
    "tasas de falsos positivos y falsos negativos se distribuyen de manera más uniforme, comparada con la grafica anterior en el label “depression”.\n"
   ]
  },
  {
   "cell_type": "markdown",
   "metadata": {
    "id": "YPjtZ94drUu6"
   },
   "source": [
    "#### Graficas de la curva ROC y DET de modelos con etiqueta de \"Stress\""
   ]
  },
  {
   "cell_type": "code",
   "metadata": {
    "colab": {
     "base_uri": "https://localhost:8080/",
     "height": 607
    },
    "id": "X-QtnT6qrUu6",
    "outputId": "4f83036b-dcd5-4563-cad3-ac189e2a18c8",
    "ExecuteTime": {
     "end_time": "2025-02-16T04:03:46.607727Z",
     "start_time": "2025-02-16T04:03:46.607727Z"
    }
   },
   "source": [
    "models = {\n",
    "    \"SVM\": SVC(**svm_stress_best_hyperparameters, probability=True, class_weight='balanced', random_state=42),\n",
    "    \"XGBoost\": XGBClassifier(**xgb_stress_best_hyperparameters, random_state=42),\n",
    "    \"LightGBM\": LGBMClassifier(**lgbm_stress_best_hyperparameters, random_state=42)\n",
    "}\n",
    "\n",
    "plt.figure(figsize=(14, 6))\n",
    "palette = sns.color_palette(\"husl\", len(models))\n",
    "models_list_stress = []\n",
    "\n",
    "for i, (name, model) in enumerate(models.items()):\n",
    "    model.fit(X_train, y_train['stress'])\n",
    "    y_prob = model.predict_proba(X_val)[:, 1]\n",
    "    fpr, tpr, _ = roc_curve(y_val['stress'], y_prob)\n",
    "    fpr_det, fnr_det, _ = det_curve(y_val['stress'], y_prob)\n",
    "\n",
    "    models_list_stress.append(model)\n",
    "\n",
    "    plt.subplot(1, 2, 1)\n",
    "    sns.lineplot(x=fpr, y=tpr, label=f\"{name} (AUC = {roc_auc_score(y_val['stress'], y_prob):.2f})\",\n",
    "                 color=palette[i])\n",
    "\n",
    "    plt.subplot(1, 2, 2)\n",
    "    sns.lineplot(x=fpr_det, y=fnr_det, label=name, color=palette[i])\n",
    "\n",
    "plt.subplot(1, 2, 1)\n",
    "plt.plot([0, 1], [0, 1], linestyle=\"--\", color=\"gray\", alpha=0.7)\n",
    "plt.xlabel(\"False Positive Rate\")\n",
    "plt.ylabel(\"True Positive Rate\")\n",
    "plt.title(\"ROC Curve Comparison\")\n",
    "plt.legend()\n",
    "\n",
    "plt.subplot(1, 2, 2)\n",
    "plt.xlabel(\"False Positive Rate\")\n",
    "plt.ylabel(\"False Negative Rate\")\n",
    "plt.title(\"DET Curve Comparison\")\n",
    "plt.legend()\n",
    "\n",
    "plt.tight_layout()\n",
    "plt.show()\n"
   ],
   "outputs": [],
   "execution_count": null
  },
  {
   "cell_type": "markdown",
   "metadata": {
    "id": "J90OYSsCFhY8"
   },
   "source": [
    "Perspectivas de la curva ROC:\n",
    "\n",
    "AUC similar a la ansiedad (~0,50–0,51): los modelos funcionan ligeramente mejor que las conjeturas aleatorias, pero aún carecen de un fuerte poder predictivo.\n",
    "\n",
    "No hay un modelo destacado: a diferencia de la ansiedad, donde los modelos basados en árboles mejoraron ligeramente los resultados, todos los modelos parecen funcionar de manera similar para la detección del estrés.\n",
    "\n",
    "Regresión logística y SVM bajan ligeramente en rendimiento.\n",
    "\n",
    "Información sobre la curva DET:\n",
    "\n",
    "Posible limitación del conjunto de datos: si ningún modelo mejora significativamente los resultados, es posible que las funciones no capturen patrones relacionados con el estrés de manera efectiva.\n"
   ]
  },
  {
   "cell_type": "markdown",
   "metadata": {
    "id": "Xn9iIYFjrUu6"
   },
   "source": "# Ajuste de Hiperparámetros de los mejores modelos"
  },
  {
   "metadata": {
    "ExecuteTime": {
     "end_time": "2025-02-16T04:03:46.608728Z",
     "start_time": "2025-02-16T04:03:46.608728Z"
    }
   },
   "cell_type": "code",
   "source": "",
   "outputs": [],
   "execution_count": null
  },
  {
   "metadata": {},
   "cell_type": "markdown",
   "source": "# Selección de mejor modelo"
  },
  {
   "metadata": {},
   "cell_type": "code",
   "source": "",
   "outputs": [],
   "execution_count": null
  },
  {
   "cell_type": "markdown",
   "metadata": {
    "id": "BMaLpOLsrUu7"
   },
   "source": [
    "# Conclusiones"
   ]
  },
  {
   "metadata": {},
   "cell_type": "markdown",
   "source": "Lorem ipsum"
  },
  {
   "cell_type": "markdown",
   "metadata": {
    "id": "H9MuqelIrUu7"
   },
   "source": [
    "# Referencias"
   ]
  },
  {
   "cell_type": "markdown",
   "metadata": {
    "id": "c8E0zYH68GEy"
   },
   "source": [
    "S, G., Anand, A., Vijayvargiya, A., M, P., Moorthy, V., Kumar, S., & S, H. B. S. (2022, July 12). Emosens: Emotion recognition based on sensor data analysis using LIGHTGBM. arXiv.org. https://arxiv.org/abs/2207.14640\n",
    "\n",
    "Costa, R. (2022). The CRISP-ML Methodology: A Step-by-Step Approach to Real-World Machine Learning Projects.\n",
    "\n",
    "Piccini, N. (2023, julio 19). 101 machine learning algorithms for data science with cheat sheets. Data Science Dojo."
   ]
  }
 ],
 "metadata": {
  "colab": {
   "provenance": []
  },
  "kernelspec": {
   "display_name": "proyecto-integrador-equipo-11-RpNcPuS5-py3.10",
   "language": "python",
   "name": "python3"
  },
  "language_info": {
   "codemirror_mode": {
    "name": "ipython",
    "version": 3
   },
   "file_extension": ".py",
   "mimetype": "text/x-python",
   "name": "python",
   "nbconvert_exporter": "python",
   "pygments_lexer": "ipython3",
   "version": "3.10.13"
  },
  "widgets": {
   "application/vnd.jupyter.widget-state+json": {
    "05ade7a53f6e4a78819bdf5dabccd77e": {
     "model_module": "@jupyter-widgets/controls",
     "model_module_version": "1.5.0",
     "model_name": "DescriptionStyleModel",
     "state": {
      "_model_module": "@jupyter-widgets/controls",
      "_model_module_version": "1.5.0",
      "_model_name": "DescriptionStyleModel",
      "_view_count": null,
      "_view_module": "@jupyter-widgets/base",
      "_view_module_version": "1.2.0",
      "_view_name": "StyleView",
      "description_width": ""
     }
    },
    "0aa13783b507488085bcdd159c26ea68": {
     "model_module": "@jupyter-widgets/base",
     "model_module_version": "1.2.0",
     "model_name": "LayoutModel",
     "state": {
      "_model_module": "@jupyter-widgets/base",
      "_model_module_version": "1.2.0",
      "_model_name": "LayoutModel",
      "_view_count": null,
      "_view_module": "@jupyter-widgets/base",
      "_view_module_version": "1.2.0",
      "_view_name": "LayoutView",
      "align_content": null,
      "align_items": null,
      "align_self": null,
      "border": null,
      "bottom": null,
      "display": null,
      "flex": null,
      "flex_flow": null,
      "grid_area": null,
      "grid_auto_columns": null,
      "grid_auto_flow": null,
      "grid_auto_rows": null,
      "grid_column": null,
      "grid_gap": null,
      "grid_row": null,
      "grid_template_areas": null,
      "grid_template_columns": null,
      "grid_template_rows": null,
      "height": null,
      "justify_content": null,
      "justify_items": null,
      "left": null,
      "margin": null,
      "max_height": null,
      "max_width": null,
      "min_height": null,
      "min_width": null,
      "object_fit": null,
      "object_position": null,
      "order": null,
      "overflow": null,
      "overflow_x": null,
      "overflow_y": null,
      "padding": null,
      "right": null,
      "top": null,
      "visibility": null,
      "width": null
     }
    },
    "0bcddc160d904c8f9b5350e50eca57ee": {
     "model_module": "@jupyter-widgets/base",
     "model_module_version": "1.2.0",
     "model_name": "LayoutModel",
     "state": {
      "_model_module": "@jupyter-widgets/base",
      "_model_module_version": "1.2.0",
      "_model_name": "LayoutModel",
      "_view_count": null,
      "_view_module": "@jupyter-widgets/base",
      "_view_module_version": "1.2.0",
      "_view_name": "LayoutView",
      "align_content": null,
      "align_items": null,
      "align_self": null,
      "border": null,
      "bottom": null,
      "display": null,
      "flex": null,
      "flex_flow": null,
      "grid_area": null,
      "grid_auto_columns": null,
      "grid_auto_flow": null,
      "grid_auto_rows": null,
      "grid_column": null,
      "grid_gap": null,
      "grid_row": null,
      "grid_template_areas": null,
      "grid_template_columns": null,
      "grid_template_rows": null,
      "height": null,
      "justify_content": null,
      "justify_items": null,
      "left": null,
      "margin": null,
      "max_height": null,
      "max_width": null,
      "min_height": null,
      "min_width": null,
      "object_fit": null,
      "object_position": null,
      "order": null,
      "overflow": null,
      "overflow_x": null,
      "overflow_y": null,
      "padding": null,
      "right": null,
      "top": null,
      "visibility": null,
      "width": null
     }
    },
    "0dcb58934a8e4245af257d5bf4d1a6b9": {
     "model_module": "@jupyter-widgets/controls",
     "model_module_version": "1.5.0",
     "model_name": "HTMLModel",
     "state": {
      "_dom_classes": [],
      "_model_module": "@jupyter-widgets/controls",
      "_model_module_version": "1.5.0",
      "_model_name": "HTMLModel",
      "_view_count": null,
      "_view_module": "@jupyter-widgets/controls",
      "_view_module_version": "1.5.0",
      "_view_name": "HTMLView",
      "description": "",
      "description_tooltip": null,
      "layout": "IPY_MODEL_a6a983c527294ed99f4eba57fc086212",
      "placeholder": "​",
      "style": "IPY_MODEL_eeb0296b2f824ffa87f7816957c248b8",
      "value": "100%"
     }
    },
    "108fd7d4e10b466e82f9da051ebd69a1": {
     "model_module": "@jupyter-widgets/controls",
     "model_module_version": "1.5.0",
     "model_name": "DescriptionStyleModel",
     "state": {
      "_model_module": "@jupyter-widgets/controls",
      "_model_module_version": "1.5.0",
      "_model_name": "DescriptionStyleModel",
      "_view_count": null,
      "_view_module": "@jupyter-widgets/base",
      "_view_module_version": "1.2.0",
      "_view_name": "StyleView",
      "description_width": ""
     }
    },
    "1361706684464ed3a13be4144d2d905f": {
     "model_module": "@jupyter-widgets/base",
     "model_module_version": "1.2.0",
     "model_name": "LayoutModel",
     "state": {
      "_model_module": "@jupyter-widgets/base",
      "_model_module_version": "1.2.0",
      "_model_name": "LayoutModel",
      "_view_count": null,
      "_view_module": "@jupyter-widgets/base",
      "_view_module_version": "1.2.0",
      "_view_name": "LayoutView",
      "align_content": null,
      "align_items": null,
      "align_self": null,
      "border": null,
      "bottom": null,
      "display": null,
      "flex": null,
      "flex_flow": null,
      "grid_area": null,
      "grid_auto_columns": null,
      "grid_auto_flow": null,
      "grid_auto_rows": null,
      "grid_column": null,
      "grid_gap": null,
      "grid_row": null,
      "grid_template_areas": null,
      "grid_template_columns": null,
      "grid_template_rows": null,
      "height": null,
      "justify_content": null,
      "justify_items": null,
      "left": null,
      "margin": null,
      "max_height": null,
      "max_width": null,
      "min_height": null,
      "min_width": null,
      "object_fit": null,
      "object_position": null,
      "order": null,
      "overflow": null,
      "overflow_x": null,
      "overflow_y": null,
      "padding": null,
      "right": null,
      "top": null,
      "visibility": null,
      "width": null
     }
    },
    "15da713fd26f4270be5c49bfc60c70df": {
     "model_module": "@jupyter-widgets/base",
     "model_module_version": "1.2.0",
     "model_name": "LayoutModel",
     "state": {
      "_model_module": "@jupyter-widgets/base",
      "_model_module_version": "1.2.0",
      "_model_name": "LayoutModel",
      "_view_count": null,
      "_view_module": "@jupyter-widgets/base",
      "_view_module_version": "1.2.0",
      "_view_name": "LayoutView",
      "align_content": null,
      "align_items": null,
      "align_self": null,
      "border": null,
      "bottom": null,
      "display": null,
      "flex": null,
      "flex_flow": null,
      "grid_area": null,
      "grid_auto_columns": null,
      "grid_auto_flow": null,
      "grid_auto_rows": null,
      "grid_column": null,
      "grid_gap": null,
      "grid_row": null,
      "grid_template_areas": null,
      "grid_template_columns": null,
      "grid_template_rows": null,
      "height": null,
      "justify_content": null,
      "justify_items": null,
      "left": null,
      "margin": null,
      "max_height": null,
      "max_width": null,
      "min_height": null,
      "min_width": null,
      "object_fit": null,
      "object_position": null,
      "order": null,
      "overflow": null,
      "overflow_x": null,
      "overflow_y": null,
      "padding": null,
      "right": null,
      "top": null,
      "visibility": null,
      "width": null
     }
    },
    "1c4c3aa139064eb08a4f26395c91d59d": {
     "model_module": "@jupyter-widgets/base",
     "model_module_version": "1.2.0",
     "model_name": "LayoutModel",
     "state": {
      "_model_module": "@jupyter-widgets/base",
      "_model_module_version": "1.2.0",
      "_model_name": "LayoutModel",
      "_view_count": null,
      "_view_module": "@jupyter-widgets/base",
      "_view_module_version": "1.2.0",
      "_view_name": "LayoutView",
      "align_content": null,
      "align_items": null,
      "align_self": null,
      "border": null,
      "bottom": null,
      "display": null,
      "flex": null,
      "flex_flow": null,
      "grid_area": null,
      "grid_auto_columns": null,
      "grid_auto_flow": null,
      "grid_auto_rows": null,
      "grid_column": null,
      "grid_gap": null,
      "grid_row": null,
      "grid_template_areas": null,
      "grid_template_columns": null,
      "grid_template_rows": null,
      "height": null,
      "justify_content": null,
      "justify_items": null,
      "left": null,
      "margin": null,
      "max_height": null,
      "max_width": null,
      "min_height": null,
      "min_width": null,
      "object_fit": null,
      "object_position": null,
      "order": null,
      "overflow": null,
      "overflow_x": null,
      "overflow_y": null,
      "padding": null,
      "right": null,
      "top": null,
      "visibility": null,
      "width": null
     }
    },
    "1d4b279434944543a9fa31f1f838cd7f": {
     "model_module": "@jupyter-widgets/base",
     "model_module_version": "1.2.0",
     "model_name": "LayoutModel",
     "state": {
      "_model_module": "@jupyter-widgets/base",
      "_model_module_version": "1.2.0",
      "_model_name": "LayoutModel",
      "_view_count": null,
      "_view_module": "@jupyter-widgets/base",
      "_view_module_version": "1.2.0",
      "_view_name": "LayoutView",
      "align_content": null,
      "align_items": null,
      "align_self": null,
      "border": null,
      "bottom": null,
      "display": null,
      "flex": null,
      "flex_flow": null,
      "grid_area": null,
      "grid_auto_columns": null,
      "grid_auto_flow": null,
      "grid_auto_rows": null,
      "grid_column": null,
      "grid_gap": null,
      "grid_row": null,
      "grid_template_areas": null,
      "grid_template_columns": null,
      "grid_template_rows": null,
      "height": null,
      "justify_content": null,
      "justify_items": null,
      "left": null,
      "margin": null,
      "max_height": null,
      "max_width": null,
      "min_height": null,
      "min_width": null,
      "object_fit": null,
      "object_position": null,
      "order": null,
      "overflow": null,
      "overflow_x": null,
      "overflow_y": null,
      "padding": null,
      "right": null,
      "top": null,
      "visibility": null,
      "width": null
     }
    },
    "214d32cceace4d9baa8a57b360271068": {
     "model_module": "@jupyter-widgets/controls",
     "model_module_version": "1.5.0",
     "model_name": "HTMLModel",
     "state": {
      "_dom_classes": [],
      "_model_module": "@jupyter-widgets/controls",
      "_model_module_version": "1.5.0",
      "_model_name": "HTMLModel",
      "_view_count": null,
      "_view_module": "@jupyter-widgets/controls",
      "_view_module_version": "1.5.0",
      "_view_name": "HTMLView",
      "description": "",
      "description_tooltip": null,
      "layout": "IPY_MODEL_6ca8e70d2a394c1ca2c86b57b96aae89",
      "placeholder": "​",
      "style": "IPY_MODEL_8c774b800292420eb8ccdfeebb4df108",
      "value": "100%"
     }
    },
    "21d0e94b95744f1cb0a3b1cd7ea4742f": {
     "model_module": "@jupyter-widgets/controls",
     "model_module_version": "1.5.0",
     "model_name": "HTMLModel",
     "state": {
      "_dom_classes": [],
      "_model_module": "@jupyter-widgets/controls",
      "_model_module_version": "1.5.0",
      "_model_name": "HTMLModel",
      "_view_count": null,
      "_view_module": "@jupyter-widgets/controls",
      "_view_module_version": "1.5.0",
      "_view_name": "HTMLView",
      "description": "",
      "description_tooltip": null,
      "layout": "IPY_MODEL_9d55a01e8ad64982b28d06323a8a391b",
      "placeholder": "​",
      "style": "IPY_MODEL_b03f79d3366f44f4ab283b07958eef1a",
      "value": " 50/50 [02:11&lt;00:00,  2.39s/it]"
     }
    },
    "253dd65326044d4a9d1934dc53b41441": {
     "model_module": "@jupyter-widgets/controls",
     "model_module_version": "1.5.0",
     "model_name": "DescriptionStyleModel",
     "state": {
      "_model_module": "@jupyter-widgets/controls",
      "_model_module_version": "1.5.0",
      "_model_name": "DescriptionStyleModel",
      "_view_count": null,
      "_view_module": "@jupyter-widgets/base",
      "_view_module_version": "1.2.0",
      "_view_name": "StyleView",
      "description_width": ""
     }
    },
    "27cd690f91494f2d8695a655a2dd7913": {
     "model_module": "@jupyter-widgets/controls",
     "model_module_version": "1.5.0",
     "model_name": "HBoxModel",
     "state": {
      "_dom_classes": [],
      "_model_module": "@jupyter-widgets/controls",
      "_model_module_version": "1.5.0",
      "_model_name": "HBoxModel",
      "_view_count": null,
      "_view_module": "@jupyter-widgets/controls",
      "_view_module_version": "1.5.0",
      "_view_name": "HBoxView",
      "box_style": "",
      "children": [
       "IPY_MODEL_c5d93b5d28b14e58af14ae819aef954c",
       "IPY_MODEL_79c12e8fc90a47bc9a51120e956af08b",
       "IPY_MODEL_bf249926c42c4d1892d59633071bfd7d"
      ],
      "layout": "IPY_MODEL_b7c92cb545354c618ba5de5f10b3b3b3"
     }
    },
    "323107bb05704458bfbc9e8018fb2e48": {
     "model_module": "@jupyter-widgets/base",
     "model_module_version": "1.2.0",
     "model_name": "LayoutModel",
     "state": {
      "_model_module": "@jupyter-widgets/base",
      "_model_module_version": "1.2.0",
      "_model_name": "LayoutModel",
      "_view_count": null,
      "_view_module": "@jupyter-widgets/base",
      "_view_module_version": "1.2.0",
      "_view_name": "LayoutView",
      "align_content": null,
      "align_items": null,
      "align_self": null,
      "border": null,
      "bottom": null,
      "display": null,
      "flex": null,
      "flex_flow": null,
      "grid_area": null,
      "grid_auto_columns": null,
      "grid_auto_flow": null,
      "grid_auto_rows": null,
      "grid_column": null,
      "grid_gap": null,
      "grid_row": null,
      "grid_template_areas": null,
      "grid_template_columns": null,
      "grid_template_rows": null,
      "height": null,
      "justify_content": null,
      "justify_items": null,
      "left": null,
      "margin": null,
      "max_height": null,
      "max_width": null,
      "min_height": null,
      "min_width": null,
      "object_fit": null,
      "object_position": null,
      "order": null,
      "overflow": null,
      "overflow_x": null,
      "overflow_y": null,
      "padding": null,
      "right": null,
      "top": null,
      "visibility": null,
      "width": null
     }
    },
    "3517dbd5dfed4c198f57342e165fce1d": {
     "model_module": "@jupyter-widgets/base",
     "model_module_version": "1.2.0",
     "model_name": "LayoutModel",
     "state": {
      "_model_module": "@jupyter-widgets/base",
      "_model_module_version": "1.2.0",
      "_model_name": "LayoutModel",
      "_view_count": null,
      "_view_module": "@jupyter-widgets/base",
      "_view_module_version": "1.2.0",
      "_view_name": "LayoutView",
      "align_content": null,
      "align_items": null,
      "align_self": null,
      "border": null,
      "bottom": null,
      "display": null,
      "flex": null,
      "flex_flow": null,
      "grid_area": null,
      "grid_auto_columns": null,
      "grid_auto_flow": null,
      "grid_auto_rows": null,
      "grid_column": null,
      "grid_gap": null,
      "grid_row": null,
      "grid_template_areas": null,
      "grid_template_columns": null,
      "grid_template_rows": null,
      "height": null,
      "justify_content": null,
      "justify_items": null,
      "left": null,
      "margin": null,
      "max_height": null,
      "max_width": null,
      "min_height": null,
      "min_width": null,
      "object_fit": null,
      "object_position": null,
      "order": null,
      "overflow": null,
      "overflow_x": null,
      "overflow_y": null,
      "padding": null,
      "right": null,
      "top": null,
      "visibility": null,
      "width": null
     }
    },
    "36f7addcdde04ce291d5c98d89e88db3": {
     "model_module": "@jupyter-widgets/controls",
     "model_module_version": "1.5.0",
     "model_name": "FloatProgressModel",
     "state": {
      "_dom_classes": [],
      "_model_module": "@jupyter-widgets/controls",
      "_model_module_version": "1.5.0",
      "_model_name": "FloatProgressModel",
      "_view_count": null,
      "_view_module": "@jupyter-widgets/controls",
      "_view_module_version": "1.5.0",
      "_view_name": "ProgressView",
      "bar_style": "success",
      "description": "",
      "description_tooltip": null,
      "layout": "IPY_MODEL_dabcfe3273de41d2b5f2901359f11b38",
      "max": 50,
      "min": 0,
      "orientation": "horizontal",
      "style": "IPY_MODEL_ac0f688337474201a28a0a13fcbea870",
      "value": 50
     }
    },
    "4276fba665674f9fb333cf9be4b2f4d1": {
     "model_module": "@jupyter-widgets/controls",
     "model_module_version": "1.5.0",
     "model_name": "DescriptionStyleModel",
     "state": {
      "_model_module": "@jupyter-widgets/controls",
      "_model_module_version": "1.5.0",
      "_model_name": "DescriptionStyleModel",
      "_view_count": null,
      "_view_module": "@jupyter-widgets/base",
      "_view_module_version": "1.2.0",
      "_view_name": "StyleView",
      "description_width": ""
     }
    },
    "482327a059a94345aabcf0f5fdc5f191": {
     "model_module": "@jupyter-widgets/base",
     "model_module_version": "1.2.0",
     "model_name": "LayoutModel",
     "state": {
      "_model_module": "@jupyter-widgets/base",
      "_model_module_version": "1.2.0",
      "_model_name": "LayoutModel",
      "_view_count": null,
      "_view_module": "@jupyter-widgets/base",
      "_view_module_version": "1.2.0",
      "_view_name": "LayoutView",
      "align_content": null,
      "align_items": null,
      "align_self": null,
      "border": null,
      "bottom": null,
      "display": null,
      "flex": null,
      "flex_flow": null,
      "grid_area": null,
      "grid_auto_columns": null,
      "grid_auto_flow": null,
      "grid_auto_rows": null,
      "grid_column": null,
      "grid_gap": null,
      "grid_row": null,
      "grid_template_areas": null,
      "grid_template_columns": null,
      "grid_template_rows": null,
      "height": null,
      "justify_content": null,
      "justify_items": null,
      "left": null,
      "margin": null,
      "max_height": null,
      "max_width": null,
      "min_height": null,
      "min_width": null,
      "object_fit": null,
      "object_position": null,
      "order": null,
      "overflow": null,
      "overflow_x": null,
      "overflow_y": null,
      "padding": null,
      "right": null,
      "top": null,
      "visibility": null,
      "width": null
     }
    },
    "4cc1a3a26f4d4c9daa2649590be7f8d2": {
     "model_module": "@jupyter-widgets/controls",
     "model_module_version": "1.5.0",
     "model_name": "HTMLModel",
     "state": {
      "_dom_classes": [],
      "_model_module": "@jupyter-widgets/controls",
      "_model_module_version": "1.5.0",
      "_model_name": "HTMLModel",
      "_view_count": null,
      "_view_module": "@jupyter-widgets/controls",
      "_view_module_version": "1.5.0",
      "_view_name": "HTMLView",
      "description": "",
      "description_tooltip": null,
      "layout": "IPY_MODEL_0aa13783b507488085bcdd159c26ea68",
      "placeholder": "​",
      "style": "IPY_MODEL_e09ad255a1764e1a92f2206031336a7b",
      "value": " 50/50 [00:33&lt;00:00,  1.76it/s]"
     }
    },
    "5611a37d7fae46ffa5ad57628a523ee3": {
     "model_module": "@jupyter-widgets/base",
     "model_module_version": "1.2.0",
     "model_name": "LayoutModel",
     "state": {
      "_model_module": "@jupyter-widgets/base",
      "_model_module_version": "1.2.0",
      "_model_name": "LayoutModel",
      "_view_count": null,
      "_view_module": "@jupyter-widgets/base",
      "_view_module_version": "1.2.0",
      "_view_name": "LayoutView",
      "align_content": null,
      "align_items": null,
      "align_self": null,
      "border": null,
      "bottom": null,
      "display": null,
      "flex": null,
      "flex_flow": null,
      "grid_area": null,
      "grid_auto_columns": null,
      "grid_auto_flow": null,
      "grid_auto_rows": null,
      "grid_column": null,
      "grid_gap": null,
      "grid_row": null,
      "grid_template_areas": null,
      "grid_template_columns": null,
      "grid_template_rows": null,
      "height": null,
      "justify_content": null,
      "justify_items": null,
      "left": null,
      "margin": null,
      "max_height": null,
      "max_width": null,
      "min_height": null,
      "min_width": null,
      "object_fit": null,
      "object_position": null,
      "order": null,
      "overflow": null,
      "overflow_x": null,
      "overflow_y": null,
      "padding": null,
      "right": null,
      "top": null,
      "visibility": null,
      "width": null
     }
    },
    "56c0d6b29f3849fd9e206ec0a17982b2": {
     "model_module": "@jupyter-widgets/base",
     "model_module_version": "1.2.0",
     "model_name": "LayoutModel",
     "state": {
      "_model_module": "@jupyter-widgets/base",
      "_model_module_version": "1.2.0",
      "_model_name": "LayoutModel",
      "_view_count": null,
      "_view_module": "@jupyter-widgets/base",
      "_view_module_version": "1.2.0",
      "_view_name": "LayoutView",
      "align_content": null,
      "align_items": null,
      "align_self": null,
      "border": null,
      "bottom": null,
      "display": null,
      "flex": null,
      "flex_flow": null,
      "grid_area": null,
      "grid_auto_columns": null,
      "grid_auto_flow": null,
      "grid_auto_rows": null,
      "grid_column": null,
      "grid_gap": null,
      "grid_row": null,
      "grid_template_areas": null,
      "grid_template_columns": null,
      "grid_template_rows": null,
      "height": null,
      "justify_content": null,
      "justify_items": null,
      "left": null,
      "margin": null,
      "max_height": null,
      "max_width": null,
      "min_height": null,
      "min_width": null,
      "object_fit": null,
      "object_position": null,
      "order": null,
      "overflow": null,
      "overflow_x": null,
      "overflow_y": null,
      "padding": null,
      "right": null,
      "top": null,
      "visibility": null,
      "width": null
     }
    },
    "5badc5acc12c4a41aca6c4d55a545641": {
     "model_module": "@jupyter-widgets/controls",
     "model_module_version": "1.5.0",
     "model_name": "HBoxModel",
     "state": {
      "_dom_classes": [],
      "_model_module": "@jupyter-widgets/controls",
      "_model_module_version": "1.5.0",
      "_model_name": "HBoxModel",
      "_view_count": null,
      "_view_module": "@jupyter-widgets/controls",
      "_view_module_version": "1.5.0",
      "_view_name": "HBoxView",
      "box_style": "",
      "children": [
       "IPY_MODEL_bb8e8e370bda4dd3b49bc6a08b9f4016",
       "IPY_MODEL_36f7addcdde04ce291d5c98d89e88db3",
       "IPY_MODEL_21d0e94b95744f1cb0a3b1cd7ea4742f"
      ],
      "layout": "IPY_MODEL_ad589d8150cc40e795a3da595fb7871e"
     }
    },
    "5d0c47e4b9d54a6f99205d951d92d6f1": {
     "model_module": "@jupyter-widgets/controls",
     "model_module_version": "1.5.0",
     "model_name": "ProgressStyleModel",
     "state": {
      "_model_module": "@jupyter-widgets/controls",
      "_model_module_version": "1.5.0",
      "_model_name": "ProgressStyleModel",
      "_view_count": null,
      "_view_module": "@jupyter-widgets/base",
      "_view_module_version": "1.2.0",
      "_view_name": "StyleView",
      "bar_color": null,
      "description_width": ""
     }
    },
    "6610764214b14d9ca1fcef6f78fb75c0": {
     "model_module": "@jupyter-widgets/controls",
     "model_module_version": "1.5.0",
     "model_name": "DescriptionStyleModel",
     "state": {
      "_model_module": "@jupyter-widgets/controls",
      "_model_module_version": "1.5.0",
      "_model_name": "DescriptionStyleModel",
      "_view_count": null,
      "_view_module": "@jupyter-widgets/base",
      "_view_module_version": "1.2.0",
      "_view_name": "StyleView",
      "description_width": ""
     }
    },
    "6ba3acaaf5d344c1ac625d7ffee2dae4": {
     "model_module": "@jupyter-widgets/controls",
     "model_module_version": "1.5.0",
     "model_name": "HTMLModel",
     "state": {
      "_dom_classes": [],
      "_model_module": "@jupyter-widgets/controls",
      "_model_module_version": "1.5.0",
      "_model_name": "HTMLModel",
      "_view_count": null,
      "_view_module": "@jupyter-widgets/controls",
      "_view_module_version": "1.5.0",
      "_view_name": "HTMLView",
      "description": "",
      "description_tooltip": null,
      "layout": "IPY_MODEL_56c0d6b29f3849fd9e206ec0a17982b2",
      "placeholder": "​",
      "style": "IPY_MODEL_6610764214b14d9ca1fcef6f78fb75c0",
      "value": " 50/50 [04:30&lt;00:00,  5.78s/it]"
     }
    },
    "6ca8e70d2a394c1ca2c86b57b96aae89": {
     "model_module": "@jupyter-widgets/base",
     "model_module_version": "1.2.0",
     "model_name": "LayoutModel",
     "state": {
      "_model_module": "@jupyter-widgets/base",
      "_model_module_version": "1.2.0",
      "_model_name": "LayoutModel",
      "_view_count": null,
      "_view_module": "@jupyter-widgets/base",
      "_view_module_version": "1.2.0",
      "_view_name": "LayoutView",
      "align_content": null,
      "align_items": null,
      "align_self": null,
      "border": null,
      "bottom": null,
      "display": null,
      "flex": null,
      "flex_flow": null,
      "grid_area": null,
      "grid_auto_columns": null,
      "grid_auto_flow": null,
      "grid_auto_rows": null,
      "grid_column": null,
      "grid_gap": null,
      "grid_row": null,
      "grid_template_areas": null,
      "grid_template_columns": null,
      "grid_template_rows": null,
      "height": null,
      "justify_content": null,
      "justify_items": null,
      "left": null,
      "margin": null,
      "max_height": null,
      "max_width": null,
      "min_height": null,
      "min_width": null,
      "object_fit": null,
      "object_position": null,
      "order": null,
      "overflow": null,
      "overflow_x": null,
      "overflow_y": null,
      "padding": null,
      "right": null,
      "top": null,
      "visibility": null,
      "width": null
     }
    },
    "7047ac5e8b6a40c398e8b186843fc8cc": {
     "model_module": "@jupyter-widgets/controls",
     "model_module_version": "1.5.0",
     "model_name": "FloatProgressModel",
     "state": {
      "_dom_classes": [],
      "_model_module": "@jupyter-widgets/controls",
      "_model_module_version": "1.5.0",
      "_model_name": "FloatProgressModel",
      "_view_count": null,
      "_view_module": "@jupyter-widgets/controls",
      "_view_module_version": "1.5.0",
      "_view_name": "ProgressView",
      "bar_style": "success",
      "description": "",
      "description_tooltip": null,
      "layout": "IPY_MODEL_0bcddc160d904c8f9b5350e50eca57ee",
      "max": 50,
      "min": 0,
      "orientation": "horizontal",
      "style": "IPY_MODEL_bb23a08b2a32471cbeca7a2ad5054da6",
      "value": 50
     }
    },
    "71b2cbaf10ff47dc81fb367cde13737e": {
     "model_module": "@jupyter-widgets/controls",
     "model_module_version": "1.5.0",
     "model_name": "ProgressStyleModel",
     "state": {
      "_model_module": "@jupyter-widgets/controls",
      "_model_module_version": "1.5.0",
      "_model_name": "ProgressStyleModel",
      "_view_count": null,
      "_view_module": "@jupyter-widgets/base",
      "_view_module_version": "1.2.0",
      "_view_name": "StyleView",
      "bar_color": null,
      "description_width": ""
     }
    },
    "729be8347bbd4c7680dbcff5ae8e9ed2": {
     "model_module": "@jupyter-widgets/base",
     "model_module_version": "1.2.0",
     "model_name": "LayoutModel",
     "state": {
      "_model_module": "@jupyter-widgets/base",
      "_model_module_version": "1.2.0",
      "_model_name": "LayoutModel",
      "_view_count": null,
      "_view_module": "@jupyter-widgets/base",
      "_view_module_version": "1.2.0",
      "_view_name": "LayoutView",
      "align_content": null,
      "align_items": null,
      "align_self": null,
      "border": null,
      "bottom": null,
      "display": null,
      "flex": null,
      "flex_flow": null,
      "grid_area": null,
      "grid_auto_columns": null,
      "grid_auto_flow": null,
      "grid_auto_rows": null,
      "grid_column": null,
      "grid_gap": null,
      "grid_row": null,
      "grid_template_areas": null,
      "grid_template_columns": null,
      "grid_template_rows": null,
      "height": null,
      "justify_content": null,
      "justify_items": null,
      "left": null,
      "margin": null,
      "max_height": null,
      "max_width": null,
      "min_height": null,
      "min_width": null,
      "object_fit": null,
      "object_position": null,
      "order": null,
      "overflow": null,
      "overflow_x": null,
      "overflow_y": null,
      "padding": null,
      "right": null,
      "top": null,
      "visibility": null,
      "width": null
     }
    },
    "74f7e2a917dc4150915a47495be9baab": {
     "model_module": "@jupyter-widgets/controls",
     "model_module_version": "1.5.0",
     "model_name": "DescriptionStyleModel",
     "state": {
      "_model_module": "@jupyter-widgets/controls",
      "_model_module_version": "1.5.0",
      "_model_name": "DescriptionStyleModel",
      "_view_count": null,
      "_view_module": "@jupyter-widgets/base",
      "_view_module_version": "1.2.0",
      "_view_name": "StyleView",
      "description_width": ""
     }
    },
    "79c12e8fc90a47bc9a51120e956af08b": {
     "model_module": "@jupyter-widgets/controls",
     "model_module_version": "1.5.0",
     "model_name": "FloatProgressModel",
     "state": {
      "_dom_classes": [],
      "_model_module": "@jupyter-widgets/controls",
      "_model_module_version": "1.5.0",
      "_model_name": "FloatProgressModel",
      "_view_count": null,
      "_view_module": "@jupyter-widgets/controls",
      "_view_module_version": "1.5.0",
      "_view_name": "ProgressView",
      "bar_style": "success",
      "description": "",
      "description_tooltip": null,
      "layout": "IPY_MODEL_816d2feafc314d349f19aef3af0abc15",
      "max": 50,
      "min": 0,
      "orientation": "horizontal",
      "style": "IPY_MODEL_c94d5ad4b4344734922c9da3df1d1b22",
      "value": 50
     }
    },
    "80a614eb05c848dcab9a3b3a0d2f570f": {
     "model_module": "@jupyter-widgets/controls",
     "model_module_version": "1.5.0",
     "model_name": "ProgressStyleModel",
     "state": {
      "_model_module": "@jupyter-widgets/controls",
      "_model_module_version": "1.5.0",
      "_model_name": "ProgressStyleModel",
      "_view_count": null,
      "_view_module": "@jupyter-widgets/base",
      "_view_module_version": "1.2.0",
      "_view_name": "StyleView",
      "bar_color": null,
      "description_width": ""
     }
    },
    "816d2feafc314d349f19aef3af0abc15": {
     "model_module": "@jupyter-widgets/base",
     "model_module_version": "1.2.0",
     "model_name": "LayoutModel",
     "state": {
      "_model_module": "@jupyter-widgets/base",
      "_model_module_version": "1.2.0",
      "_model_name": "LayoutModel",
      "_view_count": null,
      "_view_module": "@jupyter-widgets/base",
      "_view_module_version": "1.2.0",
      "_view_name": "LayoutView",
      "align_content": null,
      "align_items": null,
      "align_self": null,
      "border": null,
      "bottom": null,
      "display": null,
      "flex": null,
      "flex_flow": null,
      "grid_area": null,
      "grid_auto_columns": null,
      "grid_auto_flow": null,
      "grid_auto_rows": null,
      "grid_column": null,
      "grid_gap": null,
      "grid_row": null,
      "grid_template_areas": null,
      "grid_template_columns": null,
      "grid_template_rows": null,
      "height": null,
      "justify_content": null,
      "justify_items": null,
      "left": null,
      "margin": null,
      "max_height": null,
      "max_width": null,
      "min_height": null,
      "min_width": null,
      "object_fit": null,
      "object_position": null,
      "order": null,
      "overflow": null,
      "overflow_x": null,
      "overflow_y": null,
      "padding": null,
      "right": null,
      "top": null,
      "visibility": null,
      "width": null
     }
    },
    "83d8cf1d61f74a9a98ca1018f2adbe3f": {
     "model_module": "@jupyter-widgets/controls",
     "model_module_version": "1.5.0",
     "model_name": "DescriptionStyleModel",
     "state": {
      "_model_module": "@jupyter-widgets/controls",
      "_model_module_version": "1.5.0",
      "_model_name": "DescriptionStyleModel",
      "_view_count": null,
      "_view_module": "@jupyter-widgets/base",
      "_view_module_version": "1.2.0",
      "_view_name": "StyleView",
      "description_width": ""
     }
    },
    "892d91060a5f4510854cf27efd8eb937": {
     "model_module": "@jupyter-widgets/controls",
     "model_module_version": "1.5.0",
     "model_name": "DescriptionStyleModel",
     "state": {
      "_model_module": "@jupyter-widgets/controls",
      "_model_module_version": "1.5.0",
      "_model_name": "DescriptionStyleModel",
      "_view_count": null,
      "_view_module": "@jupyter-widgets/base",
      "_view_module_version": "1.2.0",
      "_view_name": "StyleView",
      "description_width": ""
     }
    },
    "8c774b800292420eb8ccdfeebb4df108": {
     "model_module": "@jupyter-widgets/controls",
     "model_module_version": "1.5.0",
     "model_name": "DescriptionStyleModel",
     "state": {
      "_model_module": "@jupyter-widgets/controls",
      "_model_module_version": "1.5.0",
      "_model_name": "DescriptionStyleModel",
      "_view_count": null,
      "_view_module": "@jupyter-widgets/base",
      "_view_module_version": "1.2.0",
      "_view_name": "StyleView",
      "description_width": ""
     }
    },
    "97cf3ed7026842909ef17d98d35499a2": {
     "model_module": "@jupyter-widgets/controls",
     "model_module_version": "1.5.0",
     "model_name": "HTMLModel",
     "state": {
      "_dom_classes": [],
      "_model_module": "@jupyter-widgets/controls",
      "_model_module_version": "1.5.0",
      "_model_name": "HTMLModel",
      "_view_count": null,
      "_view_module": "@jupyter-widgets/controls",
      "_view_module_version": "1.5.0",
      "_view_name": "HTMLView",
      "description": "",
      "description_tooltip": null,
      "layout": "IPY_MODEL_729be8347bbd4c7680dbcff5ae8e9ed2",
      "placeholder": "​",
      "style": "IPY_MODEL_108fd7d4e10b466e82f9da051ebd69a1",
      "value": " 50/50 [00:33&lt;00:00,  1.45it/s]"
     }
    },
    "9971fbb281764404b7127673efd486cc": {
     "model_module": "@jupyter-widgets/controls",
     "model_module_version": "1.5.0",
     "model_name": "FloatProgressModel",
     "state": {
      "_dom_classes": [],
      "_model_module": "@jupyter-widgets/controls",
      "_model_module_version": "1.5.0",
      "_model_name": "FloatProgressModel",
      "_view_count": null,
      "_view_module": "@jupyter-widgets/controls",
      "_view_module_version": "1.5.0",
      "_view_name": "ProgressView",
      "bar_style": "success",
      "description": "",
      "description_tooltip": null,
      "layout": "IPY_MODEL_323107bb05704458bfbc9e8018fb2e48",
      "max": 50,
      "min": 0,
      "orientation": "horizontal",
      "style": "IPY_MODEL_71b2cbaf10ff47dc81fb367cde13737e",
      "value": 50
     }
    },
    "9d55a01e8ad64982b28d06323a8a391b": {
     "model_module": "@jupyter-widgets/base",
     "model_module_version": "1.2.0",
     "model_name": "LayoutModel",
     "state": {
      "_model_module": "@jupyter-widgets/base",
      "_model_module_version": "1.2.0",
      "_model_name": "LayoutModel",
      "_view_count": null,
      "_view_module": "@jupyter-widgets/base",
      "_view_module_version": "1.2.0",
      "_view_name": "LayoutView",
      "align_content": null,
      "align_items": null,
      "align_self": null,
      "border": null,
      "bottom": null,
      "display": null,
      "flex": null,
      "flex_flow": null,
      "grid_area": null,
      "grid_auto_columns": null,
      "grid_auto_flow": null,
      "grid_auto_rows": null,
      "grid_column": null,
      "grid_gap": null,
      "grid_row": null,
      "grid_template_areas": null,
      "grid_template_columns": null,
      "grid_template_rows": null,
      "height": null,
      "justify_content": null,
      "justify_items": null,
      "left": null,
      "margin": null,
      "max_height": null,
      "max_width": null,
      "min_height": null,
      "min_width": null,
      "object_fit": null,
      "object_position": null,
      "order": null,
      "overflow": null,
      "overflow_x": null,
      "overflow_y": null,
      "padding": null,
      "right": null,
      "top": null,
      "visibility": null,
      "width": null
     }
    },
    "a48a10e4cd65400a8213a2b98de94c22": {
     "model_module": "@jupyter-widgets/base",
     "model_module_version": "1.2.0",
     "model_name": "LayoutModel",
     "state": {
      "_model_module": "@jupyter-widgets/base",
      "_model_module_version": "1.2.0",
      "_model_name": "LayoutModel",
      "_view_count": null,
      "_view_module": "@jupyter-widgets/base",
      "_view_module_version": "1.2.0",
      "_view_name": "LayoutView",
      "align_content": null,
      "align_items": null,
      "align_self": null,
      "border": null,
      "bottom": null,
      "display": null,
      "flex": null,
      "flex_flow": null,
      "grid_area": null,
      "grid_auto_columns": null,
      "grid_auto_flow": null,
      "grid_auto_rows": null,
      "grid_column": null,
      "grid_gap": null,
      "grid_row": null,
      "grid_template_areas": null,
      "grid_template_columns": null,
      "grid_template_rows": null,
      "height": null,
      "justify_content": null,
      "justify_items": null,
      "left": null,
      "margin": null,
      "max_height": null,
      "max_width": null,
      "min_height": null,
      "min_width": null,
      "object_fit": null,
      "object_position": null,
      "order": null,
      "overflow": null,
      "overflow_x": null,
      "overflow_y": null,
      "padding": null,
      "right": null,
      "top": null,
      "visibility": null,
      "width": null
     }
    },
    "a6a983c527294ed99f4eba57fc086212": {
     "model_module": "@jupyter-widgets/base",
     "model_module_version": "1.2.0",
     "model_name": "LayoutModel",
     "state": {
      "_model_module": "@jupyter-widgets/base",
      "_model_module_version": "1.2.0",
      "_model_name": "LayoutModel",
      "_view_count": null,
      "_view_module": "@jupyter-widgets/base",
      "_view_module_version": "1.2.0",
      "_view_name": "LayoutView",
      "align_content": null,
      "align_items": null,
      "align_self": null,
      "border": null,
      "bottom": null,
      "display": null,
      "flex": null,
      "flex_flow": null,
      "grid_area": null,
      "grid_auto_columns": null,
      "grid_auto_flow": null,
      "grid_auto_rows": null,
      "grid_column": null,
      "grid_gap": null,
      "grid_row": null,
      "grid_template_areas": null,
      "grid_template_columns": null,
      "grid_template_rows": null,
      "height": null,
      "justify_content": null,
      "justify_items": null,
      "left": null,
      "margin": null,
      "max_height": null,
      "max_width": null,
      "min_height": null,
      "min_width": null,
      "object_fit": null,
      "object_position": null,
      "order": null,
      "overflow": null,
      "overflow_x": null,
      "overflow_y": null,
      "padding": null,
      "right": null,
      "top": null,
      "visibility": null,
      "width": null
     }
    },
    "aa3b3331f447435b99e2967b69615f5b": {
     "model_module": "@jupyter-widgets/controls",
     "model_module_version": "1.5.0",
     "model_name": "HBoxModel",
     "state": {
      "_dom_classes": [],
      "_model_module": "@jupyter-widgets/controls",
      "_model_module_version": "1.5.0",
      "_model_name": "HBoxModel",
      "_view_count": null,
      "_view_module": "@jupyter-widgets/controls",
      "_view_module_version": "1.5.0",
      "_view_name": "HBoxView",
      "box_style": "",
      "children": [
       "IPY_MODEL_0dcb58934a8e4245af257d5bf4d1a6b9",
       "IPY_MODEL_9971fbb281764404b7127673efd486cc",
       "IPY_MODEL_fdaf77016fc148f194364fc7ba4f075c"
      ],
      "layout": "IPY_MODEL_1c4c3aa139064eb08a4f26395c91d59d"
     }
    },
    "ac0f688337474201a28a0a13fcbea870": {
     "model_module": "@jupyter-widgets/controls",
     "model_module_version": "1.5.0",
     "model_name": "ProgressStyleModel",
     "state": {
      "_model_module": "@jupyter-widgets/controls",
      "_model_module_version": "1.5.0",
      "_model_name": "ProgressStyleModel",
      "_view_count": null,
      "_view_module": "@jupyter-widgets/base",
      "_view_module_version": "1.2.0",
      "_view_name": "StyleView",
      "bar_color": null,
      "description_width": ""
     }
    },
    "ad589d8150cc40e795a3da595fb7871e": {
     "model_module": "@jupyter-widgets/base",
     "model_module_version": "1.2.0",
     "model_name": "LayoutModel",
     "state": {
      "_model_module": "@jupyter-widgets/base",
      "_model_module_version": "1.2.0",
      "_model_name": "LayoutModel",
      "_view_count": null,
      "_view_module": "@jupyter-widgets/base",
      "_view_module_version": "1.2.0",
      "_view_name": "LayoutView",
      "align_content": null,
      "align_items": null,
      "align_self": null,
      "border": null,
      "bottom": null,
      "display": null,
      "flex": null,
      "flex_flow": null,
      "grid_area": null,
      "grid_auto_columns": null,
      "grid_auto_flow": null,
      "grid_auto_rows": null,
      "grid_column": null,
      "grid_gap": null,
      "grid_row": null,
      "grid_template_areas": null,
      "grid_template_columns": null,
      "grid_template_rows": null,
      "height": null,
      "justify_content": null,
      "justify_items": null,
      "left": null,
      "margin": null,
      "max_height": null,
      "max_width": null,
      "min_height": null,
      "min_width": null,
      "object_fit": null,
      "object_position": null,
      "order": null,
      "overflow": null,
      "overflow_x": null,
      "overflow_y": null,
      "padding": null,
      "right": null,
      "top": null,
      "visibility": null,
      "width": null
     }
    },
    "adb58e3da24e4ef5b0028fec49a32284": {
     "model_module": "@jupyter-widgets/base",
     "model_module_version": "1.2.0",
     "model_name": "LayoutModel",
     "state": {
      "_model_module": "@jupyter-widgets/base",
      "_model_module_version": "1.2.0",
      "_model_name": "LayoutModel",
      "_view_count": null,
      "_view_module": "@jupyter-widgets/base",
      "_view_module_version": "1.2.0",
      "_view_name": "LayoutView",
      "align_content": null,
      "align_items": null,
      "align_self": null,
      "border": null,
      "bottom": null,
      "display": null,
      "flex": null,
      "flex_flow": null,
      "grid_area": null,
      "grid_auto_columns": null,
      "grid_auto_flow": null,
      "grid_auto_rows": null,
      "grid_column": null,
      "grid_gap": null,
      "grid_row": null,
      "grid_template_areas": null,
      "grid_template_columns": null,
      "grid_template_rows": null,
      "height": null,
      "justify_content": null,
      "justify_items": null,
      "left": null,
      "margin": null,
      "max_height": null,
      "max_width": null,
      "min_height": null,
      "min_width": null,
      "object_fit": null,
      "object_position": null,
      "order": null,
      "overflow": null,
      "overflow_x": null,
      "overflow_y": null,
      "padding": null,
      "right": null,
      "top": null,
      "visibility": null,
      "width": null
     }
    },
    "b03f79d3366f44f4ab283b07958eef1a": {
     "model_module": "@jupyter-widgets/controls",
     "model_module_version": "1.5.0",
     "model_name": "DescriptionStyleModel",
     "state": {
      "_model_module": "@jupyter-widgets/controls",
      "_model_module_version": "1.5.0",
      "_model_name": "DescriptionStyleModel",
      "_view_count": null,
      "_view_module": "@jupyter-widgets/base",
      "_view_module_version": "1.2.0",
      "_view_name": "StyleView",
      "description_width": ""
     }
    },
    "b3f7b1091a0843638d1c32b58d95160a": {
     "model_module": "@jupyter-widgets/base",
     "model_module_version": "1.2.0",
     "model_name": "LayoutModel",
     "state": {
      "_model_module": "@jupyter-widgets/base",
      "_model_module_version": "1.2.0",
      "_model_name": "LayoutModel",
      "_view_count": null,
      "_view_module": "@jupyter-widgets/base",
      "_view_module_version": "1.2.0",
      "_view_name": "LayoutView",
      "align_content": null,
      "align_items": null,
      "align_self": null,
      "border": null,
      "bottom": null,
      "display": null,
      "flex": null,
      "flex_flow": null,
      "grid_area": null,
      "grid_auto_columns": null,
      "grid_auto_flow": null,
      "grid_auto_rows": null,
      "grid_column": null,
      "grid_gap": null,
      "grid_row": null,
      "grid_template_areas": null,
      "grid_template_columns": null,
      "grid_template_rows": null,
      "height": null,
      "justify_content": null,
      "justify_items": null,
      "left": null,
      "margin": null,
      "max_height": null,
      "max_width": null,
      "min_height": null,
      "min_width": null,
      "object_fit": null,
      "object_position": null,
      "order": null,
      "overflow": null,
      "overflow_x": null,
      "overflow_y": null,
      "padding": null,
      "right": null,
      "top": null,
      "visibility": null,
      "width": null
     }
    },
    "b46b04a91e0542fab5b0f060b0e88079": {
     "model_module": "@jupyter-widgets/controls",
     "model_module_version": "1.5.0",
     "model_name": "HBoxModel",
     "state": {
      "_dom_classes": [],
      "_model_module": "@jupyter-widgets/controls",
      "_model_module_version": "1.5.0",
      "_model_name": "HBoxModel",
      "_view_count": null,
      "_view_module": "@jupyter-widgets/controls",
      "_view_module_version": "1.5.0",
      "_view_name": "HBoxView",
      "box_style": "",
      "children": [
       "IPY_MODEL_eb7fe611280c40c4bdbe3ef3588a4f3d",
       "IPY_MODEL_da137c32a9444669a18160458ebf0c5e",
       "IPY_MODEL_4cc1a3a26f4d4c9daa2649590be7f8d2"
      ],
      "layout": "IPY_MODEL_adb58e3da24e4ef5b0028fec49a32284"
     }
    },
    "b7c92cb545354c618ba5de5f10b3b3b3": {
     "model_module": "@jupyter-widgets/base",
     "model_module_version": "1.2.0",
     "model_name": "LayoutModel",
     "state": {
      "_model_module": "@jupyter-widgets/base",
      "_model_module_version": "1.2.0",
      "_model_name": "LayoutModel",
      "_view_count": null,
      "_view_module": "@jupyter-widgets/base",
      "_view_module_version": "1.2.0",
      "_view_name": "LayoutView",
      "align_content": null,
      "align_items": null,
      "align_self": null,
      "border": null,
      "bottom": null,
      "display": null,
      "flex": null,
      "flex_flow": null,
      "grid_area": null,
      "grid_auto_columns": null,
      "grid_auto_flow": null,
      "grid_auto_rows": null,
      "grid_column": null,
      "grid_gap": null,
      "grid_row": null,
      "grid_template_areas": null,
      "grid_template_columns": null,
      "grid_template_rows": null,
      "height": null,
      "justify_content": null,
      "justify_items": null,
      "left": null,
      "margin": null,
      "max_height": null,
      "max_width": null,
      "min_height": null,
      "min_width": null,
      "object_fit": null,
      "object_position": null,
      "order": null,
      "overflow": null,
      "overflow_x": null,
      "overflow_y": null,
      "padding": null,
      "right": null,
      "top": null,
      "visibility": null,
      "width": null
     }
    },
    "bb23a08b2a32471cbeca7a2ad5054da6": {
     "model_module": "@jupyter-widgets/controls",
     "model_module_version": "1.5.0",
     "model_name": "ProgressStyleModel",
     "state": {
      "_model_module": "@jupyter-widgets/controls",
      "_model_module_version": "1.5.0",
      "_model_name": "ProgressStyleModel",
      "_view_count": null,
      "_view_module": "@jupyter-widgets/base",
      "_view_module_version": "1.2.0",
      "_view_name": "StyleView",
      "bar_color": null,
      "description_width": ""
     }
    },
    "bb8e8e370bda4dd3b49bc6a08b9f4016": {
     "model_module": "@jupyter-widgets/controls",
     "model_module_version": "1.5.0",
     "model_name": "HTMLModel",
     "state": {
      "_dom_classes": [],
      "_model_module": "@jupyter-widgets/controls",
      "_model_module_version": "1.5.0",
      "_model_name": "HTMLModel",
      "_view_count": null,
      "_view_module": "@jupyter-widgets/controls",
      "_view_module_version": "1.5.0",
      "_view_name": "HTMLView",
      "description": "",
      "description_tooltip": null,
      "layout": "IPY_MODEL_3517dbd5dfed4c198f57342e165fce1d",
      "placeholder": "​",
      "style": "IPY_MODEL_05ade7a53f6e4a78819bdf5dabccd77e",
      "value": "100%"
     }
    },
    "bcf82d7e8dfd4868a20271d52950f38b": {
     "model_module": "@jupyter-widgets/base",
     "model_module_version": "1.2.0",
     "model_name": "LayoutModel",
     "state": {
      "_model_module": "@jupyter-widgets/base",
      "_model_module_version": "1.2.0",
      "_model_name": "LayoutModel",
      "_view_count": null,
      "_view_module": "@jupyter-widgets/base",
      "_view_module_version": "1.2.0",
      "_view_name": "LayoutView",
      "align_content": null,
      "align_items": null,
      "align_self": null,
      "border": null,
      "bottom": null,
      "display": null,
      "flex": null,
      "flex_flow": null,
      "grid_area": null,
      "grid_auto_columns": null,
      "grid_auto_flow": null,
      "grid_auto_rows": null,
      "grid_column": null,
      "grid_gap": null,
      "grid_row": null,
      "grid_template_areas": null,
      "grid_template_columns": null,
      "grid_template_rows": null,
      "height": null,
      "justify_content": null,
      "justify_items": null,
      "left": null,
      "margin": null,
      "max_height": null,
      "max_width": null,
      "min_height": null,
      "min_width": null,
      "object_fit": null,
      "object_position": null,
      "order": null,
      "overflow": null,
      "overflow_x": null,
      "overflow_y": null,
      "padding": null,
      "right": null,
      "top": null,
      "visibility": null,
      "width": null
     }
    },
    "bf249926c42c4d1892d59633071bfd7d": {
     "model_module": "@jupyter-widgets/controls",
     "model_module_version": "1.5.0",
     "model_name": "HTMLModel",
     "state": {
      "_dom_classes": [],
      "_model_module": "@jupyter-widgets/controls",
      "_model_module_version": "1.5.0",
      "_model_name": "HTMLModel",
      "_view_count": null,
      "_view_module": "@jupyter-widgets/controls",
      "_view_module_version": "1.5.0",
      "_view_name": "HTMLView",
      "description": "",
      "description_tooltip": null,
      "layout": "IPY_MODEL_5611a37d7fae46ffa5ad57628a523ee3",
      "placeholder": "​",
      "style": "IPY_MODEL_892d91060a5f4510854cf27efd8eb937",
      "value": " 50/50 [02:08&lt;00:00,  2.69s/it]"
     }
    },
    "c3c8f4cf8cdc44bc94816bb787a81cb3": {
     "model_module": "@jupyter-widgets/controls",
     "model_module_version": "1.5.0",
     "model_name": "HBoxModel",
     "state": {
      "_dom_classes": [],
      "_model_module": "@jupyter-widgets/controls",
      "_model_module_version": "1.5.0",
      "_model_name": "HBoxModel",
      "_view_count": null,
      "_view_module": "@jupyter-widgets/controls",
      "_view_module_version": "1.5.0",
      "_view_name": "HBoxView",
      "box_style": "",
      "children": [
       "IPY_MODEL_d1a3c02fb23e490496f3fb186a6f6d09",
       "IPY_MODEL_7047ac5e8b6a40c398e8b186843fc8cc",
       "IPY_MODEL_97cf3ed7026842909ef17d98d35499a2"
      ],
      "layout": "IPY_MODEL_a48a10e4cd65400a8213a2b98de94c22"
     }
    },
    "c5d93b5d28b14e58af14ae819aef954c": {
     "model_module": "@jupyter-widgets/controls",
     "model_module_version": "1.5.0",
     "model_name": "HTMLModel",
     "state": {
      "_dom_classes": [],
      "_model_module": "@jupyter-widgets/controls",
      "_model_module_version": "1.5.0",
      "_model_name": "HTMLModel",
      "_view_count": null,
      "_view_module": "@jupyter-widgets/controls",
      "_view_module_version": "1.5.0",
      "_view_name": "HTMLView",
      "description": "",
      "description_tooltip": null,
      "layout": "IPY_MODEL_b3f7b1091a0843638d1c32b58d95160a",
      "placeholder": "​",
      "style": "IPY_MODEL_253dd65326044d4a9d1934dc53b41441",
      "value": "100%"
     }
    },
    "c94d5ad4b4344734922c9da3df1d1b22": {
     "model_module": "@jupyter-widgets/controls",
     "model_module_version": "1.5.0",
     "model_name": "ProgressStyleModel",
     "state": {
      "_model_module": "@jupyter-widgets/controls",
      "_model_module_version": "1.5.0",
      "_model_name": "ProgressStyleModel",
      "_view_count": null,
      "_view_module": "@jupyter-widgets/base",
      "_view_module_version": "1.2.0",
      "_view_name": "StyleView",
      "bar_color": null,
      "description_width": ""
     }
    },
    "d1a3c02fb23e490496f3fb186a6f6d09": {
     "model_module": "@jupyter-widgets/controls",
     "model_module_version": "1.5.0",
     "model_name": "HTMLModel",
     "state": {
      "_dom_classes": [],
      "_model_module": "@jupyter-widgets/controls",
      "_model_module_version": "1.5.0",
      "_model_name": "HTMLModel",
      "_view_count": null,
      "_view_module": "@jupyter-widgets/controls",
      "_view_module_version": "1.5.0",
      "_view_name": "HTMLView",
      "description": "",
      "description_tooltip": null,
      "layout": "IPY_MODEL_bcf82d7e8dfd4868a20271d52950f38b",
      "placeholder": "​",
      "style": "IPY_MODEL_83d8cf1d61f74a9a98ca1018f2adbe3f",
      "value": "100%"
     }
    },
    "da137c32a9444669a18160458ebf0c5e": {
     "model_module": "@jupyter-widgets/controls",
     "model_module_version": "1.5.0",
     "model_name": "FloatProgressModel",
     "state": {
      "_dom_classes": [],
      "_model_module": "@jupyter-widgets/controls",
      "_model_module_version": "1.5.0",
      "_model_name": "FloatProgressModel",
      "_view_count": null,
      "_view_module": "@jupyter-widgets/controls",
      "_view_module_version": "1.5.0",
      "_view_name": "ProgressView",
      "bar_style": "success",
      "description": "",
      "description_tooltip": null,
      "layout": "IPY_MODEL_e7e32bd30e0847789139bf5d111b6695",
      "max": 50,
      "min": 0,
      "orientation": "horizontal",
      "style": "IPY_MODEL_5d0c47e4b9d54a6f99205d951d92d6f1",
      "value": 50
     }
    },
    "dabcfe3273de41d2b5f2901359f11b38": {
     "model_module": "@jupyter-widgets/base",
     "model_module_version": "1.2.0",
     "model_name": "LayoutModel",
     "state": {
      "_model_module": "@jupyter-widgets/base",
      "_model_module_version": "1.2.0",
      "_model_name": "LayoutModel",
      "_view_count": null,
      "_view_module": "@jupyter-widgets/base",
      "_view_module_version": "1.2.0",
      "_view_name": "LayoutView",
      "align_content": null,
      "align_items": null,
      "align_self": null,
      "border": null,
      "bottom": null,
      "display": null,
      "flex": null,
      "flex_flow": null,
      "grid_area": null,
      "grid_auto_columns": null,
      "grid_auto_flow": null,
      "grid_auto_rows": null,
      "grid_column": null,
      "grid_gap": null,
      "grid_row": null,
      "grid_template_areas": null,
      "grid_template_columns": null,
      "grid_template_rows": null,
      "height": null,
      "justify_content": null,
      "justify_items": null,
      "left": null,
      "margin": null,
      "max_height": null,
      "max_width": null,
      "min_height": null,
      "min_width": null,
      "object_fit": null,
      "object_position": null,
      "order": null,
      "overflow": null,
      "overflow_x": null,
      "overflow_y": null,
      "padding": null,
      "right": null,
      "top": null,
      "visibility": null,
      "width": null
     }
    },
    "e09ad255a1764e1a92f2206031336a7b": {
     "model_module": "@jupyter-widgets/controls",
     "model_module_version": "1.5.0",
     "model_name": "DescriptionStyleModel",
     "state": {
      "_model_module": "@jupyter-widgets/controls",
      "_model_module_version": "1.5.0",
      "_model_name": "DescriptionStyleModel",
      "_view_count": null,
      "_view_module": "@jupyter-widgets/base",
      "_view_module_version": "1.2.0",
      "_view_name": "StyleView",
      "description_width": ""
     }
    },
    "e7e32bd30e0847789139bf5d111b6695": {
     "model_module": "@jupyter-widgets/base",
     "model_module_version": "1.2.0",
     "model_name": "LayoutModel",
     "state": {
      "_model_module": "@jupyter-widgets/base",
      "_model_module_version": "1.2.0",
      "_model_name": "LayoutModel",
      "_view_count": null,
      "_view_module": "@jupyter-widgets/base",
      "_view_module_version": "1.2.0",
      "_view_name": "LayoutView",
      "align_content": null,
      "align_items": null,
      "align_self": null,
      "border": null,
      "bottom": null,
      "display": null,
      "flex": null,
      "flex_flow": null,
      "grid_area": null,
      "grid_auto_columns": null,
      "grid_auto_flow": null,
      "grid_auto_rows": null,
      "grid_column": null,
      "grid_gap": null,
      "grid_row": null,
      "grid_template_areas": null,
      "grid_template_columns": null,
      "grid_template_rows": null,
      "height": null,
      "justify_content": null,
      "justify_items": null,
      "left": null,
      "margin": null,
      "max_height": null,
      "max_width": null,
      "min_height": null,
      "min_width": null,
      "object_fit": null,
      "object_position": null,
      "order": null,
      "overflow": null,
      "overflow_x": null,
      "overflow_y": null,
      "padding": null,
      "right": null,
      "top": null,
      "visibility": null,
      "width": null
     }
    },
    "e985acde769f46d7adcf762de377ecb5": {
     "model_module": "@jupyter-widgets/controls",
     "model_module_version": "1.5.0",
     "model_name": "FloatProgressModel",
     "state": {
      "_dom_classes": [],
      "_model_module": "@jupyter-widgets/controls",
      "_model_module_version": "1.5.0",
      "_model_name": "FloatProgressModel",
      "_view_count": null,
      "_view_module": "@jupyter-widgets/controls",
      "_view_module_version": "1.5.0",
      "_view_name": "ProgressView",
      "bar_style": "success",
      "description": "",
      "description_tooltip": null,
      "layout": "IPY_MODEL_15da713fd26f4270be5c49bfc60c70df",
      "max": 50,
      "min": 0,
      "orientation": "horizontal",
      "style": "IPY_MODEL_80a614eb05c848dcab9a3b3a0d2f570f",
      "value": 50
     }
    },
    "eb7fe611280c40c4bdbe3ef3588a4f3d": {
     "model_module": "@jupyter-widgets/controls",
     "model_module_version": "1.5.0",
     "model_name": "HTMLModel",
     "state": {
      "_dom_classes": [],
      "_model_module": "@jupyter-widgets/controls",
      "_model_module_version": "1.5.0",
      "_model_name": "HTMLModel",
      "_view_count": null,
      "_view_module": "@jupyter-widgets/controls",
      "_view_module_version": "1.5.0",
      "_view_name": "HTMLView",
      "description": "",
      "description_tooltip": null,
      "layout": "IPY_MODEL_482327a059a94345aabcf0f5fdc5f191",
      "placeholder": "​",
      "style": "IPY_MODEL_4276fba665674f9fb333cf9be4b2f4d1",
      "value": "100%"
     }
    },
    "eeb0296b2f824ffa87f7816957c248b8": {
     "model_module": "@jupyter-widgets/controls",
     "model_module_version": "1.5.0",
     "model_name": "DescriptionStyleModel",
     "state": {
      "_model_module": "@jupyter-widgets/controls",
      "_model_module_version": "1.5.0",
      "_model_name": "DescriptionStyleModel",
      "_view_count": null,
      "_view_module": "@jupyter-widgets/base",
      "_view_module_version": "1.2.0",
      "_view_name": "StyleView",
      "description_width": ""
     }
    },
    "f1c009a0fa76499c892083316f420ef7": {
     "model_module": "@jupyter-widgets/controls",
     "model_module_version": "1.5.0",
     "model_name": "HBoxModel",
     "state": {
      "_dom_classes": [],
      "_model_module": "@jupyter-widgets/controls",
      "_model_module_version": "1.5.0",
      "_model_name": "HBoxModel",
      "_view_count": null,
      "_view_module": "@jupyter-widgets/controls",
      "_view_module_version": "1.5.0",
      "_view_name": "HBoxView",
      "box_style": "",
      "children": [
       "IPY_MODEL_214d32cceace4d9baa8a57b360271068",
       "IPY_MODEL_e985acde769f46d7adcf762de377ecb5",
       "IPY_MODEL_6ba3acaaf5d344c1ac625d7ffee2dae4"
      ],
      "layout": "IPY_MODEL_1d4b279434944543a9fa31f1f838cd7f"
     }
    },
    "fdaf77016fc148f194364fc7ba4f075c": {
     "model_module": "@jupyter-widgets/controls",
     "model_module_version": "1.5.0",
     "model_name": "HTMLModel",
     "state": {
      "_dom_classes": [],
      "_model_module": "@jupyter-widgets/controls",
      "_model_module_version": "1.5.0",
      "_model_name": "HTMLModel",
      "_view_count": null,
      "_view_module": "@jupyter-widgets/controls",
      "_view_module_version": "1.5.0",
      "_view_name": "HTMLView",
      "description": "",
      "description_tooltip": null,
      "layout": "IPY_MODEL_1361706684464ed3a13be4144d2d905f",
      "placeholder": "​",
      "style": "IPY_MODEL_74f7e2a917dc4150915a47495be9baab",
      "value": " 50/50 [00:30&lt;00:00,  1.75it/s]"
     }
    }
   }
  }
 },
 "nbformat": 4,
 "nbformat_minor": 0
}
